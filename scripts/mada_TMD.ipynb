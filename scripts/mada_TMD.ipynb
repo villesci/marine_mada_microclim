{
 "cells": [
  {
   "cell_type": "code",
   "execution_count": 1,
   "id": "8247fd9b",
   "metadata": {},
   "outputs": [],
   "source": [
    "import os\n",
    "import pyproj\n",
    "import datetime\n",
    "from datetime import timedelta\n",
    "import numpy as np\n",
    "import matplotlib\n",
    "matplotlib.rcParams['axes.linewidth'] = 2.0\n",
    "matplotlib.rcParams[\"animation.html\"] = \"jshtml\"\n",
    "import matplotlib.pyplot as plt\n",
    "import matplotlib.animation as animation\n",
    "import cartopy as crs\n",
    "import ffmpeg\n",
    "import csv\n",
    "import IPython.display\n",
    "\n",
    "import ipywidgets \n",
    "from IPython.display import HTML\n",
    "from __future__ import print_function\n",
    "\n",
    "\n",
    "# import tide programs\n",
    "import pyTMD.io\n",
    "import pyTMD.predict\n",
    "import pyTMD.solve\n",
    "import pyTMD.tools\n",
    "import pyTMD.utilities\n",
    "import timescale.time\n",
    "\n",
    "\n",
    "\n",
    "# autoreload\n",
    "%load_ext autoreload\n",
    "%autoreload 2\n",
    "\n",
    "# available model list\n",
    "model_list = sorted(pyTMD.io.model.ocean_elevation())\n",
    "# display widgets for setting directory and model\n",
    "TMDwidgets = pyTMD.tools.widgets()\n",
    "TMDwidgets.directory.value = 'C:/Users/drewv/Documents/Python/TMD/data/tpxo9_model/TPXO9_atlas_nc'\n",
    "\n",
    "TMDwidgets.model.value = 'TPXO9-atlas-v5-nc'\n",
    "TMDwidgets.compress.value= False\n",
    "\n"
   ]
  },
  {
   "cell_type": "code",
   "execution_count": 2,
   "id": "836dffce",
   "metadata": {},
   "outputs": [
    {
     "name": "stdout",
     "output_type": "stream",
     "text": [
      "3.10.15\n"
     ]
    }
   ],
   "source": [
    "from platform import python_version\n",
    "\n",
    "print(python_version())"
   ]
  },
  {
   "cell_type": "code",
   "execution_count": 6,
   "id": "e48948af",
   "metadata": {
    "scrolled": true
   },
   "outputs": [
    {
     "data": {
      "application/vnd.jupyter.widget-view+json": {
       "model_id": "eda825be79b1480785a68b08cea68c8c",
       "version_major": 2,
       "version_minor": 0
      },
      "text/plain": [
       "Map(center=[-22.6, 43.25], controls=(AttributionControl(options=['position', 'prefix'], position='bottomright'…"
      ]
     },
     "execution_count": 6,
     "metadata": {},
     "output_type": "execute_result"
    }
   ],
   "source": [
    "\n",
    "LAT,LON = (-22.6, 43.25)\n",
    "m = pyTMD.tools.leaflet(center=(LAT,LON), zoom=12,\n",
    "    zoom_control=True, marker_control=True)\n",
    "# show map\n",
    "m.map\n",
    "\n"
   ]
  },
  {
   "cell_type": "code",
   "execution_count": 7,
   "id": "3ee34e3f",
   "metadata": {},
   "outputs": [
    {
     "data": {
      "text/plain": [
       "datetime.date(2025, 7, 21)"
      ]
     },
     "execution_count": 7,
     "metadata": {},
     "output_type": "execute_result"
    }
   ],
   "source": [
    "TMDwidgets.datepick.value"
   ]
  },
  {
   "cell_type": "code",
   "execution_count": 8,
   "id": "b7a6baec",
   "metadata": {},
   "outputs": [],
   "source": [
    "%matplotlib widget\n",
    "\n",
    "# get model parameters\n",
    "model = pyTMD.io.model(TMDwidgets.directory.value,\n",
    "    compressed=TMDwidgets.compress.value\n",
    "   ).elevation(TMDwidgets.model.value)\n",
    "\n",
    "# convert from calendar date to days relative to Jan 1, 1992 (48622 MJD)\n",
    "YMD = TMDwidgets.datepick.value\n",
    "# calculate a weeks forecast every minute\n",
    "minutes = np.arange(7*1440)\n",
    "# convert time from MJD to days relative to Jan 1, 1992 (48622 MJD)\n",
    "ts = timescale.time.Timescale().from_calendar(YMD.year, YMD.month,\n",
    "    YMD.day, minute=minutes)\n",
    "hours = minutes/60.0\n"
   ]
  },
  {
   "cell_type": "code",
   "execution_count": null,
   "id": "5d9b8f53",
   "metadata": {},
   "outputs": [],
   "source": [
    "# create plot with tidal displacements, high and low tides and dates\n",
    "fig,ax1 = plt.subplots(num=1)\n",
    "xmax = np.ceil(hours[-1]).astype('i')\n",
    "l1, = ax1.plot([], [], 'k')\n",
    "l2, = ax1.plot([], [], 'r*')\n",
    "l3, = ax1.plot([], [], 'b*')\n",
    "for h in range(24,xmax,24):\n",
    "    ax1.axvline(h,color='gray',lw=0.5,ls='dashed',dashes=(11,5))\n",
    "ax1.set_xlim(0,xmax)\n",
    "ax1.set_ylabel(f'{model.name} Tidal Displacement [cm]')\n",
    "args = (YMD.year,YMD.month,YMD.day)\n",
    "ax1.set_xlabel('Time from {0:4d}-{1:02d}-{2:02d} UTC [Hours]'.format(*args))\n",
    "ttl = ax1.set_title(None)\n",
    "fig.subplots_adjust(left=0.11,right=0.98,bottom=0.10,top=0.95)\n",
    "\n",
    "# delta time (TT - UT1) file\n",
    "delta_file = pyTMD.utilities.get_data_path(['data','merged_deltat.data'])\n",
    "\n",
    "# read tidal constants and interpolate to leaflet points\n",
    "if model.format in ('OTIS','ATLAS-compact','TMD3'):\n",
    "    constituents = pyTMD.io.OTIS.read_constants(\n",
    "        model.grid_file, model.model_file,\n",
    "        model.projection, type=model.type,\n",
    "        grid=model.file_format)\n",
    "    c = constituents.fields\n",
    "    DELTAT = np.zeros_like(ts.tide)\n",
    "elif (model.format == 'ATLAS-netcdf'):\n",
    "    constituents = pyTMD.io.ATLAS.read_constants(\n",
    "        model.grid_file, model.model_file,\n",
    "        type=model.type, compressed=model.compressed)\n",
    "    c = constituents.fields\n",
    "    DELTAT = np.zeros_like(ts.tide)\n",
    "elif model.format in ('GOT-ascii', 'GOT-netcdf'):\n",
    "    constituents = pyTMD.io.GOT.read_constants(\n",
    "        model.model_file, grid=model.file_format,\n",
    "        compressed=model.compressed)\n",
    "    c = constituents.fields\n",
    "    # delta time (TT - UT1)\n",
    "    DELTAT = ts.tt_ut1\n",
    "elif (model.format == 'FES-netcdf'):\n",
    "    constituents = pyTMD.io.FES.read_constants(model.model_file,\n",
    "        type=model.type, version=model.version,\n",
    "        compressed=model.compressed)\n",
    "    c = model.constituents\n",
    "    # delta time (TT - UT1)\n",
    "    DELTAT = ts.tt_ut1\n",
    "\n",
    "# update the tide prediction and plot\n",
    "def update_tide_prediction(*args):\n",
    "    # leaflet location\n",
    "    LAT,LON = np.copy(m.marker.location)\n",
    "    # verify longitudes\n",
    "    LON = m.wrap_longitudes(LON)\n",
    "    if model.format in ('OTIS','ATLAS-compact','TMD3'):\n",
    "        amp,ph,D = pyTMD.io.OTIS.interpolate_constants(\n",
    "            np.atleast_1d(LON), np.atleast_1d(LAT),\n",
    "            constituents, model.projection, type=model.type,\n",
    "            method='spline', extrapolate=True)\n",
    "    elif (model.format == 'ATLAS-netcdf'):\n",
    "        amp,ph,D = pyTMD.io.ATLAS.interpolate_constants(\n",
    "            np.atleast_1d(LON), np.atleast_1d(LAT),\n",
    "            constituents, type=model.type, scale=model.scale,\n",
    "            method='spline', extrapolate=True)\n",
    "    elif model.format in ('GOT-ascii', 'GOT-netcdf'):\n",
    "        amp,ph = pyTMD.io.GOT.interpolate_constants(\n",
    "            np.atleast_1d(LON), np.atleast_1d(LAT),\n",
    "            constituents, scale=model.scale,\n",
    "            method='spline', extrapolate=True)\n",
    "    elif (model.format == 'FES-netcdf'):\n",
    "        amp,ph = pyTMD.io.FES.interpolate_constants(\n",
    "            np.atleast_1d(LON), np.atleast_1d(LAT),\n",
    "            constituents, scale=model.scale,\n",
    "            method='spline', extrapolate=True)\n",
    "    # calculate complex phase in radians for Euler's\n",
    "    cph = -1j*ph*np.pi/180.0\n",
    "    # calculate constituent oscillation\n",
    "    hc = amp*np.exp(cph)\n",
    "    # predict tidal elevations at time and infer minor corrections\n",
    "    TIDE = pyTMD.predict.time_series(ts.tide, hc, c,\n",
    "        deltat=DELTAT, corrections=model.corrections)\n",
    "    MINOR = pyTMD.predict.infer_minor(ts.tide, hc, c,\n",
    "        deltat=DELTAT, corrections=model.corrections)\n",
    "    TIDE.data[:] += MINOR.data[:]\n",
    "    # convert to centimeters\n",
    "    TIDE.data[:] *= 100.0\n",
    "\n",
    "    # differentiate to calculate high and low tides\n",
    "    diff = np.zeros_like(ts.tide, dtype=np.float64)\n",
    "    # forward differentiation for starting point\n",
    "    diff[0] = TIDE.data[1] - TIDE.data[0]\n",
    "    # backward differentiation for end point\n",
    "    diff[-1] = TIDE.data[-1] - TIDE.data[-2]\n",
    "    # centered differentiation for all others\n",
    "    diff[1:-1] = (TIDE.data[2:] - TIDE.data[0:-2])/2.0\n",
    "    # indices of high and low tides\n",
    "    htindex, = np.nonzero((np.sign(diff[0:-1]) >= 0) & (np.sign(diff[1:]) < 0))\n",
    "    ltindex, = np.nonzero((np.sign(diff[0:-1]) <= 0) & (np.sign(diff[1:]) > 0))\n",
    "    # update plot data\n",
    "    l1.set_data(hours, TIDE.data)\n",
    "    l2.set_data(hours[htindex], TIDE.data[htindex])\n",
    "    l3.set_data(hours[ltindex], TIDE.data[ltindex])\n",
    "    # update plot title\n",
    "    ttl.set_text(u'{0:0.6f}\\u00b0N {1:0.6f}\\u00b0E'.format(LAT,LON))\n",
    "    ax1.relim()\n",
    "    ax1.autoscale_view()\n",
    "    fig.canvas.draw()\n",
    "\n",
    "# run tide prediction at initial location\n",
    "update_tide_prediction()\n",
    "# watch marker location for changes\n",
    "m.marker_text.observe(update_tide_prediction)\n"
   ]
  },
  {
   "cell_type": "code",
   "execution_count": null,
   "id": "ddaaa652",
   "metadata": {},
   "outputs": [],
   "source": [
    "\n",
    "    \n",
    "    # After calculating TIDE.data, add this code to write to CSV:\n",
    "csv_filename = f\"tide_prediction_{LAT:.4f}N_{LON:.4f}W.csv\"\n",
    "\n",
    "# Create a list of datetime objects\n",
    "start_date = YMD\n",
    "datetimes = [start_date + timedelta(minutes=int(minutes)) for minutes in minutes]\n",
    "with open(csv_filename, 'w', newline='') as csvfile:\n",
    "    csvwriter = csv.writer(csvfile)\n",
    "    # Write the header\n",
    "    csvwriter.writerow(['Datetime', 'Tidal Height (cm)'])\n",
    "    \n",
    "    # Write the data\n",
    "    for dt, height in zip(datetimes, TIDE.data):\n",
    "        csvwriter.writerow([dt.strftime('%Y-%m-%d %H:%M:%S'), f\"{height*100:.2f}\"])\n",
    "print(f\"CSV file saved as {csv_filename}\")\n",
    "# create a HTML table with values\n",
    "# HTML table header\n",
    "table.value = \"\"\"<table>\n",
    "\t<thead>\n",
    "\t<tr>\n",
    "\t\t<th style=\"text-align:center; padding: 10px\">Constituent</th>\n",
    "\t\t<th style=\"text-align:center; padding: 10px\">Original Amplitude</th>\n",
    "\t\t<th style=\"text-align:center; padding: 10px\">Original Phase</th>\n",
    "\t\t<th style=\"text-align:center; padding: 10px\">Solution Amplitude</th>\n",
    "\t\t<th style=\"text-align:center; padding: 10px\">Solution Phase</th>\n",
    "\t</tr>\n",
    "\t</thead>\n",
    "\t<tbody>\n",
    "\"\"\"\n",
    "# print the original and solution amplitudes and phases to table\n",
    "for i,con in enumerate(c):\n",
    "    table.value += f\"\"\"\n",
    "        <tr>\n",
    "\t\t    <td style=\"text-align:center\">{con}</td>\n",
    "\t\t    <td style=\"text-align:center\">{100*amp.data[0,i]:0.1f}cm</td>\n",
    "            <td style=\"text-align:center\">{ph.data[0,i]:0.1f}\\u00b0</td>\n",
    "\t\t    <td style=\"text-align:center\">{100*famp[i]:0.1f}cm</td>\n",
    "            <td style=\"text-align:center\">{fph[i]:0.1f}\\u00b0</td>\n",
    "        </tr>\n",
    "    \"\"\"\n",
    "# close HTML table\n",
    "table.value += \"\"\"\n",
    "    </tbody>\n",
    "</table>\n",
    "\"\"\"\n"
   ]
  },
  {
   "cell_type": "code",
   "execution_count": null,
   "id": "59047f56",
   "metadata": {},
   "outputs": [],
   "source": []
  }
 ],
 "metadata": {
  "kernelspec": {
   "display_name": "tide_env",
   "language": "python",
   "name": "tide_env"
  },
  "language_info": {
   "codemirror_mode": {
    "name": "ipython",
    "version": 3
   },
   "file_extension": ".py",
   "mimetype": "text/x-python",
   "name": "python",
   "nbconvert_exporter": "python",
   "pygments_lexer": "ipython3",
   "version": "3.10.15"
  },
  "widgets": {
   "application/vnd.jupyter.widget-state+json": {
    "state": {
     "030512959e81416bb0f6327073506dfb": {
      "model_module": "@jupyter-widgets/controls",
      "model_module_version": "2.0.0",
      "model_name": "CheckboxStyleModel",
      "state": {
       "description_width": ""
      }
     },
     "06e1f407e3e84607808239fb4a440db5": {
      "model_module": "@jupyter-widgets/base",
      "model_module_version": "2.0.0",
      "model_name": "LayoutModel",
      "state": {
       "display": "inline-flex"
      }
     },
     "09f2dfc441584b34a0ddeb10328e306f": {
      "model_module": "@jupyter-widgets/controls",
      "model_module_version": "2.0.0",
      "model_name": "DescriptionStyleModel",
      "state": {
       "description_width": ""
      }
     },
     "0db7ad5426fc477c8be40d788c44267e": {
      "model_module": "@jupyter-widgets/controls",
      "model_module_version": "2.0.0",
      "model_name": "DatePickerModel",
      "state": {
       "description": "Date:",
       "disabled": false,
       "layout": "IPY_MODEL_68f4353e7b11468fbae66a1833b84d8d",
       "max": null,
       "min": null,
       "step": 1,
       "style": "IPY_MODEL_4e5d1e58a7514c369d434a04f20c4825",
       "value": {
        "date": 22,
        "month": 4,
        "year": 2023
       }
      }
     },
     "14159f1fedda4a7d9ed335d2473070a1": {
      "model_module": "@jupyter-widgets/controls",
      "model_module_version": "2.0.0",
      "model_name": "DescriptionStyleModel",
      "state": {
       "description_width": ""
      }
     },
     "163035b9407e4ca5a35fdbc92b991ce1": {
      "model_module": "@jupyter-widgets/controls",
      "model_module_version": "2.0.0",
      "model_name": "CheckboxModel",
      "state": {
       "description": "Compressed?",
       "disabled": false,
       "layout": "IPY_MODEL_75bad7105c4d4ee780d5071c84046569",
       "style": "IPY_MODEL_030512959e81416bb0f6327073506dfb",
       "value": true
      }
     },
     "1869757dafcb4e3c85309bc928c2b131": {
      "model_module": "@jupyter-widgets/controls",
      "model_module_version": "2.0.0",
      "model_name": "SliderStyleModel",
      "state": {
       "description_width": ""
      }
     },
     "1a04da40669647e1811109ece943adf9": {
      "model_module": "@jupyter-widgets/controls",
      "model_module_version": "2.0.0",
      "model_name": "TextModel",
      "state": {
       "description": "Directory:",
       "layout": "IPY_MODEL_dfc469b7e01440e088a0f09bbd36dbc5",
       "style": "IPY_MODEL_9382bc02e9d747239e520b4719940e5a",
       "value": "C:/Users/drewv/Documents/Python/code"
      }
     },
     "1a44716563234cc7b621ef85eb13d338": {
      "model_module": "@jupyter-widgets/base",
      "model_module_version": "2.0.0",
      "model_name": "LayoutModel",
      "state": {}
     },
     "1a8baa86059c4ecdb4042fb43637550f": {
      "model_module": "@jupyter-widgets/controls",
      "model_module_version": "2.0.0",
      "model_name": "CheckboxStyleModel",
      "state": {
       "description_width": ""
      }
     },
     "1b2da72d84f7432d874d27505810bb70": {
      "model_module": "@jupyter-widgets/base",
      "model_module_version": "2.0.0",
      "model_name": "LayoutModel",
      "state": {}
     },
     "1b44294d70974416a916e5da21c3dcf8": {
      "model_module": "@jupyter-widgets/controls",
      "model_module_version": "2.0.0",
      "model_name": "TextStyleModel",
      "state": {
       "description_width": "",
       "font_size": null,
       "text_color": null
      }
     },
     "1dcd5d03eb874b14bc295c34b4e0768e": {
      "model_module": "jupyter-leaflet",
      "model_module_version": "^0.17",
      "model_name": "LeafletMapStyleModel",
      "state": {
       "_model_module_version": "^0.17",
       "cursor": "move"
      }
     },
     "1e66ad36c50c4245a35f9e3d5fc06e71": {
      "model_module": "@jupyter-widgets/base",
      "model_module_version": "2.0.0",
      "model_name": "LayoutModel",
      "state": {}
     },
     "2a53270acb1647c79b18b833831f0990": {
      "model_module": "jupyter-leaflet",
      "model_module_version": "^0.17",
      "model_name": "LeafletWidgetControlModel",
      "state": {
       "_model_module": "jupyter-leaflet",
       "_model_module_version": "^0.17",
       "_view_count": null,
       "_view_module": "jupyter-leaflet",
       "_view_module_version": "^0.17",
       "options": [
        "position",
        "transparent_bg"
       ],
       "position": "bottomright",
       "widget": "IPY_MODEL_bc36a2ceedda4db5973601e9f1fd486b"
      }
     },
     "2e296ff920b64bc8b4e770e6193e5588": {
      "model_module": "@jupyter-widgets/controls",
      "model_module_version": "2.0.0",
      "model_name": "DropdownModel",
      "state": {
       "_options_labels": [
        "AODTM-5",
        "AOTIM-5",
        "AOTIM-5-2018",
        "Arc2kmTM",
        "CATS0201",
        "CATS2008",
        "CATS2022",
        "EOT20",
        "FES2014",
        "GOT4.10",
        "GOT4.7",
        "GOT4.8",
        "Gr1km-v2",
        "Gr1kmTM",
        "HAMTIDE11",
        "TPXO7.2",
        "TPXO8-atlas",
        "TPXO9-atlas",
        "TPXO9-atlas-v2",
        "TPXO9-atlas-v3",
        "TPXO9-atlas-v4",
        "TPXO9-atlas-v5",
        "TPXO9.1"
       ],
       "description": "Model:",
       "index": 21,
       "layout": "IPY_MODEL_39cf8f6eccf64305802b8a9e4ef22233",
       "style": "IPY_MODEL_e9e2278805e549068becb8888d02afac"
      }
     },
     "30a9068307a34af98398b1ab00e77d8d": {
      "model_module": "@jupyter-widgets/controls",
      "model_module_version": "2.0.0",
      "model_name": "VBoxModel",
      "state": {
       "children": [
        "IPY_MODEL_4b8be49f03f045e8ac268008b1c67cbd",
        "IPY_MODEL_3a6bb8bd9beb4cdabd3b92e03046ee04",
        "IPY_MODEL_c7c6833dddba4cd99e7316e3819f47bf"
       ],
       "layout": "IPY_MODEL_ee69c6680c8a4165989bd7977bb4eeba"
      }
     },
     "3270d6f2dce343f0b09dc6b3b8af1140": {
      "model_module": "@jupyter-widgets/controls",
      "model_module_version": "2.0.0",
      "model_name": "CheckboxModel",
      "state": {
       "description": "Compressed?",
       "disabled": false,
       "layout": "IPY_MODEL_5d598edbb7eb410c950c626835475a00",
       "style": "IPY_MODEL_1a8baa86059c4ecdb4042fb43637550f",
       "value": false
      }
     },
     "32c1cfa60d7c4b89a37c9305b1585057": {
      "model_module": "jupyter-leaflet",
      "model_module_version": "^0.17",
      "model_name": "LeafletZoomControlModel",
      "state": {
       "_model_module_version": "^0.17",
       "_view_module_version": "^0.17",
       "options": [
        "position",
        "zoom_in_text",
        "zoom_in_title",
        "zoom_out_text",
        "zoom_out_title"
       ]
      }
     },
     "33ea2c95732649e4adae60fa02f829e6": {
      "model_module": "@jupyter-widgets/controls",
      "model_module_version": "2.0.0",
      "model_name": "DropdownModel",
      "state": {
       "_options_labels": [
        "OTIS",
        "netcdf"
       ],
       "description": "ATLAS:",
       "index": 1,
       "layout": "IPY_MODEL_e4a93d4fe6c846f28a6758c2fa56e315",
       "style": "IPY_MODEL_09f2dfc441584b34a0ddeb10328e306f"
      }
     },
     "35c5827993b64bdeab9eed65006b8c4c": {
      "model_module": "@jupyter-widgets/base",
      "model_module_version": "2.0.0",
      "model_name": "LayoutModel",
      "state": {}
     },
     "36e6b3cd95fa40608f50f121e214d0a3": {
      "model_module": "jupyter-matplotlib",
      "model_module_version": "^0.11",
      "model_name": "ToolbarModel",
      "state": {
       "_current_action": "pan",
       "_model_module_version": "^0.11",
       "_view_module_version": "^0.11",
       "collapsed": true,
       "layout": "IPY_MODEL_1a44716563234cc7b621ef85eb13d338",
       "orientation": "vertical",
       "toolitems": [
        [
         "Home",
         "Reset original view",
         "home",
         "home"
        ],
        [
         "Back",
         "Back to previous view",
         "arrow-left",
         "back"
        ],
        [
         "Forward",
         "Forward to next view",
         "arrow-right",
         "forward"
        ],
        [
         "Pan",
         "Left button pans, Right button zooms\nx/y fixes axis, CTRL fixes aspect",
         "arrows",
         "pan"
        ],
        [
         "Zoom",
         "Zoom to rectangle\nx/y fixes axis",
         "square-o",
         "zoom"
        ],
        [
         "Download",
         "Download plot",
         "floppy-o",
         "save_figure"
        ]
       ]
      }
     },
     "39cf8f6eccf64305802b8a9e4ef22233": {
      "model_module": "@jupyter-widgets/base",
      "model_module_version": "2.0.0",
      "model_name": "LayoutModel",
      "state": {}
     },
     "3a6bb8bd9beb4cdabd3b92e03046ee04": {
      "model_module": "@jupyter-widgets/controls",
      "model_module_version": "2.0.0",
      "model_name": "DropdownModel",
      "state": {
       "_options_labels": [
        "OTIS",
        "netcdf"
       ],
       "description": "ATLAS:",
       "index": 1,
       "layout": "IPY_MODEL_e141fc859baf419c99e0feabeb5eadc9",
       "style": "IPY_MODEL_d9b46e944a0a4e47bf9019e5ef11bb24"
      }
     },
     "3d18113647064d6a80446185b4fc276b": {
      "model_module": "@jupyter-widgets/controls",
      "model_module_version": "2.0.0",
      "model_name": "DescriptionStyleModel",
      "state": {
       "description_width": ""
      }
     },
     "3f7ce86e84da4516ac52d45e2c36f979": {
      "model_module": "jupyter-leaflet",
      "model_module_version": "^0.17",
      "model_name": "LeafletWidgetControlModel",
      "state": {
       "_model_module": "jupyter-leaflet",
       "_model_module_version": "^0.17",
       "_view_count": null,
       "_view_module": "jupyter-leaflet",
       "_view_module_version": "^0.17",
       "options": [
        "position",
        "transparent_bg"
       ],
       "position": "topright",
       "widget": "IPY_MODEL_6fe9abcd1fd24f03b0a41762f5a3c319"
      }
     },
     "41548b94887e478ba9ac9c2101fc2e3e": {
      "model_module": "@jupyter-widgets/controls",
      "model_module_version": "2.0.0",
      "model_name": "DropdownModel",
      "state": {
       "_options_labels": [
        "AODTM-5",
        "AOTIM-5",
        "AOTIM-5-2018",
        "Arc2kmTM",
        "CATS0201",
        "CATS2008",
        "CATS2022",
        "EOT20",
        "FES2014",
        "GOT4.10",
        "GOT4.7",
        "GOT4.8",
        "Gr1km-v2",
        "Gr1kmTM",
        "HAMTIDE11",
        "TPXO7.2",
        "TPXO8-atlas",
        "TPXO9-atlas",
        "TPXO9-atlas-v2",
        "TPXO9-atlas-v3",
        "TPXO9-atlas-v4",
        "TPXO9-atlas-v5",
        "TPXO9.1"
       ],
       "description": "Model:",
       "index": 21,
       "layout": "IPY_MODEL_f37180c1ecfa40ad88c4b6c1cb7d8170",
       "style": "IPY_MODEL_4323c1a3239f4811ae1671e3f678d0d2"
      }
     },
     "4323c1a3239f4811ae1671e3f678d0d2": {
      "model_module": "@jupyter-widgets/controls",
      "model_module_version": "2.0.0",
      "model_name": "DescriptionStyleModel",
      "state": {
       "description_width": ""
      }
     },
     "448e79a125e74c409c0dae84be18e5d8": {
      "model_module": "jupyter-matplotlib",
      "model_module_version": "^0.11",
      "model_name": "MPLCanvasModel",
      "state": {
       "_cursor": "default",
       "_data_url": "data:image/png;base64,iVBORw0KGgoAAAANSUhEUgAAAoAAAAHgCAYAAAA10dzkAAAAAXNSR0IArs4c6QAAIABJREFUeF7snQW4HdX19tdNcAIEC1YIFqR4cIfi0OIEDV6cYMFdC8EJ7hBCcQhQghV3mkCQQnELEoK7nu/5zZ91v8lkZM/ec86599y1noeHljuz95535sx+Z8m72mq1Wk3MDAFDwBAwBAwBQ8AQMAS6DAJtRgC7zL22CzUEDAFDwBAwBAwBQyBCwAigPQiGgCFgCKQg8NNPP8nEE09s2LQIAnY/W+RG2mVUhoARwMqgtIEMgfoi8O9//1uGDh0qjz32mHzwwQcy44wzyl/+8hc5/vjjZaaZZmqf/Pvvv5crrrhChg0bJi+++KJ8++23Mvfcc8suu+wS/dO9e/fChc4+++zy7rvvjnfcrrvuKhdeeGH7f7/yyitlhx12SB3vo48+itaodv3118sdd9whTz/9tLzxxhuy8sory0MPPZR67uuvvy5HHnlkdK2ff/65zDbbbLLVVlvJwIEDZbLJJms/Z5VVVpGHH354vDHWWmstufvuu9v/+/bbby9XXXVV5nWD5yyzzBL9/bPPPovmuv/++6N5wZJ51I455hg59thjpVevXvL222+Psx6OAbsFF1xQ7rzzzkKc9YBffvlFFllkEXnllVfk1FNPja5T7cMPP5SDDjpInn32WeF/c//mmWce2XPPPWXbbbeVtra23Hk4j2t/8MEH5Z133pFpp51WlllmGTnhhBOiceKWN9bqq68u9913X/vhJ554YnQv+WfMmDFy9NFHC9ik2XXXXSeDBg2S//73vzLFFFPI+uuvL6eccopMN910mWvn3q+44orR3z/99NPxjh09erTst99+cu+998rvv/8uq666qpx55pky55xzjjPmyJEjo/v52muvyfLLLy/XXnutzDrrrNEx6667rjz55JPRMxa/9ueee0769u0b3f/k7+CBBx6Q1VZbTS666KLo92RmCHRWBIwAdtY7Z+vucggsscQS0Ua12WabSZ8+feStt96Sc889NyIgzz//fDvZeumll2ThhReONqk111xTppxySrnnnnvk1ltvjQhDHhFSUCExU089tRxwwAHj4AxhWGqppdr/mxLA4447TuaYY45xjt10001lkkkmaf9vkKgRI0bIkksuGa2XNaYRwPfffz/621RTTSW77babTDPNNNEmzVwQB4itGmO++eab8o9//GOcuWeeeeaIHKtxPsfFjfRnxudaX3755fY//f3vf4/IAuTiP//5j1x88cUR0Zt88smjY5QA8r9PO+208TDyIYBnnHGGHHXUUfLdd9+NRwBfeOEFGTBgQEReICSQRYjY7bffLoceeqicdNJJub8F7sPjjz8ePTfg+vHHH0fPDR8GTz31VERW1a655prxxgKDs88+OyJwBx54YPvfIUwQfIgrz1cWAbzgggtkjz32iJ7HjTfeOPp4YTw+SiCP8WdEB4fQLb744sKHAJgkCSBrh6B99dVXEf4TTjhhRP64pzxbkFw1nlmeBcgez/4PP/wgd911V/RnsDv88MMFjBdaaKH2c8CH+//rr78Kz+Of/vSn9r/xwcW94pn585//3OXeQ3bBrYOAEcDWuZd2JS2OwCOPPCIrrLCCdOvWrf1K+W940tjE8OhgY8eOlU8++UQWWGCBcRDZcccdI28Wmyqbb565khglgHiZIKh5xkaKl431Qzrw/qQRQN2UIbLxa9huu+3k6quvjkgw5BSDAHK9HFvW1MOEJ+uwww5rP5214WmF2GCLLbaYXHrppREhwZQALrroooKXE3I46aSTtp/vip2egPcMkgKRgVgkPYBZ1/W3v/0t8upBgvK8uk888UR0byaaaKL2oXgGIDyQwzTSF59z5513lssvv1zee++9cYgQ3kSuFfynn376VAL4888/ywwzzNBO9tXLhneU9Z9zzjmy9957j3eJeJmPOOII2WabbSKymCSAkNGDDz5YnnnmmeiDAnv11Vej5wpvqZJi1ga2PDMYWEHmvvnmm+j/6+/n/PPPl9133719HVtuuaXgScfbd8kll8gWW2zR/je8y3zIsKYi72vZZ9KONwQaiYARwEaibXMZAnVAAG8HROjmm2/OHZ3wKx40PEdsvnmmJOaWW26JPE7q/UqeEyeA8847b+SNdAkx5xHAQw45JAoPJjd9/jvk6Ouvv25fjxJAvD4//vij9OjRwxlhvFIQDTypXK8aGEFoIIWEDyHOkDwNVyoBBBs8Wqeffrrsv//+3gSQ8fEmESYlfOlKACFO5513XuQhixNQVwCU0EJmsoy8Obx8kF3IZprlEUDwYx7WCd5xIxSMRxLvZNwga5A2vMqQY8LtyWdBvdAQwLhBzvD0kmKA4UnkvvFxtM4668hll10Wef9YF8Yzg6cZ72icCONp3WeffaJj8fINHjy4fTw+Pvjo4ndkZgh0ZgSMAHbmu2dr7/IIEAqDAJLjRk5SnuHJIGcJj9Cyyy5bSADZfPHg/Pbbb9K7d+8oJMamGDclgBAv1oKXiU0YUkSYOsvyCCC5e2zWEDE2f66PNbN2yBKhPjUIIH/DE6PeJkK4eNIIC2YZpJa8yfnmmy/KM4wb3kSugXy7CSaYQM4666wo305NCSCkZPPNN4/IW9wLWMYDCIHhXrAG1kMYPYsAErqE7IEzeY+sCS9lkkC5/CgIlZIHh4eV8G2WkTYAyeXZwROYZnkEkND7csstF3kQk7mi5FByLfwT92pzXVzfqFGjovzWJAGE1PGhwbOA5y5u5I1C9vhIgGBi//znP6O5IbM8SxA31qTG/+Ze49HE8FRDAHmuIID/+te/2gkja4IM84GCp9HMEOjMCBgB7Mx3z9be5RFgs2PTo0AknvOWBAZyRCgTEkF+G8QmzyBfhJvx6lEUAdF79NFHo02PzU/thhtukOHDh0cJ+OQa4k0in40NGi+LJtsn58ojgBzLdRHGY71q8TC3/reddtop2qwJZ0KObrrppmiD79evn1B0kmUagkyG/vR4wn8QQcaOF7Lw9zgBpKgBbxDXDEHGXAkgJIxijLnmmisqTICA5BHAk08+Ocr5UyOnjpB+FsZ59xdvV//+/SOPGEQqywgRgxV5gz179kw9LI8A8jeIHnMQRlf73//+F5FvjGM0Z49cPHL7IF7kr8axVg+szoeHkGc/btxPCCThYJ5dNc7BM4g3T4mh/o1nGtKthUB4YiGMhIv5XeEt/+KLL6Lz8GTutddeEemOk8gu/yIyADolAkYAO+Vts0UbAv+Xv6SJ9XlkB6zwnuHFwZtBMnxZg6zglWNDxNsVT4pPjoU3a6WVVormjFcMx48rIoAQFP7ZZJNNInLAuiE75IyxAeeZXiveJwhWmlEVClkkhy9eMOCCS5KUQLyp3iWUTCjWlQByPZAVyBAkrogAUo1K7h6eR0gZeZ4QnmQlb9E1QI6WXnrpyPsHqc8K2eNFI3+P+064O8vyCCDnkD9HegIEdqONNhKqdwlfQ57xxMaLLPDoQrRIV8DSCKB66NK8cHga+SigihdPnYvxwbDBBhtEnkLWyto4n+f4yy+/jIqQ8JKuscYaUTUxXlHIYTyn0mUeO8YQ6GgIGAHsaHfE1tOlEcBTpwnrCgT5aMlNmk1cq0IhgkmvRhxEvBt4OQinkVjva2yCa6+9tgwZMiRKzs8zwpoQFc3FSh6bRwDxwOAxwlMZJ5p4ZfA4UoyQR9rUu5R1vYQcITYQNyUaZTBJkhItJFAvoAsBhFxB3JDVIcSJFRHA5BohuoTLuV7XHEA8eTw3EC8qgKmWzjIIKvcBogwR9yWAkCWqz+M5czw/eFkhlnjX8C7yEYNXEs+rktqqPIB59xcPN78xyDi5fnggIXvq6eZZxRPKWkiF4B/uuZkh0NkRMALY2e+grb+lEKAqlnBq3PC4xYsU8ICwiRPGJRQV1wBMgkHolk0cooEcR4jhscFrRFUmsiR5RggWHb0kmdVz8ggg3kPyDpO5bZqPhgQKmnRZBrGgaIWQLKQsaRr+VI9PWUzSSAn3DFKOF3D++ecv1AEkRxGpEbxMqmtICBLdO4pPyGOEnOV5mdC/U71D/l1kEDE8bBBoPH9FEiZgjAQMnsY8QewiD6Cui3khuUqiCKHygUCuKUa4neunKluN/EueN9IJIO1gUjYHsAgX/g4WXCO4QEbxWOIVxCDa3Fd+S3hqXaR3XOa0YwyBZiNgBLDZd8DmNwRiCOANSVZlkounWml4K/j/ECvIQ16hBXp5eG423HDDyHMWT7T3AV3z5shXQyYjz5AdQWoD71Sa5RFAcreotMRDFTeugaILcg7xRGYZHiRyAskhjOfM6fGENMEOYhMXlXbFJI0AUrQAuaJABdJSJARdJEzNWorCmNxf7i2eMwh3nlHtSk4dzxbEvKgIiNA43lfWSZ5gnrkSwPgYhFYhdDyfPE9YkaQKBS9Ue2NIv3B8sgqYayTXL6n5WHRvIXmEj3nGWBOkFK8gBvEjLMwHFB5K3zSKojXY3w2BRiNgBLDRiNt8hoAnAhQ5aL4Zkhwq45E2HCEqvEJs9BCmLA8OoUA2S6Qw1JMIueT/x8POHIeXC70/ctG0MIIwr26Uug4S+Ndbb73IS4j3piwBJOke7xZdTOL5beSPEUbEA4oniDAq1xW/NnIVIaeQIsgO4by4sV7O5Rg0BX0sjQAyjnoBWQMEOK8TCB4tPGJxg3TgqYV04X1iPO5DGsacR6EOcxAqV11HyBj/4E1Tcos3lUpe7guk0SUHFCKLtE1RcRHr8CGAaO4hsA3JVx2/2267bbzbQToA95J7BSFV7zjhWWSB4vqTfGzgoaaLCvmGZYzx0Znk98L1gKka/5uPEv6GcDUfYVkFMWXmtGMNgWYjYASw2XfA5jcEHBHA28MGTkg3GSZGhoW/YxA0vCXkE9KpgurcuKG9xj+Y5p2x+eHpwPg3VbjkPVGVCiHES4NnLelVwwNJdTGEB7ICscGTAplkc8bLowYp1dwpcq0gKCTsY4R9+QfjGIgueX4UfPBviA5EFikSilkwwuUQOf6BAFExTJiY0DEenTRZHMKueHPInXMJm6bdmiwCGA/fQ4DLtIKL34ukDMy+++4bXRNeT4gd94MQJfhyLRTGqOna+EDQ9nWcDxGHWKd5CtPyObmfeAEh21meY3JBedYIudOJhWdSK9HxlBHqxSBjPDsUnpC2ANGD4POMUdmdZ1lY413muePfED4kfwj3Q3bxEiY/Sop+YoR4qcbGIODkP8aN8SCGeJapVDYzBFoBASOArXAX7Rq6BAJZ/Xm5eDZb1TFLyyOMAxRv2ZVGAPGcUZgAmcP7RB4aFZV49BDMjRtFJYTEyFOECED8ID/MESd/nBNvoZa8Yck2YoT2OJ4wKB4XiCgklWIWlbBhTrpBQIQoboCokH9H/hwEMC2kiBeHzV576vo8OFmkhLG0N3GVBJCcR0ie3g/SASDwkGEwiV9nGgHM6pes147HMm5aRIMHED3HLMsbN05AeT6QbKFSGoLG2hk7+SylzZOHNTmT8V7AGoIv6nKTdT10qeG5wDPJMxQ3PLJ4n/FcJrUHfZ4hO8cQ6AgIGAHsCHfB1mAIGAKGgCFgCBgChkADETAC2ECwbSpDwBAwBAwBQ8AQMAQ6AgJGADvCXbA1GAKGgCFgCBgChoAh0EAEjAA2EGybyhAwBAwBQ8AQMAQMgY6AgBHAjnAXbA2GgCFgCBgChoAhYAg0EAEjgA0E26YyBAwBQ8AQMAQMAUOgIyBgBLAj3AVbgyFgCBgChoAhYAgYAg1EoEsTQPqF0iKJjge9evVqIOw2lSFgCBgChoAhYAgYAuEI0EUIjU00QukY5WpdmgBC/GgsbmYIGAKGgCFgCBgChkBnRgAxfIigq3VpAkiHA3qcApr2QXUFrqsfR9utSSedtKvD4H39hp83dO0nGoZhGBp+YfhxtmEYjqGNEI4AbRtxZtESkRagrtalCSDNxUePHi20AKKtkJk7Av/85z+jHqxmfggYfn64xc8yDMMwNPzC8ONswzAcQxshHAFfLmME0Aig19NnLz4v2NpPMvzC8LPN1/ALRyB8BPsdh2NoI4QjYATQA0Nf0DymarlT7MUXdksNvzD8jAAafuEIhI9gv+NwDG2EcAR8uYx5AM0D6PX02YvPCzbzAIbBNs7Z9gyGgWn4heFnHyHh+NkI1SBgBNADR1/QPKZquVNs8wi7pYZfGH62+Rp+4QiEj2C/43AMbYRwBHy5jHkAzQPo9fTZi88LNvMAhsFmHkDDr0IEwoey92A4hjZCOAJGAD0w9AXNY6qWO+XFF1+UhRZaqOWuq1EXZPiFI20YhmFo+IXhx9mGYTiGNkI4Ar5cxjyA5gEMf/psBEPAEDAEDAFDwBBoCgJGAD1g9wXNYyo7xRAwBAwBQ8AQMAQMgcoR8OUy5gE0D6DXw0i7GVrpmfkhYPj54RY/yzAMw9DwC8OPsw3DcAxthHAEjAB6YOgLmsdULXeKJT+H3VLDLww/zjYMwzA0/MLws2cwHD8boRoEfLmMeQDNA+j1BNrm4QVb+0mGXxh+tvkafuEIhI9gv+NwDG2EcASMAHpg6Auax1Qtd4q9+MJuqeEXhp8RQMMvHIHwEex3HI6hjRCOgC+XMQ+geQC9nj578XnBZh7AMNjGOduewTAwDb8w/OwjJBw/G6EaBIwAeuDoC5rHVC13im0eYbfU8AvDzzZfwy8cgfAR7HccjqGNEI6AL5cxD6B5AL2ePnvxecFmHsAw2MwDaPhViED4UPYeDMfQRghHwAigB4a+oHlM1XKn2Isv7JYafmH4mQfQ8AtHIHwE+x2HY2gjhCPgy2XMA2geQK+n7+mnn5all17a61w7ScTwC38KDMMwDA2/MPw42zAMx9BGCEfACKAHhr6geUxlpxgChoAhYAgYAoaAIVA5Ar5cxjyA5gGs/GG0AQ0BQ8AQMAQMAUOgMQgYAfTA2Rc0j6nsFEPAEDAEDAFDwBAwBCpHwJfLmAfQPIBeD+Mtt9wiG2+8sde5dpKI4Rf+FBiGYRgafmH4cbZhGI6hjRCOgBFADwx9QfOYquVOseq3sFtq+IXhx9mGYRiGhl8YfvYMhuNnI1SDgC+XMQ+geQC9nkDbPLxgaz/J8AvDzzZfwy8cgfAR7HccjqGNEI6AEUAPDH1B85iq5U6xF1/YLTX8wvAzAmj4hSMQPoL9jsMxtBHCEfDlMuYBNA+g19NnLz4v2MwDGAbbOGfbMxgGpuEXhp99hITjZyNUg4ARQA8cfUHzmKrlTrHNI+yWGn5h+Nnma/iFIxA+gv2OwzG0EcIR8OUy5gE0D6DX02cvPi/YzAMYBpt5AA2/ChEIH8reg+EY2gjhCBgB9MDQFzSPqVrulAcffFBWXXXVlruuRl2Q4ReOtGEYhqHhF4YfZxuG4RjaCOEI+HIZ8wCaBzD86bMRDAFDwBAwBAwBQ6ApCBgB9IDdFzSPqewUQ8AQMAQMAUPAEDAEKkfAl8uYB9A8gJU/jDagIWAIGAKGgCFgCDQGASOAHjj7guYxVcudcvfdd8vaa6/dctfVqAsy/MKRNgzDMDT8wvDjbMMwHEMbIRwBXy5jHkDzAHo9fVb95gVb+0mGXxh+nG0YhmFo+IXhZ89gOH42QjUIGAH0wNEXNI+pWu4U2zzCbqnhF4afbb6GXzgC4SPY7zgcQxshHAFfLmMeQPMAej199uLzgs08gGGwjXO2PYNhYBp+YfjZR0g4fjZCNQgYAfTA0Rc0j6la7hTbPMJuqeEXhp9tvoZfOALhI9jvOBxDGyEcAV8uYx5A8wB6PX324vOCzTyAYbCZB9DwqxCB8KHsPRiOoY0QjoARQA8MfUHzmKrlTrEXX9gtNfzC8DMPoOEXjkD4CPY7DsfQRghHwJfLmAfQPIBeT9+//vUvWW+99bzOtZNEDL/wp8AwDMPQ8AvDj7MNw3AMbYRwBIwAemDoC5rHVHaKIWAIGAKGgCFgCBgClSPgy2XMA2gewMofRhvQEDAEDAFDwBAwBBqDgBFAD5x9QfOYyk4xBAwBQ8AQMAQMAUOgcgR8uYx5AM0D6PUwPvLII7LSSit5nWsniRh+4U+BYRiGoeEXhh9nG4bhGNoI4QgYAfTA0Bc0j6kac8p//iNy0EEigwaJLLFEXee06rcweA2/MPw42zAMw9DwC8PPnsFw/GyEahDw5TLmAWwlD+CAASKDB4vw77PPrubJyhjFNo8weA2/MPxs8zX8whEIH8F+x+EY2gjhCBgB9MDQFzSPqep3yrvviowdK9LWJrLOOiJjxoj06iUyfLhIrSYy3XQivXtXPr+9+MIgNfzC8DMCaPiFIxA+gv2OwzG0EcIR8OUy5gHs7B5AiN8fVhMR/l+trU3aIH/tf4j97/BnLRrBXnxhQBp+YfjZM2j4hSMQPoL9jsMxtBHCETAC6IGhL2geU9XvlKFDRbbfXuTXX8efY4IJRK68UmTrrSuf3158YZAafmH4GQE0/MIRCB/BfsfhGNoI4Qj4chnzAHZ2D6CI/PrMMzLB0kuP/xSNGCHSt2/405Uygr34wmA1/MLwMwJo+IUjED6C/Y7DMbQRwhEwAuiBoS9oHlPV9ZT/XnON/Ll/f/lNRLqLtP9b6kgAb7rpJtl0003rel2tPLjhF353DcMwDA2/MPw42zAMx9BGCEfAl8s0xQOIdtKpp54qI0aMkI8++khuvfVW2XDDDdtRqNVqcvTRR8sll1wiX375pSy//PJywQUXSJ8+fdqP+fzzz2XvvfeWO+64Q7p16yabbLKJnH322dKjRw9nNH1Bc56gQQdeecIJstaRR8rXU04pV3TrJht/+aUsOs00MtGoUSJ/+lODVmHTGAKGgCFgCBgChkCjEfDlMk0hgMOHD5fHH39cFl98cdl4443HI4CnnHKK/OMf/5CrrrpK5phjDjnyyCPlxRdflP/+978yySSTRNius846EXm86KKL5JdffpEddthBllxySbn22mudsfcFzXmCBh243XbbyXVXXy2HHnWUPD9qlAwbNkzOHjRIBhx4YINWYNMYAoaAIWAIGAKGQDMQ8OUyTSGAcYDa2trGIYB4/2aeeWY54IADZODAgdGhX331lcwwwwxy5ZVXyhZbbCGvvPKK/PnPf5Znn31WlvhD8Pjuu++WddddVz744IPofBfzBc1l7EYeA5EeOXKk3HbbbTJq1KjIewopBC8zQ8AQMAQMAUPAEGhdBHy5TIcjgG+99ZbMNddc8txzz8miiy7afsdWXnnl6P8T5r388ssjgvjFF1+0//3XX3+NvIM33nijbLTRRk532hm0BnbYcFp47CAIc8+ePeXrr7+Wl19+OfKUQpIJmz/22GNlh3M+/j//+U87+XY+yQ5sR8DwC38YDMMwDA2/MPw42zAMx9BGCEfAmcskpupwBPCJJ56IyMuHH34oM800U/ty+/XrJ3gLr7/+ejnppJOi8PD//ve/cS6nV69ecuyxx8ruu++eiuhPP/0k/KM2//zzR/PMMssskecw0xrYYaPso/Dpp58K1w0233//fUQC8Yry3z755JOywzkfb9VvzlClHmj4heHH2YZhGIaGXxh+9gyG42cjVIOAEUChAUY+ATzmmGMigpi0VALYpA4bZR+HJ598UpZbbjmZddZZ5b333os8gVNNNVU0DKHzKaecsuyQTsfb5uEEU+ZBhl8Yfrb5Gn7hCISPYL/jcAxthHAEWoYA1jMEXMoDmNZh449OG+23K95tI/weeo0wZMgQ2XbbbWXVVVeVBx54IBqDfMkxY8ZEVdZ9TQfQC9d6n2QbRzjChmEYhoZfGH72ERKOn41QDQItQwC1CIQCEPL8MLxaePeSRSDkX1AAgd17772y9tprV1cE0qQOG2Ufh+OPP16OOuoo2XHHHeWyyy6LTl9qqaWiAhmKQjbYYIOyQzodb5uHE0yZBxl+YfjZ5mv4hSMQPoL9jsMxtBHCEehUBPDbb7+VN954I7rqxRZbTM4444zIgzXNNNPIbLPNJsjAnHzyyePIwLzwwgvjycCQ43bhhRe2y8CQ+1apDMzIkSJ/EMxxblEdBZbLPgrkO4IBJFDD2yqtc95558kee+xRdkin4+3F5wSTEcAwmHLPtmcwDFzDLww/+wgJx89GqAaBTkUAH3rooYjwJU2lS1QI+uKLL46EoFdYYQU5//zzZZ555mk/BSHovfbaaxwh6HPOOadaIeg/CGAjO2yUfRzw8N1+++0RCdx1112j0wcMGCCDBw+WQw89NCqYqYfZ5hGGquEXhp9tvoZfOALhI9jvOBxDGyEcgU5FAMMvt5oRikCrvf++jOndW96t1eSbzTaTKW68UWbv1k16USDSQTpsIH5NKBwS+Le//S0CZtCgQXLwwQdL//795eqrr64GrMQo9uILg9XwC8PPCKDhF45A+Aj2Ow7H0EYIR6CIy2TN0HQZmPBL9x+hCLR33nlH5p1jDqlNMIGM/vDDKA9xIhH56LPPonB1RzAqmJGyiedDEgbfeuutxykMqXqtdF+ZcMIJqx62y4xn+IXfasMwDEPDLww/zjYMwzG0EcIRKOIyRgBTECgC7Z577okKSxZYYAF56aWXZPbZZ5d3331XHn300Sgs3Wz77bffZKKJJpLff/99HN1Eei0jnE3IPKmV2Ow12/yGgCFgCBgChoAhUB0CRVwmkwAOGzasVrSMNdZYQyaddNKiwzrd34tAu+CCC6IiivXXXz/qr7v66qvLv//976gamXzFZhu9kGl7161bN/n555+le/fu0ZIosOnTp49MPvnkQsGNmSFgCBgChoAhYAi0JgJFXCaTALa1teUSQDpMvP766zLnnHO2HHJFoB144IFy2mmnyb777itnnnmm7LLLLnLJJZeMU3HbTFDQ+aPyGRI4evTo9qV888037QLQ3333nUw22WSVL5OOI3hGzfwQMPz8cIufZRiGYWj4heHH2YZhOIY2QjgCRVwmkwDWKLnNsSmmmEJGjRrVJQngJptsIrfccotAT9hlAAAgAElEQVRQXbz33ntH8jSHHHJIlF93zTXXhN+1wBHuvPPOqPADLURyANW4pZC+H3/8Uchj7N27d+BM459uyc9hkBp+YfhxtmEYhqHhF4afPYPh+NkI1SBQNwKIzhxiw9NNN101K+1AoxSBtuiii0bkF6K13nrryY033ij0JF5mmWWEFmzNNkLRO+ywQ5SnOHz48HGWg57i+++/L88884xQKVy12eYRhqjhF4afbb6GXzgC4SPY7zgcQxshHIEiLpM1g1UBjx4tqb2ARWTqqaeOdAgpACHc+fTTT0fkT/vuht+2sBEITxOm3mabbYSWcHEjNEyIWMlr2EzmATT8qkYgfDzbfMMwNPzC8LOPkHD8bIRqEDAC6IFjHmg//PBDe+7cF198IT179ozazEH+JphgAqGvMMUXzTTC0YSlNUcxvpZ111038gpefvnlkZewarPNIwxRwy8MP9t8Db9wBMJHsN9xOIY2QjgC3gRw0KBBtQcffFDGjBkTyYnEbSSdMFrY8kB7++23o7zHiSeeWCCDFMOg+cT/J8fu448/lhlmmKGp6Oy8885R/98TTjhBDj/88HHWsv3220et9Giphyh01WYvvjBEDb8w/IwAGn7hCISPYL/jcAxthHAEvAngdNNNV9t0000jMgPJidvRRx8dvrIOPEIeaOT4LbfccpH2H2RQbcYZZxR6EEOO6WPcTNtwww0jeZp4Gzhdz0EHHSSnnnqq7L///nL66adXvkx78YVBaviF4WcE0PALRyB8BPsdh2NoI4Qj4E0AH3vssdryyy8fvoJOOEIeaFT/UgWcLPig4hbyV6/cujIwrrjiivLYY49FxSmQ+Ljl5QeWmSPr2JZ+8VFRfdBB9NQTWWKJKuAab4yWxq8uiI0/qGEYBrThF4affYSE42cjVIOANwEcNWpUbeGFF65mFZ1slDzQzjvvPNlrr71ko402iqRg1JBdgfxddNFFkS5gM23++eeXV199VQjhr7LKKuMshfAvYeA111xT6GhStX311Vcy1VRTVT1sxxhvwACRwYNF+PfZZ9dlTS2NX10QG39QwzAMaMMvDD/ONgzDMbQRwhHwJoBrr712jRBiPbTiwi+rviPkgXbkkUdGuXV0AoEMqu22224R+TvqqKPk2GOPre8CC0affvrpZezYsfLiiy/KggsuOM7RFIBQCIKUzXPPPdfUdXaKyd99V2TsWBFyPddYQyb8/HP5bdpppfu994oglYkMUh30FDsFNrZIQ8AQMAQMgQ6LgDcBXGWVVWr0jkU4eMIJJxznAj///PMOe8FVLCwPNC2wOO644wQyqEZeJP8NfcTzzz+/imV4jRHvA0xLOHIT44b+39JLLy3oAdK/2KwAgVj+K6VQ1HejkD5OVmy+ZrpBbAgYAoaAIWAINBwBbwLYp0+f2k477ZRaBNIR+t3WE8k80BB+vuuuu6LWb5BBtcGDB8uAAQOinDty75pln332Wbs4N32Ak+Rd+wH36NFDaA1XtdFhhAKZlrGhQ0W2317k11/Hv6QJJhC58kqRrbeu7HJbDr/KkHEfyDB0xyrtSMMvDD/ONgzDMbQRwhHwJoDPP/98bZFFFglfQSccIQ80Lfa444475K9//Wv71V133XWy5ZZbRjl35N41y1577TWZd955o56/5KEkDe/ttNNOG/3nNIIYuu6WTCBH9mjxxceHZsQIkb59QyEb5/yWxK9ShIoHMwyLMco7wvALw4+zDcNwDG2EcAS8CeCTTz5Zo9K1K1oeaHi3CJ0iBxPH5/7775c11lgj6gxCh5Bm2RNPPCFUb6NV+Oabb463DELECFZjyNb06tWr0qV6v/gaUGHre6FfP/SQTLnqqvKbiHQXaf+3GAH0hbSu53k/g3VdVecZ3PALv1eGYTiGNkI4At4EcLnllqudeOKJstBCC40XRsS71MqWB9oUU0wh3377reBp69OnTzsM9AamsALdRMSgm2W33367bLDBBlGfX/L90kxb2b3yyisy33zzVbpU7xdfAypsfS/0wSFDZL5tt5VPJ55Y+px8sry4334yK2RwxAjpZR5AX1jrdp73M1i3FXWugQ2/8PtlGIZjaCOEI+BNANva2mpJAWg6XfDf8CK1smWBRsiUjh8YuXbTTDNNOwwffvhh1Du4e/fuUWi1We3grr76aiFHM0/mZa655pK33npLHn/88UjUukor9eKLVdjKOuuIjBkjgkdy+PAOVWGLduLhBx4oG262mVx/ww3y5/nnlzdffVVuv/tuWWuttaqEz0JHFaBZ6hmsYL5WG8LwC7+jhmE4hjZCOALeBPChhx6i2DHVVl555fCVdeARskCjqnbmmWeOyB3t3+Ikjx7Ak0wySSo5bOSlajFKv3795Prrr0+deokllpARI0bURbS61IsvVmHbXlnLf4tX1XaAClt6Jl955ZVyzDHHCNXeFPrcfPPNcsYZZ8h+++1X6e0thV+lM7fOYIZh2L00/MLw42zDMBxDGyEcAW8CWMPd10UtC7SXX3450tWjiAKdvaQhgPz111/L//73P5lnnnmagt7xxx8faREiRo0uYZrhHbzvvvsEb2H//v0rXWepF1+DK2x9L3SppZaSZ599tr2zikr+UAVONXiVVgq/KiduobEMw7CbafiF4WcEMBw/G6EaBLwJ4A033FDbbLPNxlkF8ibff/99FGJsZcsCDV1EvJ/k/pEDmDQNrdKGrVlt9A444IDIM3XggQfKIFqWpdgWW2wReQfPOuss2WeffSq9lWU3j8/uu0+mXXPN8ddQhwILnwvlO4icV/I+//vf/wpdVsAODJdddlmh6KZKK4tflXO3yliGYdidNPzC8DMCGI6fjVANAt4E8IEHHqituuqq46zi4YcfjjxLeLha2bJAu/XWW2XjjTcerw+wYkFV8NNPPy233XZbVIjRDEO78fLLLxcKeA477LDUJdDF5IILLojCmYQ1qzTC5DPNNJPzkMNPPFHWOeKIhlTYOi8qduCnn37aXin9448/Rjmgzz//vCy22GLRf6eSukori1+Vc7fKWIZh2J00/MLw42zDMBxDGyEcAW8C+Pbbb9eSgr6IW+IB+eGHH8JX1oFHyALtsssui8SfEYOm72/S0AX817/+NZ5IdCMvVfPTaFMH0Uuzww8/XE466STZe++95Zxzzmnk8sab66CttpL9/vlP+WWGGeSc776Tft9+K4tOM41MNGqUyJ/+1NS1Mfl//vOfqKIaUkuhD/bll18KldTYd999F3XLMTMEDAFDwBAwBDoSAt4EcNiwYbX1119/nGsZNmyY7LnnnvLBBx90pGusfC1ZoBFSPfjgg2XbbbeVq666arx5CY2TV3fKKafIQQcdVPm6XAZcffXV5d///rcMHTpUttpqq9RTTj/9dBk4cKBsvfXWcs0117gMW7djEBt/9YUX5IZbb5VLLr00ItDnnn667Ln//nWbs8zAFHtAqvHuov2o1rNnz0hoW8PCZca0Yw0BQ8AQMAQMgXoj4E0Ae/fuXbviiitkpZVWitZI+HfHHXeMNkNkMVrZskCD/EEC9913XznzzDPHg4D/fvbZZ8shhxwi//jHP5oCkUuFL/eVe7nuuutGhKtKIySKFqKL/frrr0JLOiqokaWBPBOShkhTddsRjPu8//77S7KqGs1HtB9pC7gOEjYVWRn8Kpqy5YYxDMNuqeEXhh9nG4bhGNoI4Qh4E8B+/frVKPrQrhG///575Pm68MILZaKJJgpfWQceIQs0wr+Egam0PeKII8a7AsjLscceK7vuumuEUzOMAhX6/eYVopCjuNFGG2XmMoasu0wC+euvvx5VS0866aRRkQXeNohW0tsWsp7Qc5XUJ4tqNtxwQ8Ejfv7558vuu+8eOk37+WXwq2zSFhvIMAy7oYZfGH6cbRiGY2gjhCPgTQCRgWGDJuGdDZqOIL179w5fUScYIQs0CkAoBMna9PH+QRjyNPjqffnTTz99JFFDOzra0qWZVjNDvqou6Cnz4oNAQaQoqBg5cqS88MILQkiY/DqEtpNC5PXGLm18iDKE+dxzz43SH9SUGBLqJ+RflZXBr6o5W20cwzDsjhp+YfgZAQzHz0aoBoEgAljNEjrfKFmgIQEDeUIGBJKXNJcuHPVEA8kSvLOEVsnTpDNJmr344ouy8MILC2RxDN03KrQym8fJJ58shx56aJSrSM4ixUVaUMG6WF+zrW/fvvLcc88JLfb+9re/tS8HqR0kdzbffHO57rrrKltmGfwqm7TFBjIMw26o4ReGnxHAcPxshGoQqBsBZOMmLBZvh1bNkps/ShZoeEHxrCGiTLFF0u644w6hcCavD289r46KVHLqsG+++ab9fyfnfO+99yJvLpImSJtUaWU2j9122y0Sq0a4mtA5xrpY36OPPiorrLBClUvzGot8RsgoJJC8PzVI35ZbbhnlyJIfW5WVwa+qOVttHMMw7I4afmH4GQEMx89GqAaBuhFAxHEJD88555zVrLQDjZIF2myzzSbvv/++PPPMMxHJSxqkBUIw99xzC+HzRlu8HzGt6rJCqHEZE9W2q2qtZTYPilCGDx8ul156qaBfiP3lL3+RBx98MKpOpkq5mYYnFY8qnlV0vWacccb25UD6VllllUxRcN91l8HPd45WP88wDLvDhl8YfkYAw/GzEapBwJsATj311Lmt4JDAgOR0JQJY1OoN7yBewqxWcdXc0uxRkCQh769o/t9++629uIdqNQSNq7Iymwdt9Wivd++998oaa6wRLUGldNApxMvcTPv4448j/T96Pv/888/SvXv39uXQCWbeeeeNvKx4W6uyMvhVNWerjWMYht1Rwy8MPyOA4fjZCNUg4E0Ar7zyysJewEjCTD755NWstAONkgYaVdBUROMNghikSZ2MHj1aOBeikOeBq9el0paMFnS0pKMSOM/w4EJcIDJUDldlrptHvMVavHcy1dV0MaGylmKbZlpexw+wA0OM/s9TTDFFJUt1xa+SyVp0EMMw7MYafmH4GQEMx89GqAYBbwJIFXA1S+h8o6SBhscT8V+MYoVJJplkvAuL5+BVSQpcEUSTji4lFC6MoJdujs0666xRocizzz4raAdWZW+++WZEQIssHoamvzSV5hg5geQG0lWFnMpm2j333CNrr7125NWlQjlpkD7ka+IENnS9rviFztPK5xuGYXfX8AvDj7MNw3AMbYRwBIwAemCYBpoWTpAThnBxmsGZKazA+/fuu+8KOYONNL7cqaglj45uIHlGqJiQMcdxfKMNEWWKKpKVyOQEkhtIlTLHNNO0qpvwNGHqpCGjQxrEQw89JFSImxkChoAhYAgYAh0FASOAHnciDTRX6RStGiV8iKZdI+2CCy6I+v+iV4iocp4tt9xyUWuzW265JRKFbrRpxfTiiy8e9dtV0zxKtAA///zzRi9rnPm09d8222wjQ4YMGW8tFIFQDHLttddGFcFmhoAhYAgYAoZAR0HACKDHnUgDjc4aK664YmHV53zzzReFBJvhFaL93GGHHSY77LCDXH755blXTvuyu+++W2gLt/3223uglH4KuXEu+XAXX3xx1DEFbT009tTioXbCq83MMUXnT/X+0tofQvqQg6G3Mu3iqjBX/KqYq1XHMAzD7qzhF4YfZxuG4RjaCOEIGAH0wDANNHrmkpdGvhx5c1lGG7Onn3466hhCl4tGGuQPErjPPvvIWWedlTv1FltsEQlacxzHV2WuCeS000P/j/Z6l1xySfv0hNEhfeRZUsjikk9Y1dqT4yBDg3fv1FNPlYEDB443DaSPXsH8jWOqMFf8qpirVccwDMPurOEXhh9nG4bhGNoI4Qh4E8Cvv/66lvTkUOSw9957F3qXwpfd3BHSQIMIQAhWW201uf/++zMXqJ41PHB44hpp3BtallFJC8HKs1122SUiXggwQ8SqMtcX31577SXnnXeeHH744XLCCSeMM/0cc8wh77zzjjz++ONCqLpZhtg3OZLkAvbv33+8ZajHFQ8qntQqzBW/KuZq6hiE/Q86SGTQIJEKi5Bs8w2/q13mGQyHKnMEw7CO4NrQzgh4E8BPPvmkltSHo8csYrgI5LaypYGGJAm9YIvy6zQsSOhwv/32ayhMEJGrrroq6k1Lj9o8o4sLYU3CnGnhTd+Fu774NttsM7npppvknHPOiT4q4rbsssvKU0891bT8RF2Ldn6J6xTG1wmBhkhTeX3nnXf6QjbOea74VTJZMwcZMEBk8GAR/n322ZWupMtgWClq/38wwy8cWMMwHEMbIRwBbwL4xhtv1OK9WBEPJnH/kEMOETpOtLKlgeaaX6ftzY455hg5+uijGwrTJptsEpEmyCo6enmG1+3II48cLwQbumDXF19eX2VC58OGDXO6jtD15p1fVNBz2223RQU0Sy21VBT2r8Jc8atiroaP8e67ImPHirS1ye9rrSXdxo6VWq9e0jZ8uAiqU9NNRy/A4GW1NIbB6BQPYPgVY1R0hGFYhJD9vREIeBPAbt26jacDSGsxQoaE7VrZ0kCD+OJZ23fffaO8ryzD80Y+GPlhFAc00tZcc82oTzEVq1Su5tngwYNlwIABgifuhhtuqGyZri++vGIZikMoEoFAQ6SbYeQiIvmDt5v2fzwTSSNETb9iQtZvvfVWJct0xa+SyRo9SFtb+4y/i0g3EeEl8///K/8hXH60pTFswD0z/MJBNgzDMbQRwhHwJoC33HJLbZpppmlfAZth7969ZeaZZw5fVQcfIQ00PGoXXnhhISmpl2fNBTINneKZ2mCDDXJPUY07SCOCx1WZ64sPmRfEoF955RWBDMaNnERyGPGmIm3TDEPIm9Z/WFyoOr4WbQdHrizHV2Gu+FUxV8PHGDpUhIrztBSSCSYQufJKkQr6P7c0hg24aYZfOMiGYTiGNkI4At4E8LfffqvRA7UrWhpoCCzzoy7K7SOnjarafv36RVW2jTTtresi7qzhy6WXXjrKt6vKXF58CGlrJ5XPPvtM4h8arIPiEIpECK8S0m6Gvf3221Gfa9ZJRXKaffHFF+1r//HHHyMR8FBzwS93jjoWV4ReG+ePvfdemW6ttcYfis41fftWMYVVYAaiGPwMBs7fCqcbhq1wFzv/NXgTwC+++KL2zDPPyJgxY4Q+uHHbdtttOz8yOVeQBhqJ/rRau+yyy2THHXfMPPvKK6+Mqn9pIUZXi0YaHlo6lnDfllxyydypH3zwwagDyPzzzx91BKnKEMymeCLPCKnSJWXCCSeMuqqQWhA3ikMITVMBTJi1GUYrPSR/ZplllqhlXpoRJuYayI/NChOXXbsLfrlj1rG4ouy1pB1/+zHHyPrHHisaAv5NRLpzYIUEMBjDKi60E49h+IXfPMMwHEMbIRwBbwI4xRRT1BDipeF9fIPmfze7Q0M4LPkjpIFGrhdkBHJCsUWW4bHi780gL3jS8EqlhVWT6x05cqTQhYOQ/ujRo+sN6Tjj0/kDgppFrlR0Gw1AtACbYVT+rrXWWpl9gHVNVMV/8sknAp6LLbZYM5YqEiuukHXWERkzRqRXL5GKiyuquLgBG28sh956q/w200zS84AD5L8DB8qsIjLxqFEyzcILVzGFjWEIGAKGgCEgEuWus7/nOTLSgGrbZ599aieddJJMNtlkXQ7INNBUEoQiC/ThsgyNQHrHEo7lK7BRFi9awGPFDc8zmpXPPffckegyRL+RpqLaffv2FTxtSaO/Ln12m7E2XQshHML+tHvDW5pl+lyQR0k+ZVMs5kHVoop6FFdUcW1//vOf5c1XXpHb/vUvWWfddWW+eeeVt197TW676y5BQ9PMEDAEDAFDoBoEvAngm2++WSMHqitaGmiELAnzFYVX+Tt5dRz/Lp6ZBhk5aJNOOmk0G+3U8Nzm2aeffiqq8/jLL7/IBCThV2CEQ7t3j4J6mYZWIZqFeNhoR5c0PMzTTjtt9J+ryq0re2mah4g3F69vlhFGhyAOHTo0Ioyh5oLfeHM0qLgi9NoQkqdgho+Vjz/+WJDZIZ2EqvUqBcm9MAy9uBY63/ALv5mGYTiGNkI4At4E8Prrr69RyNAVLQ00KkKp9KTPL96pLHv11VejvLqePXtG4dhGWZzQ8fIpKuD5+eef24sW0goxfNftkvyMjA4yORAmiFPSyDklt45/475uRuX5cccdF1V8//3vf48kabJs8803j2R0qmqp54Jf6lpGjhRZfPHx/1Rhbp3vM6HnPfHEE7L88suPk3agckTJntAhc3ljGDJpC51r+IXfTMMwHEMbIRwBbwI422yz1ShmIMTFZhy39ddfP3xlHXiEJGgQETxkcc9F1vIRySb8CgFDQy5Z4FCvy/YJ6eIxxMNGxevss89eydJcXnwIUCOXQ6UvBCDNpptuOoGYvvDCC4VFJZUsPDEIldxUdKP/iAh4luW1tPNZlwt+aeN+9+ijMvlKK4kWVdSjuMLneuLnaDedeOeUhx56SFZdddWo53NV+Z6+GIZeX6ucb/iF30nDMBxDGyEcAW8C2NbWlqrICqHBw9TKlgQtrgmHJIhKmKRhQD6d9lDmf5PH1gh7/vnnoyIEihI++ugjpykJAeM5rJJkubz49thjj0jfD70/Qn9pNu+88wo6e4RXycNrtNH795prrolEvQcOHJg5PULVXAPi1ehEhpoLfmlz3HfFFbLgjjvKpxNPLFMPHCgfnXiizNbWJtO//bZ0r6C7Ruh1cT4i6mefffY47QcpoOGZ5YOJEHHeb8t1Db4Yuo7f6scZfuF32DAMx9BGCEfAmwDWcHd1UUuCRhiS/4YXkNBpnlcP2DgOryHewJlmmqkhKD766KOy0korSZ8+fSLi5GJ4XehgQXUzVctVmMuLb4sttog0EiEDdCNJM0KFhAyLqq6rWHPaGOuuu24k41Mk+1O17qMLfmnrhUyfcvzxstV228mll10mU/fsKT99+6088/zzssgii9QLplLj/vWvfxUKgCDKEGaM3wv5nqRLjBo1ShauoBLYF8NSF9PCBxt+4TfXMAzH0EYIRyCYABIirOKrPPxSGjdCEjTy/uhW4ZrXp10uyAfEk9UIQ6OQ0FpWZW3aGiAGeP8oxKAgowpzefG5tKwjzYDe0xdddJHssssuVSyt1BjLLLNM1N+3qKsKXkK8hVSGUyEeai74pc2hOpWE1AlLK8ZxshW6ttDz1aubFCrn4+PJJ5+U6667TsipDDVfDEPnbZXzDb/wO2kYhmNoI4Qj4E0AjzvuuBqbByEaPEpUBJO7Ra7YTjvtFL6yDjxCEjTVrZt11lkjoeUiKyPIXDSW69/xqOFZW3nllYW8Khdz1TZ0GUuPcXnxIbCM/AveIDxtaUb+KaLaSBEdeuihZZZQybF4UslJw7MKTllWJGlTdjEu+CXHxIuGp5nfKl5TWgJqT+q8PMuyaws5nnxYck75N9XxVMmr8T65/PLLo77PFN6Emg+GoXO20vmGX/jdNAzDMbQRwhHwJoBzzjlnjUpIqiBfeumliABCMqh25Gu9lS0Jmiaqu3bNUG04NAFXW221hkB16aWXRveKMBueMxdDdw3v3xVXXBHJslRhLi8+niUKT3iO8LSlGXl3p59++jj5YlWsz3UMFdV++eWXBe26LOMa8GDNMcccUTg91FzwS84RrwAnjw7tTu1IQ4HFAw88ELqs4PO1SIloAmuMV6mfeOKJcsQRR0TPIM9iqPlgGDpnK51v+IXfTcMwHEMbIRwBbwJ4//331yAvFDSQm8OmTUgT70Ij5U3CISg/QhI0CBUhyaWWWioKCxaZ5q/RFYR+to0wlVbZcsst5dprr3WaEpmfG2+8Map23XvvvZ3OKToIfNBBzDNC6WgV5knqUHl72GGHVUYKitYd/ztFTlS+u1R9a3oAMkFffvllmWlSj3XBL3miyqvEPdTPPvts9LxS6INnsNmGUDbtERdYYIHogzJuPK9bb711oei26zX4YOg6dlc4zvALv8uGYTiGNkI4At4E8J133qkRyowTQHrGsqk0unNEOAzlRkiCxtccmnWI/pK/VGTqWcMLs9122xUdXsnfVbeOfDny5lxMQ294YCBbjTBCgCorhOcKuZc0Q3uPQoEq9eFcrw/5GV0XRT9JGaT4OPTKRtAY49qKRLBd11DmOBXWjj+f8Wr0PJzLzBNyrHqo4xIwOp4SWN4377zzTsg0dq4hYAgYAobAHwh4E8AhQ4bUttlmm3EIICSDRHfyolrZkqApGdlggw2iooAiU3HgKj1rRXMeeOCBctppp5UKmaosR5HWXdHcZf4+duxYmX766aNT8jqQ3HzzzbLppps2pacyuX/kAPbo0UO++eab3MvjGiaaaKLoGK5NO5iUwST0WMKnkPikFI0+x0899VShVzZ0DUXnk9vH+yNNLke1MyHPFJ1V1ZWmaE32d0PAEDAEWhkBbwI41VRT1Ui+56WNzhmhrquvvlruvPPOqNdtK1sStDPOOCMiVoSpqPosMnLx8Hggdnz44YcXHV7J33fbbbfI81cmkV6Jw5577innnntuJesoGsQ1ZKp5l1SOknrQSNOiH54D2v8VGV5yPG70MKa/cqNNPzj0A0DnX3HFFeWxxx4TPNgUCDXT1Nt8/PHHR/l+cUMyibzFn376KcqjJJ/SzBAwBAwBQyAMAW8C+Mgjj0RFIOT/sbkhL4LWWNMa3ofhUOrsJGgQYIgVJAsB4yKDLEIaqcQ85ZRTig6v5O+QU3KpmHe//fZzGpO14f0jTE24ugoj73HjjTfOHMq1aOLFF1+MNOEIxRLCbKQR5kfWJS1fLW0dWvVN3g8pEiFWhF/a2AiAIwQ+bNiwKFdVjfvKR1sjQ/xZ147M0L333hs9Z2lpESoRQ8EKhSsh5oNhyHytdq7hF35HDcNwDG2EcAS8CaAJQY+OWrp98MEHouFVKlPpDFFkZQlj0Xguf1fdvEsuuUR23nlnl1NEW3NB2Ai5VmFF1W8qm7L44osLnoXEIo0AACAASURBVLYsi7fUI8xa1Nu4irXrGLy8N9lkk6hvLR60IlMChnA0hQ4hVoRf2thasQxpXnDBBdsP0S4lPA88F800yDQ5xFmV8UoQi4S3Xa7BB0OXcbvKMYZf+J02DMMxtBHCEQgmgHj/CNHEbcoppwxfWQceIQmahlchdnhBi0wrcikcGTp0aNHhlfwdrwlh0zJiukOGDJFtt902CunjnanCil58rnOSC4ZuHEbFcCOfOTTpCFmiUQhhLTKKL2hZhweWKuwQK8IvOTaSKuQqYlQhU42spsUhVPNDvJpp3D/yKbPE0TVtwvU3lnctZTFsJi4dcW7DL/yuGIbhGNoI4Qh4E8B11123BqFgI1ZDFqMr9gKmGAYihy7d/vvvX3hXtOIRrxxhuUaYi7hych0UtCBTgxZfVdqORS8+2r9RfEJOGsfmGZpx5IUlhYPrjWdZSR2KVfCgkkdJPmWIFeGXHFtzKiGB9KyOtyl85JFHImFwJJzQ4WuWxXtpZ/XHVm9lmSr2rOspi2GzcOmo8xp+4XfGMAzH0EYIR8CbAC677LK1ffbZJ5K4SPa+ZVNpZUuCRvXv7bff7tyWDC8cniBX2ZgqsNQcKjZ9kv9dDK8Q3j/XXDeXMYtefFoNuscee8h5552XO+SMM84YadhV1SPWZf0co2vcfffdozB5kan3Kq3Aoejc5N+L8Eser/mKtCp85ZVXxvkzBSx03KCqFiLdyDB6fCGEfnnGaJH4+eefp0JCiBryV0bI3AhgDAHSKQ46SGTQIJEllij72I1zfNlnMGiyFj3ZMGzRG9vJLsubAL766qu1RvWx7WiYJkEjhEZyumuIj0pp9OuWXHJJeeaZZxpyeTPPPLN89NFH8txzz8miiy7qNCdFC3j/qtRfK3rxITiNp4zqaKqk8wxSg4fr4YcflpVWWsnpmqo4qKw8zsEHHyyDBg2Kim8owgmxIvySY2uYNy2MT+7kxBNP7CRoHbLmonNJLyDHjw459J5OM80NJZ9y5MiRRUPm/r0shkGTdZSTBwwQGTxYhH+ffXbQqrokfkGIjX+yYVgxoDacFwLeBPC+++6rUQnZFS0JGpWddFbACwixK7KyreOKxnP5u+ZYlZEiUc8MRQSIH1dhRS++/v37R1I6FNNQVJNnkFNIarK6tYp15o2hfYjpRkKVdJFpNXUVrcyK8EuuRduosWZyF5NGj+CPP/44IlWQq2YY7d123HHHqECGQpk0o4qZ9VXRuaQshs3ApJI5330X8UmRtjaRddYRGTNGpFcvETCu1UQQWe/du/RUXQa/0si4n2AYumNlR9YPAW8CuPrqq0dC0FQVJjshIM/RLNNcofj8ca04chaRYSEMS9gLzwNhPO3W4LLuJGj0giW8RqL/KqusUjiE6sjFW3MVnhRwALmZ3CNamFE9y6bvYhoi5Fw6XlRhYJQn46HVyohrEzrNMwgDLcTwclGs0igjL5L8SCR/KAAqMhUKryLnswi/5Fq0QOnII4+MNDuTRrU15I92hoRXm2Enn3yyoCmaR5DjHVWKuq8UXUNZDIvG67B/h/j9YTUR4f/V2tqkDfLX/ofY/3a8kC6DnyMePocZhj6o2TlVI+BNAOeYY45avC0TeYAdoQgEAnjTTTeNU9VIjpO27iJvi3ASemNURO61115R7tPjjz/ujG0SNIgccjB4ASm2KDIqHeeff/7cnKeiMcr8HaJLwQSWrATNG4djycvCIM6EC+tt5I+Sp+hSrUyhyPXXXy9nnXWWkI/aKCtb1cvzuNlmm8kKK6zQ8C45kDqe9yxCrYQbkXBy7JphhMa5h3m6mCgN8AwTtm500U8zMKlkzqFDpbb99tL266/jDzfBBCJoe269dSVT2SCGgCHQ+RDwJoAbb7xxjRd2WhEIOWPNMggg3hlCRklDLoQ2Y+TqUZmJKRmjypWQooslQYMkQZayJCySY44ePVoYo0rPWt66SazXFmR57dWSY7j25XXBzPUY8hMp6nDRzPPpbuK6jrzjED0nl/Kuu+4S+joXWVnh6KLxyvxd8cxaq2KIfBESK80wFSkvqqJXQe0yv9VmXE9HmnPwDjvI3mki7iNGiPTt25GWamsxBAyBBiPgTQBff/31WjPaWhXhAwEkfwzvHh6DZZddVsjVotqRQg0KNr744gvp2bNn+1BsLCT2u3bIiINGmFTDq3gBEYcuMoiozo93TnvFFp3n+3cN5TIP85UxtPbw/r399tsy++yzlznV61jafOFZfuKJJ6J7l2fk35Ffx71DmqVRNtdcc0UtyfAaL7fccoXTEmIl1EohDuS/kUbOHJ1S+CBaZJFFxpuaymTIXzPFoMklhiSjAUlaSZaBNeQPjypC3Gb5CJDysXavXnLf55+3h35/E5HunGYE0B4fQ6DLI+BNAG+66aZaR3wJ4zlCS4y8P6pe8Wqw6b700ktRnhPJ8EkSRBEHeWlZbdk4Pn4O4VvtRPHGG2+UFiSOe9YorqDIop6mWnCQTshvGVMCQXUmVZqhdvfdd+d2w8BTicfy5ZdfFnIr86zK4ooy10U6AfeNZwr5kiKDLEIaJ5988ujZDLEi/OJjQwD4OCE1g98CsjlJo7MG5A9PJl7CZhjPFVhSDZzXR5wwOuTvnHPOEarFfa0MhrlzVCit4nsteeeRZ9b/L3+REW1tMn3fvnJ/797S85ZbZO6JJpJp0H3805+8pq0MP6/ZW+Mkw7A17mNnvwpvAjjrrLPWqNzj5Z0sAon3G202QIRm8fAhv4E3y4cAphWWcF14+wgFQpIwiF337tH3daGpZw1vV71D5uqB0tZ1hYuLHVDW21U0dl71W7xYxcWbSt4aIcwNN9xQbr311qKpK/l72TUyKWRRc1BDCxjKVA+ikQjpIz+XecmFTRobEeQP72Ba2kQloBUMoh8ZRXqO5HlC/pDVoXDE18pgmDtHhdIqvteSd95hhx0WRT923HpruWzIEHn1f/+Lco97TDihfPT55+0dYsrOXRl+ZSduoeMNwxa6mZ34UrwJYFtbW2r5WEfsBILeHmEmvAs+IeA8D+Cjjz4adVKYbLLJhLZbrkYu4tixY529SK7jph3HGtHJm2eeeSLdvDKmOWQQBSqmQy3vxRdvW0ZbMG1hljUnBSAUglB5jbejEVZ2jayJvEsN83PPNR/TZ71lNg56/1KRD/kkDJxmeHYhf3nH+KzT9RwXL6WOBZmB1ITK6ZTBcLzrqJO0iiteZY6j6Ig0BeR/+PDl44V3FR+daJGut956ZYZrPzYIP68ZW+8kw7D17mlnvCJvAljjbdIJjJAb+X948bbbbruoCIQfn4avNTxaJrE8DhphMzbQsvpkmuv21FNPydJLL11XJJFKQTLFR0SXriGPPfaY3Hjjje2FMyGLzXvxaVgdLyqkKdlhJjmvXhckFU9sI0wLeFzXqGuCzEIeabnGJuxrZTYOl04uEEP1YId6J32uycVLqeNqD+bQcHUZDMe7pjRplT8kVtqP7QCvxh9++CHKg+Z3RJoKnnwM8oxs0hFHHCHkf/pYEH4+E7bgOYZhC97UTnhJwQSQAgGVGOkI1494MGLMhFUhFLTtIrSFqDHkDxkYSBsyMIgjay4RRQeuFgfthhtukOWXXz56wfKidTXNe2KTxitZT7vlllsiwss6IXNljM0W7596Ecqcm3Zs3osPLUXy/vJagsXH1E4lFKdQpNII8xXHJvzO8zhixAihitjXymwcVLtTYUt+KwVQaYa8Cikc/LuMRqTv+pPnqQeS3yZaf3mmHXQoqEFL09fKYDjeHEOHwqLI9xh/+g4krcIHLUUzqDSQ/6kfU5o2QUTkvvvu84IwCD+vGVvvJMOw9e5pZ7wibwJ43HHH1S688MKoF+trr70WeTUQm2Uz3mmnnZqGBSFBdOTIu2JTIQxCNwT9AlYhaH6AcSHotAT5rIuIg0YSPd61sjlUVLji/UOyhl7C9TSqKxFKXnPNNSPh5DLWr1+/yPsXmnivc+a9+MADXFwJXUhxSxkM4sfqxooHl+IOV1OxcIhYnhB20XhlNg4qo/fff/8oTM55WaY9lbMqhYvWFPJ3Fy+ljo/OJgVb/P6obPe1MhimzfHlAw9Iz7SPtg5UWcu7mY/dZHcV8izxmE8xxRRRQZhrznIch1D8fO9bK51nGLbS3ey81+JNAOecc84anQXo1kAFHwRQRXnZJFvZ4qCdffbZUWi0rMgv+YhsfrQ9w0tTT9OvfjpY4A0sY5B5vH+QaPKvQi3vxachXVcyHQ8fUoCDoHe9jSrzddddt3Q4XSVMKFahaMXXymwcdNegWGLAgAHCc5pl5AmSL1hUheu75rzzhg4dGkm/IK6NFEyeIQDNxwH5lHzIFaUIZI1VBsO0MW4/5hhZ/9hj5XcR4YlTaZXvH31UJlthhXrAVHrMPfbYI+pUkxTXJucS8keImA8o8oLLWih+ZedrxeMNw1a8q53vmrwJ4P33318jdMnLhK9KCCBCyHhwykqNdDbY4qCdcMIJUYJ1Xh/TtOvbeOONo8pVvtR33XXXukJABTTt7yCaEM4yhsYe5AHNPZLwQ42uFFnJ54TTN99886hg5eGHHy6cChJANTVWpsNJ4cA5B9ChZMsttyxdeKKhdPrekofla3n4JcekSp/5isi76vA14mMkuUZ9NsGUkHWeQVootsKSWp5l8CyDYdq4e6y/vhx5xx3y20wzySxHHSUv7LOP9Pr5Z3nlqqvkLw1sSZh3zVoAAsHeaqutxjmUojhC6L56iqH4lblXrXqsYZhzZzu4vFIrPZPeBPCdd96pkWcXJ4DkRxGiCdU66+gAx0GDGJFHiEYZBMbVCMkSmkW0mrzFepqK/dLqC29gGSOsD8ndc8895dxzzy1zauljL7nkkqgdGTmct99+u9P5jZTTYUEaWiNsT/je1ZrRtk7bwIErWn9ZBkHAIwEZcxVDd73uouOQdBk0aFDUyo92cEVG3i4V4q5dd4rGK/t3ciUpmvnms8/kgUcfleVXWEF2+fvf5apLL5U9GixInrV21ojmJzjh2aVfe9z4YCUHmsI4cqTNDIEOhUAHl1fqUFgFLsabAA4ZMqRG6CZOAAkJk1iM7EgrWxw0iBGhUV6qhEpdTUM0vIB5EdfTNBTI5s4mX8bYnNmkIaxUD9bTTjvtNDnwwAOjkCDk2MVmmmkm+fjjjzM7XbiMUeYYFZ+mopxN1NW05RrC5HTeaISppwcyDanOsqq9vGWuTclIkZdSx+zTp09UbEWeLxXqjbbXX389CptS+Pb1119HBTTqFaYPOHmKzTYNlbM2Ks+TOq3qdaUwDC+gmSHQdAQ6kbxS07GqcAHeBHCqqaaqQSwgfWxq5JNcffXVkb5Unpp/hWtv2lBx0CACJ510UmGeVXKx5Obg/SM0C/Gpp5EDNnjwYDn88MMjb14ZO//88yPvn0/+YJl5ONbH24iwLd6ghx56SFZeeeWyU5Y+3jWvLjmwerp8SHjpRf5xgvbOLZIagnwhC0LImKKmRhrElHfGxRdfHOUTFxmV7FTsVyVLVDRf8u9K9pBuAlcMaR/aYpKbiNet3q0di9asvafphsRvI2l8pFMQ5qMLWjR3l/q7hSqru91p8kptbdIWl1TqAPJK1V1wxxjJmwA+8sgjUREI+X+EfJG2wLPBi6XVLQ4aX9FUyEIMIIKuBnZ4/8j/I6xYT9NCDtbHOssYpB6S61NBnDYPnhty/NJMiSoeVUiJi2k1dWhxhctcHAMZhhRDVrmHrqYixqEkKw+/+FqQ6SQ8TqV7UR9nn9C763UXHafFMTfffLOQF1tkmjt73nnnCV50H3PFMG1sPNR8sFFhy3OAgTXtHMlDpesOepvNNC36ItcWcp00ZGHoS03RFB7CsjJeIfg1E5fK5w4IVRqGibsxdKj8vt120u03SqoS1oHklSp/hpo8oDcB7CxC0PXANw4axR94TfCs4WFztZDCDNc59DjNP6OYA5JVxlRDkI2argKhllf9BtGEcBJmxUPqYnQnoXqV8/r37+9yStAxmrtJaBwy4GrqSQ0Nu7lWDxKeRAgYY5PX4om09Q4bNiyqTI57tVyvK/Q4vFTISLl6cDWUzscmkQcfc8UwbWyqlek6c+mll44jd0VBHBI/rp5Mn3W7nkNO8emnny6E9pECShqElWcDb6VLz+3k+SH4uV5Dhz3uj1DlL7/9JrW115aJ6K1OK9Dhw/kSEJluOpHevQuX36UxTEGHgr6NeveW4WlaoB1IXqnwxnayA7wJ4FNPPVVLdrBAmBddKXJhWtnioJGHRFiIFy0vXFdjo8D7V7aYwHX8+HH0Zr7jjjukqBggbWzIFSTLVZqlaH15Lz5ICGSkTGU0xTfkMVGggneu3kYonOIPJDYgI66mcicQBeR/fM1149CwpEuLQl9tQ99riJ9HCzo0O9OKFdLGx2uO5xXsuQc+5oph2tjat5gqWgSp1ZR0URBGRKCZpr+jvN8Ea8db6aNDGoJfM3GpZO5YqFJlgGiJ1RYf3CFU2aUxTLkRKBCc0b+/jMSj3q2btP3+e7u8khgBrOTRTRvEmwDeeOONNfTv4oa3CO8NRLCVLQ4aL1KS7Mt++WuXhlBC4IKzeieYE7mNMobXD0mJsp1OsubIe/EhkIwniGPwWrpYSHjbZfzkMSqZQpEKxSquhuwDVbmhhQKuG8czzzwTefRmnXVWee+993KXqWRx8sknb2gFv08XEkK/e+21V1BOqiuGSdCQniHUi+FhpQBOjSgAldbkP/PR1Eyj6hfPXl7/bo0K+KgQ+OLXTEwqm3voUPmtf3/pnkbySoQquzSGKTcDbdUXhg+XV3r0kCnmn18+Xm89ee+YY2RWEek+YoT0CuieVNm9b8GBvAngm2++WUv2NCXXCFFZQgutbHHQ5ptvvkjAtqyGGqQR718jwm7LLLNMRMrxruENLGPaOYBuEeQOhVrei488Unr60qoP3TwXo6gC+ZCqdAqL5uR+Qa7Kek5owYe3mGIBKkl9zXXjYPMHQ5c+yfxekVfByOeFCDbCPv/8c5l22mmjqchVdCmewNuL19enraFekyuGSQy0Uw35c/SEjhuFKawptEtJKO6Qau4fIbV4D+DkuFpw5SMN5Ytf6LV1hPPp/rN5nz7y7O/4/xJWwlPVlTFMwsZ7AM86IuWvvfii9FlgAZG2NllyiSXkhREj5ILLLosK1MyqR8CbAD7xxBM1EvCTL0ESj7uSEDQeFjaGskUI5BGRT0SLML7W62na6YHqPzxYZYxNBOmNHj16VELs8158eBl5weJ1JOfQxTQkSEEA3qF62wILLBD1lYb0c/9cjRAn98Gl523emK4bR5kOG+SEESqGNIA/be4aYSqpUubZQmKKIqIQIu2KYRIDLYhK660cJ7NJ72AjsNQ5Pvjgg8jrO8EEE0TdPvh3muVdS9F6ffErGrcz/J3c0zuPPz4KVQqdh2Khyh8ee0wmXX55p8voyhgmAdKPOt6tdBVTQx6NPF8KvygSM6seAW8CuPLKK9fwKGmiORVw5J7A5MsIIld/SfUfMQ4aHgwa2pdto6V9TWebbTZBt6uepsQKL0WStBfNi8YeWnu03eILzbf9ls6T9+LTfDBeArwMXIxkd/KvymgHuoybdQz3iz60eAHR2XM1zuHcRrUxIw8NcWVXgXJIA+SB57JRObx4pfFOl/kNIGuC9A/vHd45Pua7+VLkRSV9Vv7hDDPMIGPGjIm6bMTzA33W6HsO1aXIIRWlbGjep4/H0hc/32vqKOfxoYR0zg9vvCGvTzWVTDrPPPL7DjvIi/vuG3WCef7ii2UdBykjrqerYph2L1UTN9myUvdIohN8YPn0re4oz05HXYc3AaQXMMnbKnlAI3legHiZ2Exa2eKgIaFADhUhPkJArvbKK69E3j9yisCxnkb4lr65hHPxQpUxQoKa61RUTeoyLl97ydxRzuPlCjmipy85a67PkEqYENrmg6TeNvXUU0fEg/tH+N/V4lW533//fXsLO9fz9bgs/JLj6Neza7EEoWKej7y8sbJrLTqeUD8RA94hFCS42NixYyMvKvbzzz+PJ3LsMoYrhsmxeG7xRGR1TIF4QcDK5oe6rNn1GFJRqIZP81LGx/j000+jj3Ws7PPoi5/rNXTU44jUkF/JO//TDz6QHuSDtrXJwAMOkMFnnCGblWi12VUxTLu3vEfREU6m1eBw4H1Ligr8gkJEs2oR8CaA3377bY0wE5sGemMQCwoMkqrz1S63Y4wWB42cG3LjyF1jE3W1uEeI/Kd6mrbPyssJypqf69MvL0ikbhpVr5dNSHPPvvrqq/actKJ5rr/++qhgZJVVVonkOeppkFSeb15M3D+eA1cDR8JxjMHzAimvp1GNShWoq6aiFgql9Y6t1zohSsjqkJbAh6OLgT33ABzxTvPR2SjTVAoKekhaT5oWJDWy20tyDao3WdSpBvzYXPmtlfG4NwrrjjgPYvp4qZLPqxbKgScfKOgrmrkhwJ7Cu5DIEl4+WhjGDf1Z3g0hup9uK+maR3kTQNMBHC2zzDJL9HWCd4cvGMIDrhavKHRNgHcdO34cL3qIBwTkww8/jMK5ZQ1iBkGrZ35YPNSMF9D1JTp8+PBoM6aAZARJ2HU0cuT42MHwAmr6g+uU6j1sRB9b7e9LiHz//fcvXKLK6RA6hjw2wijeoYhn8803j6SUXM0nVcB17Kzj4tp5Wd5f7aiy/fbbyxVXXBE6pdf5Gk6jsws9wPNMvb5ZhNZrAS18koqQJwX1eV8RyWEv6AhC4J3pFqg6QlYuPB9TRDN4n/FxalYtAkEEkGR4wnWEYuJWttK02kuq/2hx0CAueCXIn4IQuhqYTTzxxNHhfPlADuphcdJSxrMWX4tqn5HruNBCC9VjmVFlLASacDOE2tX06zukKMB1rnjYjJd+2ZyU2WefPcr3LGrN5rqevOMQKL/nnnuifsV4g4pMBZYb0Zta16KVqGULeMqKRxddu8vf4x9sWakQKu1EKBg5o2YYUkNsqnQDocI3z1AhQI0AkXI6m5hlI8AHNB8ePAfkT5K7GjdSGUhpcP3gMqz/DwEleKQtUJiUNG1bWJTTanj6IeBNABdeeOEalY24bvk6xrRAAELUyhYHTeUgeDEk3ddFGEAAIYJlct6Kxkz+nfxCXlzYL7/8klkVmDcucj9I/PgUkSTHJUE+rciAEDpevDSJjby1aXUtJJVwQj0NDygvIhdx5bR1kMMCiYaY+bZMzMIvOR8FKhzLBk+/3SLTAgc09gh1NcLUW1W2rZ72AyaPis4qZc0Vw/i4KofEb4kPgTTTwooyRS1l1150vD5jLlJK2nqRrjvot7qaD35OY3fg3rqas00EgA/pZKoT7QHpDMRvjd9ckdUNw6KJO9jftUlBVpeqeM5vM6vrOxhslS3HmwBusMEGNdohIRlBRSRE44ADDoj6ZKJ31sqmoBFOVW08nzAuFcR4/3zaMbniW0WuYYiMTHKdWdVvWr1YtkE9HjU8ayRmI3tRT1MSQN4Znt+ypkUCVMkTcvUx1+rBspI62pqwkaEWQr9gQSiYimVXU8+Vi5crbUxXDOPnqm4n1b1s3mmmaQykL+B5b0Y+NKFIPkZdOqvoPS8bgvfBz+neBvTWdRo/4CCVVUJFgQ/hpGlFOwVKfIgWqSXUDcOAa2zGqXzws4fmFVHqflu20LIZ19PZ5vQmgKNGjapBDMiDggASlqEXJiQQb04rm4JG8iovfXLs8K6Vtd69e0feP14eSy21VNnTnY5X2QxCzJBNH+Ol56N1WGbz1VyQvA02bbxG5VIyt4o5+4Yj9Gu3bNeY+HW7bhx4o/FUuOYbXnXVVULuGm3/qARuhNE1g7Z4ZatmtdiCnDuKXMqaK4bxcSmoITcyT5OMSAj5snyI+BRclb2O5PHxin2XdA8qmqlsJpyJ99LVfPDLHPuP3rpU0wri7/SC9eit67p23+PY1yDMWR5yCD/pK6SGvPPOO8K7Pc8qxdD3opp8HjnppE3xwYR3L0uAXtMaGtXus8mwNHR6bwL41ltv1fD+sRniCUR2ADkUcsQoGGhlU9DwBPG156tJRuIroQWIM/jVwyiMIOTqo/el69GNumy3kzIEUKt5y+ZP8cJVTwvhAu0sUQ8sy3TXSJufilfIjk/7LR3PZeOIY4Iuncqm5GFy5513RuGr0FZ1ZXD36fzC+AcffLAMGjQoKiBhUy5rLhgmxyS8R3SDft/0/c4y/U37iK6XvY7k8RqmpOofAlhkeDJJFSjb5ccHv8y1xHrrak9dn966Rdca+ndUBh5++OGouIcPpTTT5/nGG29MlbqKn1MphqEX16TzSYUhVxkZGJ7dLNP0lL///e9Ry1Wz6hDwJoC33nprDeFnQkZ4Yag64+ZAOOJq3tUtteOMpKCRd8YGSyiYr5mypnlad9xxR9Qnth6mnRPKhlbja9Hm8hdeeKHsuuuuQcvMevHxEcEPHBzAo4w1okqZ9fBi79evX5TiQMi6rKk0Cy+0E044oezp0fEuG0e8WMU171NbmfFRR65jI0w94GWLYiDQ5K1lJY4Xrd0Fw+QY3HfuP+QPEphlWgwQ4uUtWn/W3xGjx4Ob7KiQdXw8vwqvJWkULuaDX+a4VHZCqH79dfxDSvTWdVm37zEUgBBBwUuVp6XKu5H7zgfKySefnDtdpRj6XliTz+O3hEIBebzk82aZvnfZL4k2mlWHgDcBvPnmm2uEQwh1sGm/9tprkfcFT06ZFlnVXUrjRlLQ8Kyw2fpWoOpXJRIY5OHUw9RrVUZsN7kOumyQA4MHhFBIiGW9+FQSBE0/jiljEHBC8fUWC7388suF8COyM4SsyxofSYQtIYLIrfiYy8bh0y0DGSO+xF29Rz5rT55DCzgqaqkA5zfkaqH3wQXD5Fq0n/Ytt9wiG220UeZS99xzz6iq1kWGxfV6XY+77LLLZOedd468KsgjFRkha+4BERve37R8dDEf/PLGBXAY1QAAIABJREFUHX3HHTJLSo/ybx9+WHqstJLLkup6jLbDhCAj9ZLVXk8/Ytn/aBWZZ1VjWFcA6jQ4VeoI+RcVgem7ieI78HeVCKvTsltqWG8CmNQBVCmTouTXVkBPQaMikK9oKu8gH2VNvQW8uOvV7FrzfFZYYQXBG+hjKhFShcBt1osPzTL6bPq4+VUWBK9cPQuQqFTD+1M2aV4xJ2yJd6BIpDd041BvHtXbpGW4WBUdNlzm0WMomlKPU1kZJC3IIG+W/Nmy5rP56kdGUZs3FWJuhhagdn8p8xvyCVn74Jd3j87adlvZd8gQ+Z32uiLt/775sMNkkxNPLHt7Kz+eDkNEQYo+olXJgEIcfk95e2HVGFZ+0Q0YkD0JGS/kk2gikWVEMSB/ZbtENeASOv0UlRHATo9EiQtQ0Pihs3llVYYVDalhpXqK72q3BWRHyLnwMU2AJg8KEhNiWS8+QnqE9ggJoKVVxjSUTh4bpLpeRtiWr1W8gHztlzVC6Oit4UHCk+RjLhsHIXQKTsqETBrdYSOeAM4LvsxXvQ/BjWPtgmH8+DhZxeOvskpp9w8tMwh+me4mPs9B2jnqUYEIoufoYniz8RbiicF76GJl8csbk/DqMn/6kwz76COZZO65ZeqBA+XjE0+U2vvvyy6LLip3dICCQsK5hx56aKEYMWF0PKouovtVYuhyzzraMXifiRiSPuYSudF2cc3Ire1o2FW5Hm8CuNFGG/2f+F+K+W5uVV5YPcdS0MgL4QH2fdnvsMMOkVAvXoNDDjmkLkuugnSwmRx33HFSVrA37YLY7NPkMVQTDi8gnsYypm3Mir4ky4yZdiz3CL20okKArHlUKJj1Uv3qY1n4xcfimeLZKlvRqxIi9ZQl0nWqfmOerl4WPoQr8fr6hqtdMIzPjQYm3lQ8loRL8zw7FHRxf4sS233ufdE5mqt7wQUXCF57F+ODhHdEmZB1Wfzy1qHyKdP26CEfjBkjk0w6qXz04Ycy+yyzCO0FGt3uL22teHOpkidKAU55ptEI8jEpnsuyKjF0uc/SwTQW4y3gSAPRDktZ16LPNhqlVGKbVYOANwHcfvvtMwlgs9ogVQNJ8SgKGlIbtATD20KYoKzxINPjsMzLt+wceNMGDhwo5PHhDfQxDV1SxcqLsB5GQj9Vxj4VsnjUaCReRZFK3rVpfldRzkrWGCp1U8Yz54O1r6YfOWDkO9U7lM41qe4jc0Loyhhed632Rki93np7ZQpklJxSmES+UiNTYlSuqShPMY41bc0oSmpGyJp16PxJeR2q0SkozKu6LfPMhBy79NJLR8UHLsLjFDSAP79BqtQ7jHUwjUU65aB84SqppZX/jRSq7zD3ro4L8SaA1gt4dCT/gtwC+Qt4d8paqJyFy3yaW0d4COFcHyOpHfJTVK3lM7aeoySujPdCzyXkRugNokqYul6mMi6+82hFNl4CCjXqZSqbULbYRDe6W2+9Ncp5qqeF5PERYoP08W9EZJExqaex8SPcvdxyy0U5S3mGN4MwIObTLzrkOlT8u4xgbjND1lwrqSmE9ZKeHSIBvLt8isJCMEyeG+8B7eIZ12gJOd3kdjfV/tBY/PGnn6TbX/8qE33xRYfRWNQ9xVX1gQ8BMPWNtjX1PnTgyYMIIBIoVOhgbGrIonQFU9AIQSENQO4MOTRljbAqL4wQclY0p4YtfTXTGF83ibIhxbS18RJFpiJp/LCpnPPRGlR5lXp6UllvCEnlfO0kUlZ3LY5VFn7xYzSsV7avr+aD1bMoSdcZ+kxRgU+ivUvHi+Sz5oJh/BzICW3TEE1GkqLINJSOHFbas150vu/fESJGDLpMRS+/OX57888/v9Db3cXK4pc1Jt5b0mgIqyex0lD6rLPOGonlN8to9cn7nr7frHOiiSbKXYpKlhQVKFWFYe5iYhqLWmDTUTQW6fxD7rtrXrl64Zv9PDTrOazXvN4EcJtttqkhX6J9f/mBUB1JSBPPWCubgsYLlzAPmwMVomVNw7Nbb711RHzqYVWQI60kpgcr3oUQy0p+VpkNQumE1MuYerx874PrXEpSy3au0PE1l8y3lzDjuCSP4zVBjimrv2bW9WoY3tfD6Yojx/HyZxPwraiGsOBFffDBBwU5pTLmgmF8PLqNkKfr6lHV1olIMPHR1AiDnGgnBZcuILomldjgXcbHrIuVxS9rTM3/Iw8UZ0I8XI4nlX2E/aWevdKLrlcJsquOqopxcy/AM6u4qSoM89b/K+k6228vE6Qd1GSNRe3u4drOMd7Tnj1XvexF98/+no+ANwHs06dPjS9j8k4wWgnxQl900UUFYtjKpqDxEPLFTYUYuSxlTQs0CLcRdquH4TbHfR5SaKKK7dzb0DZ/WS8+PCV4IHjhltWRpDADT2e985iUpJJvSD/ashZ/ibkKNCfncNk40IHjnlEMQnjc1ShugTS6CNm6jpl1nHq/Ec/ld1DWkPvhY8QlL8sHw/g5WgTAb5zfepGpJ5VKcSrGG2G0H0PEe+KJJ45a0bnmHpZtH8e1uDyDLtdMugfFX+uss47cdddd452ieYD11EktWqe2AOT3zu++yJAqgfzh3URQnXuSZlVhmLce9DLP3WknGZl20IgRIn37Fl1O3f6uH3AUw1E05WJ8KPAOzRPjdhnHjvn/CHgTwEcffbSGjk/cyHFi8+HrrZVNQcOTw5c38iB4ocqaSrRQLUbVWD3M1xsUX4v2wPUVvI6PlfXim2222eT999+Pkq0pkihjupHk9WktM17WsSEklTHZFNigsbLad7oml43Dl6hqvqhvSkMZjElJQPzbl2yGFP64YBi/Frx4/D5dCxJ85FjKYJd2LL8bcjh9QmTaN5oPMDbmIiuLX9Z46BVCkvGwIpCeNDz6Gn73ibAUXYfL3/U5pZCOAjUX0/dEnge4Kgyz1kPuIhqPk7766v8RwG7dRH7/XX4Tke4i0kyRbXJ32TuRV8ojyclrI6z+7LPPRs6Seucou9znVjjGmwC+8MILNfr+xu2FF16IuiR88MEHrYBN5jUoaJSu87XtW/FFtRiFFVWEVrMWS39X9PFCvBHoNCGC6tvyzoUAat6U6yYUH5MuJVQ51ztBOISk6np5Zmgc79IwPu2eumwc+nVNpR29lV1NvR31LPbRtYRKICl58Pn4csEwjpmGdPGqUrRQZOrdLCPIXDRm0d+1l/Piiy8uiFWXsQUXXFDISSuSLtExy+KXtRb18GX1ztUP5JVWWinqw9sMw/NHwVKZ4jT9OMnTd60KwyxMRo4cKTwLc008sbw21VTSrXdvqe24o7y4774y/U8/yYOnnCJbHXRQMyCNPvR5l9JRhf0zq7NKcnHqzCB1Cr1Ys3AEvAng6quvXuMHqhV46DURbsILE9ovNvyy6juCgoYuGJu5ax5DclXapq2K0GrWFRNOJU+KFw4/IB/TVkhl8oSy5kl78fG1SnI14RNeDuBbxlT4uCjxusyYaceSsE5lJ3k+6Lz52AwzzBDlO/GxlPyAchnPZePwbY2nRNqllZXLWvOOCfHgMW6IJqMLhvG1a8GJ6z0r25ItFEvO1zl92hSW9XCWxS/t+kiBIIUGrzjdatBZTBp402WJYjt+d65h7Srw1DGUHLuSf85zkSypAsO861Rh/ahwifxyilfa2uTkf/xDjj7sMFnBoV1dlTjGx1IJmLIRJdIvEOU2KZjq7ow3AezRo0cNFy5MHiNRl/BWsp8kXyKtZgoa1wsGPpWrYKKyID5aaK6YhhRX6BxIbcw888zRC5ik7JAXcdqLL95pAWFtQlJlDO8AhQD1FN+FpCI9wvX7kFS9HtXaKyPVEcfCZePw9TKqTmHfvn0jDbZ6GhpgbAS++V30paaC0Eff0gVDvfZ42L6oC4ieQ2cNiJhvi0gf3ENa0JGnSL6Yi9AxayuDX9a1aEU8hR785tPeKWDPR2dRPp0PXi7n8Jsnnw8vVZl+1UrG87ovVYFh3jWoIHXSu6o6lXjdyKeDXDfaFJ+yqhIobZBe4fOR0+hr7CzzeRPAY445JlMIOn7xri2JOgtgrFNBw2vFy6mM8Gr8OtVND7lCbqAehpcJiYUyybbJdVB1pS8Kch6LVNvzriPtxRfvQ+tTHKE9OOuJI55eve4QfTcNe5H0TvJ7WSvaOELWWUbwuOy6k8eTUkBqgW+lrHY7IecYwlXGijCMj8WHbe/evSPyz4eKy8ePpkzg7SUy0gjTXDU8PxRFlTHVrqN7CKHOIiuDX9ZYfDRTdV4U3uVjhN+37zu26Fry/s69w5tOJS8ksEgCRsfSD/vZZ59dqPxPsyowzFo7KVjkgrJuSF7yg1o/Qn0KqELw1HO1qr5sZymtyK7nh34V19eZxvAmgCYEPTraFCAsZcID8YdDJRj4CoZU1MMIrfASokobb6CP4fXSPA3Cl4TEfA2JiqRMkMqjQLAgmGWNEBLhBL7WqWqsh+H9UZ1LQtXIHvmYhuR9PV9p+MXXEW+xxDrL9NhVCQs2DLwy9TQ2x3fffVeeeuqpqHihrPn0O9Y5ijCMr0WlSoh0sF4XixMHPhB9nxWXufSYrbbaKvLM+eRHXXzxxVHajqsobxn8sq4BzU4KP4pIp+aKltW0LINd1rH6QcQHADm7rhb/DfI+I1UoaVVgmLUeujVRuZ7VcUir/RuZoxpfK9JPN9xwQ+lnVfcJIm/gWubd5nrvutpx3gTw/fffr2muFhVodMKg6ggXbaubgsaLHXLEF1+yItoFA/1Sg1xBJOth5GjyQgotnadqi69gfoRs3lWa9oWFWEIwyxrn4G3BuB/1eDFQrUanhRANP9anPS1980aLsAn5qFDigperLHksWlfy71p5ipYf4aqyppszHzh8ANTLqDgkrxmSCll1MZ5BvEVUO3744YeRF6neFqJRiTd6vfXWiwq9GpWyQ24a+qJUgiMflmVU/0JYXGVYqsRZvZSkKyBM7WqEjskXhuQ1WgycNWrHIvJkSQ1ImnbhaZYnDWJKoVJZOS3eSZBpfl/snbPMMovrLbHjMhDwJoBXX311DRc+mwYimSTLkieBWCptfFrZFDSIBi95Xpq8PMsaXhaqXzHCS64hhjLzaHcACjkgML4W0nmhaM7QzRxiCjHDEF/lmqs2zVnCCwih9jV9Ofv0PHaZUz1WZb0WjB0PH/vK1Liskd8MHz1slGDp00EohOi6rFGP0ZZVFK0QhnQ1LcTxfTe4zqPHla1Ujo+vz7bvB1jZtXK8FlcQvieMn2WkriCT5SrE7LOWrHO0mpscSVQUyphKljQjdK3e9ayq7rgeaWhEpwwmeqwqPrgWVcXn0IiWr9PFZ72tfI43AXz11VdrfLlT6k7XAXpk8sDh0sdb0sqmoOEpYRNjM+IFVdaq0IXLm5O14aXk36E9UxE0JQwSEkpmrYyR9CDy3JAQzCbGZlTW4gUa5FKSC1i18Xzj5XVtXp41PxVsdMs58sgjhQ2mrKXhFx9DsfQtQNACkjL6XGWvgXQHPCQYpFO1EcuME5I3WoRhfB3cJ6RmyuYraY6jb65nGSw4Vj395B9y78tYnBC43I8y+KWtIy6WXBRR0CiJayu2MtdddKwKgBOqJm+tjFGcRFU9VatUBSctFMOstcSjIXm5yqpV2GhNvbjTg3Qd7V7jiq16uglz8zFtFoaANwF8++23a2zktO1Cx46HnIRpSCEemVY2BU2vMaQqlDxCX/mTIozjnrEy7aHSxq2imIRx05Kfq2g1pxItviHFIiyrkuzRBGjCXoS/ylpR8ji5NeTYoP9HlW1ZgzzzsUAVMAn49TDtWuGb88maCAPx2/HxIhZhGL9m1RuErEMGXY0CH56ZRvRVDg05gyEedMifC/Evg18aXiorRTiPpgF5KRusjQI0yIKPRqjr/Uo7jgIVPE0+ElrqPSSHkQrrpIVimHVdWslfFN4l55PcT/T0yBttlGnho2+BlIqsE2U89thjG7Xslp3HmwAefPDBNfJGKHUnN4avTv5NbkdXEYLWpyIkXBaaC5X3ZMa/7EMKF5jDt7uEy4svpKJTx1eRZpTiqbSt2rTJOy3IHnnkEe/h8QigZ5W1MRQNXLRxaEK/b86UegZCqsaLrkGrtkOFxaeddtqoowoixuQfu1oRhvFxVAiYdnVl9E21BaOP98j1OvS4eIESUQWIcVmjiIpcSp5tnvE8K4Nf2jgqWu3qpdacsUaHU3VzJK2CkG4ZAyMKc7KqnEMxzFrLMcccExEj0rOuvvrqzCVroUjo+6wMJhxL3h/pFL6arSp3hPePazALQ8CbAPbs2bNGvhXiz/qFg3cDD0yZXJmw5Tfn7KQHMCR/j0RWEsXr4XFRCQtCbHzdh5i63glr8GLztbQXn3agiERLb7zRa2glLiRrk7RdtfGMkwsUqkGlOWW+3TaKNo5BgwZF3njfFyRhbsLdWd0ZqsAVYXKqoelYglfH10i7IO/YhbTE5yjCMH7scsstF6U9lCUf6uklJ5o0mXoaBJicOnKr+OjzMXQ00dOkmG/LLbesKwFUDUc81S594yEzFGS49mL2uf7kOfF8WNIN+NgoY5qLy15BhChpZZ7BMvPilCHtIK8LCeNp4R1i3ESH6lE4l7Zu1kX0w/ddz/O59dZbe0c4ymDZFY71JoC//vprRAA1lwewCO0QSvBJ6u5MYMcJILkpVPC66IOlXaPvJuaCl8p6cI/wlISYekJCq1fTXnz6VefrFeO6qNKkGn3YsGFRWkLVptWI/fr1i3JefU0rC337PxdtHEo86KPq0z9VWwfiSST8WQ/Tytpll11WKADyNc4n6lA2j6kIw/h61DNWNuk8dKMrgwkfPauttloQoWZTZXOFnB1wwAF1JYAaVncN40H86LVe5NUqg1nRsSqYDEFinyv7flevLOelScGUeQaL1qp/J1xOaJW5i+SViAhRLAfR9c1hd11X/Dh6KqtUkU/oWXOx8zQWfdbVVc/xJoCmA/h/ws3kp/AF5WuaLF5UDeczPl5FwqFZX6FlxtQNwkdnLD5P2ouPlzsv+RBviXoofbuyFGFBKA/tMp+KwPjYql9XRlakCL/43ylWQMzXdXNNXrdWKeNJpNNGPeyKK64QQqSh3lTfPtdlNl80KyEAZXNLNWUAjyrksZ6GFw2vnW/eJ2vjXkP+EJSmt3melcEvbRzShu677z7hOaDQosi0Z3qWrl3R+T5/V9FhXy91PHcx7dkJxTDtmiiA412PU4KcyTT9wfh5mtbjk+Pogynn8AHNb6NI/idr/Lh0GuS1ERqbvtfaGc7zJoCLLbZYZieQRmlJNQvguAeQ6juS5n1NQ24UQqA3VqURGmNToDCHl1CIadJw2WT45JxpLz68VYMHD44q7SBaPhbaW7ZozpDes/GxtW2d78ZStHEoUWcTZzMva3ovyFOElNfDzjzzzCj5nFQCUgp8Tas0syots8YtwlDPi7coLJvnq90gyvY79cFCvY2bbbZZJLDrY2zIPC8uHm5X/LLWoW3KXNM1SBMgxQOPFR/bZb1xPnhoXnJeO7eicclxROokrRI8FMO0uWlIgKSO67tFPxYh/3zwNcKUdJZNqdC1UfAEscWDSYoTHU/M/BHwJoB5reBasf1bHOI4AQyVBdGvYRJ2CXFUadqTtIrermzYbNw+rabi15T24tOEeULBEC0fq7e+3p577ink7/nKt+g1hbatK9o4NAeInEVC6mWtbFuwsuNzvM5RVlolORehSohu2Q2sCEOdJ+5toLiiDPHQStd6dqfRdWpXDSSG+JDysTIeS1f80tYRrzh21SYFeyrGGymsTV9kvOghHn/9KCXHmfdH0XvQ577FzyE6Q4jV9UMAbUPC8eTj4vFshKnKAELQiy++uNeUpgXoBVvqSd4E0ELA/xcC9tWu07uhLwnCdmgoVmkqr1JFGIqXIS9FXmS80HwNb2myMwIvLPpSsnmxifmYEjTf0GfRnFWFRrVtHblF9Fgua2n4xcdAkom8Ol+PsnqCXBP0y66f46vw+DKO5obxAYHciqsVYajjKFn38fITglNBcu4z97te5itVE19PmT7QrvilXW+8TRohPFfxe9UhLZuL6Yu5yo1QVevr0NAPlDSplRAMs65J2+ZRBezSjEElWShwIW+wzAeOD65xj3qIADX5jfy28K77aIj6rL1Vz/EmgM8++2yNog8eGn6c5LLV+wHqKDch7gHEpU2VoK+pYKhL8nXZOfAqUqWNyDKaZCFGg3m8c4xHeKRKI2xB+IJxGd/HNETrksPkM74SdbyAu+++u88Q0TlV9RTOWoBWQ/NFz5d9WVN5iJDQV9GcVZFpCpL4aPKVvClaZ6hAOaQPnTsqldms6mW+UjXx9ag2Ixsq+qH1epcj04QECJ4gctZcTXN8Q94RrnNxXBU6jgi+80FL+8f/x955gOtRVet/fzHSReAGiCiSSy9BSLhRvKAiIIR+EYIEpAkIWGiCIIKA0pELoReRiISigoAEDEgvIpgA0pGSGEIJJXBFasz5P7/Nfx12JlN2m5nvnOz1PD5Rz8yePe/MN3vtVd6XRqW6TehybDd/NKfwjhKVRdFL5DTrmqfIaZLC5dp1vWN1zb8/juvtAA4YMKA3CChOIGkneI/6u5kOIN13cKb5mtTW2e7aXK5DVJE0G7WFfBRCTD5mvvQlZdeWOkiigIzvY6g1kJ7dY4891AUXXOAzROk5dO3ynH/9618rnHZfM3fBZUz9vuOH0gqJTqgvT5fNvOnSphmG58Tz8rUYBOJl15aObd/f+AorrKBIc7rS1Lji4dsNbV7HVCVikzJo0CDXaVgdz2+ciL9rB7h8J0NLMKwmaUjVFcmp2YwjJTihWSKba5EeJyqGY+XSsCTvaJ28nzJ/iOmh6GpD1s8Gw7nxGG8H8Oqrr+6BbZzdA0W6FCKT16folRx9fzbTAWQxg3rE12LV1uVdX2pCcFhwXEJMIkNE6/iw+RopoOxOU4qliQISefIxoWmpK3UZiwibeyPKwoLrU8Sch5+JFzVnLAKkmn1+h9K8wMIAFUYdJgoLoVyDsqBUqR5k76EKQzlemlW23357rQbhapDs3nXXXboxA6enLpOaKCgy4C30Nei7cP6q5ORs8Sv7Jrn+ToXfMrRxyBYb6f6GSov3y8dErzqPSiYEw7y5SHSNbwvlB2ht2xjRSdYvvp+UZtRpkpEimksXeLL2EfB2ALM1gDiCPFgY+X0LkduHw24GpgPouzjIlURrNLS2Lm/mIkfE7hklgxCTnXtoPWFeATmNNHzAQhYwIWqmCQKlgdgWmlo157P44osryGUfeeQR3d3oYmUF+PBRSk0VhMAQA7uaEMQSAcIZqMOIiHAdFgG+Gb4mcwVPaopszbaJIZRTUWpbq0h5bedddFysVLOtfrEtfnnzhQQYPFybySTa60uf5IIxtD84gJiPXq1cixpHeHFZG7M1byEY5t2LRO7XXHNNRe2qrQkFFzWPlFTUaZKlca3ZrXNOc/vY0RxAgCStA30EC1t/NtMBDOkSAyORBoPSAl6smIYiBDvnGHqPooXLIhFC85P34ZPIA9FjNId9TLoYi6SXfMY0zxGpOcimqbUJMXF4KbwnFeZiZQsHTiXOEIYzaBsFMK8vna+hBOdl9wR1A9cJle1DQYeUt+tcbRdf0tM0l9D8RKetq1H/RekE5zJGHUaNoTSYhOp9Swd5VWreFr+8+5WIE7hQnmJrRCX59tS5MZG5iLJKDAJ9edezxMwhGOZhJg1RrtkeUdageYxodZ0Wo7GmzvnNjWNHdQCfe+453RXr093Yl8A3HUBfxQW5X6KljGHbuu+CU8wFKFZqMO/DB8UDu2XeHxjefSyWg1p0bRYDavZiCNJDy8MunTnToONiZQuHUI/4dhgzD9OhqKt7lVolIiuhzRFmPeWMGTMUuto2Zrv4hjZXSAS+zugKvxlSwDEK620XaFv88p6FRBkJFmy++eY2j0sfw7sI6T5WR+2sORH5lsSo3YOHlRrQrMReCIZ5oEljlav29EMPPaSIGvLbgeuyzsYMafbzpaiyflnSgdYIRHUAqWuguwuyxv5spgNI9yn8db4WS2M27/ox+PVkXKHEgMKFyIuvZT98EHqKeH1I8Tm7V2qu6iDeJYVDapW5ouvJ8w8x0V31qQ0rWziowSU6GaL8wr1SR0QE0adGsQoX83n7aKxmx/dxJm0XX18dYJkjZRd0jNfVpcx1RHOWCPWUKVOq4C/9O41o0J5AK4MUYJHZ4pd3PmUJOOs+0X5qh0ml1qGbbs6VCCjOcIxyEqFmIf1JulUsBMM8XOVddf2msPGmbpgmErqyWb/rMsrDqKlsouGkrnvob+N6O4APPfTQHEogfNDplpybHEDf9JC8SOjKUkcYIuNU9FJSaM0HIUYNEtEaurdCpe+yHz5286InzcfIl9dJdrIsElAaxDRTGD5G9CGkC7Zs4eDDyu9v6NChusbO12ShBVOiIDGN2kTpMPVNU5vzIWKM41OlfWqeY7v4+uoAy7ViaR6X4S/Sgkg+klIPMSEGrpLos8UvOxcziueTrvZ1clwxEc5TKIZgUggxIZTO1r35Ylg0F6krZqNORM/FRJklpOO56npsLNmskWGguYwms2TtI+DtAHY6ndkcQELHPGT+nZscwFBtXBoW0DSN8QHPvk6kWMaPH6/4sFOrGGJSbzVgwAAdCfNNFWQ/fCFqC+b9SBccRdd8ZGJabO4+4X70eXfKFo5YjTqyINBly8YkpoUSYWfngpoANam85zguNma7+PrqAMscRLg+VC2o7J6oUaRWMUa0SmhLqhoJbPHLzltq60g3EgV0NZSSoOYJUQyyuaZE7VzTqXljI3XI7z27wffFMO8a5iaaBhYhILe5V44RjtMQIv6qa5FehnAag6WAsp9k7SPg7QBOnjy5UAt4mWWWaf/OapyBmQImzUOXra/deuutmrCX8DgfyJjGuIzPx4YoY4iZnXEQxVYJjRddK/vhIyXAvYeOd5qjAAAgAElEQVQWXMd20sz5x3YuRYMThQFSbi5WtnBIBAfHn8iQrwnlDREsivZjGuk7NjshaWpzPtRQErlwkVK0WXxDdIBlfhI1D6nJrMJeiv9xWignCTGJold1VdvglzcPNHFxVH1r6/itkKaui+tT5iyk0y7vVBHuorCSTdH7Yph3HflN+WY/pFkwREqw6r2TJh4a/igVS9YdCHg7gEkK7kMW+1BiYKnhwWmGjT+mQZlA1yoUAUQZQ4yornSVhsj4EAEiIiImygChNUxmmtYnvVSGjSyMsT5eIaolWfzMecfifRQVBLrS6U6PabHS1DIneOFYTNEERgXGxsowlPNjRKZ5D6Uxhag00enYtv/++2sONxZxGAVCzOwiLyvHsMEvbx5SE8m3iG+Sq/GtpdkBMuFbbrnF9XTr4yUCzuaZet0QoxyFumkyJ2ychabJF8O8uVx++eVq9OjRypeiS6LIdar/CE1NHZmukOczt5+bHECPN8CMANrK7hRdBsocqE/qoDegFoyoYqyi2xjdulkc+JCjtBAaATUbNVi8oQeJZbFTeRK1CaUQyt5fLE5JH6fKFutYaWq53ve//32tTU2BPYX2sSxEB1jmwDvJb4ZoIpu7OjIjMZ+VOd+QjvyiZwBFGE6qb6RJGr2QHiUqX4eBAU0ROGt01ZubVZ/rmeOFdr0XXV/49XypxIThgXpannsdxm+U32oMVao65je3jpkcQI8nbzqAPlQe5iWFxoGFgtqImCYKAWgVk9YLtRAC46Jrw0JPmjEGwatQtYSw9+fNU2ghqmqjbPGVj2Fs6p9YzhCk5Gge1yG7JWlq3yhQFmNJC8Yo2DfHDtUBlrFi8kfmvV9snthEURu344472r6ChcfFUhXJu4A4q3CTHnzwwc5zNaOyOGg+PJdVF7WNglaNY/5dSOTrarJAP510tW/NIhkd0sfUdbMG+Zb3lGEC8ffJJ5+siFijsJOsOxBIDqDHczAdQHZPhN59TX58nE+alVRBLJNuTh/Khbw5sPMmkuHScZkdh05As0hZiqR99VbN8etabIVkGpoZOL1CTSSRqF/DuXSxLH7muVIkz4f2oIMOchl2tmMhLmYx8Y3UlF345z//uV78mSs4hJoPj2YZhjKfUB1gGYeUFzVarrx3triQPSCLEMu5EF3uMjoRG/zy5g/ZMDVxMB9st912trfYexzfRzbKdI/T+c3vPbZJ5DdWuQfzk2Y8s17cF8M6cCVKyeaZkgXYA8gcxTZq0HnuPo1vseeSxvsIgeQAerwNpgMYyklVJ/GuSETFSGUAU4yUcrb4WeqCiALSdBBiMeXazHnE5mqUqCcqICyILlZWPE5Uja7yKiWHquuJk0ZECUcopolzSbQSeqJQAw8iSy51YTYF+KE6wHJfoq5BnRVUILFNNnlV+r221xXqKO6faE2e2eCXd16RKobt3DhOqHluv/12hepPbJNaNbrL4dWMYRD9s1Ex6zR9McybTwx+xM9//vOaRii0pKkIL6HwCdX/jvE80hjJAQx6B0wH8IknnlAUDfsaBJxIWWEUDPNjjmHs6hiXf1988UU1ePDg4GGlO/Tqq6/W5LY+lv3wibPhKmGUd+0Y88sblyJ7FkOiFuxiQ006v3FYXWUTyxYOIpTUSYV+ZGNSi2Sxip1e9knV2iy+oTrAct9CKVIHdQkRMZoK+IbE+o0jG4nzRwSZSHIsB5CoHanF0LlKh+6vfvUr3RAS25CoI/IdY0Mqc5PNhFnyYfMO2tybyc4Q0vwm1FR1vKfch6yZND3ibCbrDgS8I4DDhg0rpIEJ0YrtDljKZ2E6gDHUEig6pvaCzjBqcGIYNTLSdejDDZU3B/n4krYl6uJj2Q8fVChIZqGYQN1ZiEGCTMNLrHoomQvpUCJXsZo2QqhQyhYO6DVI4dx0002KZ+VrV111ldpmm20Uu3YaYGIaUUVksWKlggRLmn6oEbMxm8U3VAdY5iEUG3XUPpnlIzFItZmzdJLTVcpziuUASq0zDivfJt9SF1RKqCOFDgbC5tgmHfqxItTMTyL+ZgeszTtoc2+stUQrQ1PWQlgdg04oO2/eTQj+YwYjbLBJx1Qj4O0AHnXUUYUOIIt6fzbTAUTZAHmjEOPHC49drFo95mIWM0PcLFHGkHmKkPt5552npZJ8LPvhk4gDRcInnniiz5C959BhRhoZ9n6aAmKZLAqxFvEQVZWyhSNWDWSd3JSSEo2lB0pNKrWpLlq4NotvqA6wvHvQ0/zgBz/QGyY2TjFNGAQg2OX3HsMkpV6mTGSDX3YukIqTpg+VapTNWB2OCnOWDYpvo0reM+C7vsYaa+h1gvUC88Ewb2xqNUnbh27WRJEqdJy8OcpvNNT5j/F+pzFmR8DbAUw8gB/yAIbIl8mjkOaKWN26jEuRNG397LyYYwwLUbCQ62c/fCJATxSQrtMQE0H0mB9v5hM7bQkRKil5uu5wzl2iIWULBzJ9FJeHSi3F0n3Oe5bSCECUEQWCUHvrrbd6m4r470TTq8xm8Q3VAZY5SDMJEVkiszEtFoWSOSeanHD+yhw1G/yy9ymNT6HNXtI0Bj8fG5XYRl0hjX0xyPNlbqYEnkhJ+mCYd6/iENMJPHbsWG845DdfBx2ZvFN1KuJ43/hcfmJyAD1eADMCSE2LryyaXDpGc0X2NkRhw9x1etzqbKegeIJIfEj6JfvhI9UEkWlZ0bntvGM7anJdcSyJUBKpDLWQ9HzRwoEj+fGPf1xPLYSom/PNqBpzjWnSqIPzQkQo1EgrEf17//33rTtDbRbfUB1guS+pUaRbl0hQTJNoXUxnSKT66LalQS3v22aDX/Y+izRxXfEQTs66OOtkM04tLZuVWJbV6vXBMG8uUmMaqklvbqRiZLXMucomyKVRKxbuaZxyBLwdwJNPPrmH8DM1cHx8TUP3rz+bgMbHEQcw1ESxg1qRLbfcMnQ4fT4dbCNGjFB03vGMYhipLFJaIena7IcvVucq9xc7VSuYSWqZGkVqFUMthLS6aOEwtTYhHhbFAZ+5mtqiIbJ/edemVg9daWqXhg0b5jO9Oc5ZaqmldBOE7Zg2i2+oDrBMUiSwfGW6ygCK3ZzEtczNCe8U9CBZs8Eve47UVMLbGFIiNG3aNN1QQEkLmY2YXIB8y9lM1EEzI994iXz7YJj3LghtT4yIpfw2Y2aimLMQ34dGKaN8LNIgsyHg7QB+6lOf6sEhoDgeFn6iBnSHUphL23u3G91edLnReUt9Bm36tt1JAhqpOzrxQk00eym6JiIWw6BJIDJAhzKdyjFMGjbQsgU/H6NJgWiIGHNkrkQBqWUJsdjNGjIXaS4Jlf0z7426LRbYxx57TK2yyirWt53FT06MqVfMQsjCWkfRNo1JOBnMl2hLDBMuPNvmlyIMZS4xdIBlLBxTHFS+FTgWLun+Kmz47rK4xmxY4JryblJjSMQ2a1X45c0bmTGeT6i8IO8m0UmCDrHVVcxnxTsQ07kUHjxYD1g3fTDMw5VSEkpK2PDTDBJiROio1YyhgWzOg3ps6sbrIJYPud907kfd2S5NdODWue6663oo6IbUl10u+X14vSAJLuoe6xbAKXglrQcHHTuz0047TVNnPPnkk7qbqsrEAWQXSuot1CQKRncbnaYx7IYbblCbbrqpGj58uCaijWE4zET/wA4ahhgmRLnjx4/X8w0x3r/99tsvGl2LzKUOepkYpNomVlLDg7NBlCTUKB2YMWOGs4Nadt2YjpV5nZibCMaNoQMs88Ppk2gsjV7UWMUy6YgNTf9l5yMO9YQJExSOWwwTfd0Yqf8VV1xR0UiFs0K9YixDN531wHUxtLm+0ApRpoISUAzLqy0MGVfqsWM7anzXWY9C+UlD7i2dm4+AdwRwypQpPXQdInTN4o2jwa6etA58RN1s/MhJj8oPkV0lqVJ20qQRq0xAY4fIBz7UhHyVlE6s6KlorsZSr+AeSYHyAYup5ygLQwxiV6ILkO3yweGdjGV1EEwjK/fQQw9FU3CQzl2iiUQVQ00kwSCqhrA6hpmSU67NL2XX33bbbTWBLb9n3s9Qi6EDbM6hKqLmO1/KRVAYCenKz7v2yJEjFc5frE5tIslEfknZxiCll2giTQ+kFWMZ7xDvEhs+0qAxDecHB2uTTTZR119/fZSh5T2lvpDfVqjJBp9oJSnlWCY17qGyqbHmk8b5CAFvB/Dee+/twZGiBgGpGxwnIms4UTFexroeEqkDPkY4SNCaiPEhofaJOrysEbngP2IsstQxsbM3/3/fOeO04LyQzkEwPYYRoUMc3EdurOj6IRJmMiYpc5OSxrV+qwyb2JJtci2hV4lJYirdhryHcO7ZWhY/OQ/6GxxzH3WRvGuTTqKmLkZkVsanOxmHn/o6fmuxzLU5qQhDmY8PuXTZvay66qqKpqwY0S/zOhKZ5tmb37JQXMlC4PwVRRar8Mte3+x6xwkMqU9lbIlUUZJCTWEsIxN0wAEHqNga3czv5ptv1tycK6+8sn4XXDHMu0f53sX6zQtfYcysEfOWetrYGu2xnvvcPI63A3jsscf2ENbG6YMehK4smg34AZ1wwgldiymOGyH+bGSD1CZRKBb5rIngfPb/j0WxgtNM9IKanmOOOSYKdnDhUasXM1onBMF0x9El52PZ4udY1CXMhR0mO2yia+yOY1kd6VDRB3WVCCsqHpfoZ6wIQwzS7yz+kmJbZplldP1WLHNV7agqwI+lAyz3FztFLePWEaVlbOq4cf6o3eI7krUq/LLHIzFGfXWs8oS6mgqkyQ1uUgixY5rU6LJmQPrPuhla741qB+9+LF1tMgdkOyjrIosXym4BfoyzyCKLaChtaZpi4p7GKkfA2wE0eQAJl/OfFVZYQVHP1s3m4wAWRQDpGItBk1FH96pIrMX6OPBMJTJC0wx1nz5mLh6x5eqEIiIm35TZsTt16lTdgRjDIAYGC1f6m6LFV+SmyhQcXOYdO63KtUkrkl4MeX/y7kHUK2y1i6scmFg6wDJXJASJ1sQs8WBsURCKkVY1cRV9blLMeRmRKvyyz0jKUWJFqqgx51mXkVW7vOvZ5+T6m7S5FqVCNK8Q+aNGl2BDqAMomaMYHKrcA9FZsmN882LJktLsgkJRTLJyG7zTMXYIRHEA7S7VHUf5pICzMxfQ+EGzmws14ciiqBuevRgGVx+RS9JjfNBjWAwHy1w84BlbaKGF9NRi7A6FcT9UFsnEio8izxkTEtcYWEpnnCunYtHiG1NSj/uro8FA1AZiL9yu5Q5VDoxrRLHqfagjwm/+dmJJPcp9UFeI80cZAN2lWavCL3u8OOjUOtPtH2pkb8hCxI4k46DSxOhalmF7P9L4BdE0m8lQB1DKSGKyR5DJQ0QA8mbqx0ONEhKyHfQG9HeJ2FCs2jjf2wG85pprCqXgYnHZ1QUItYukJKB+wWgCoc4LEXCXJhB2S3yIQ60OuShS2hT1xkxn0LRAehXqASgTfMxcPNhl0kREqoGdcWjKQfRGYznm3B+dm9IZHktSj3Hl+ZB2Ilpra0WLL93PdEFTQ0qKLNQOPvhgPS/X+ZVdl2YFHF/q1ahbi2XXXXedzjyYWqtlY1c5MLF0gGUOdWzwzHe9iLDZF1/Rly36nVfhl72uvJsh/KHmmJLFic0FKIthzFpfc96ooFAHSi01DYShDqDUT1NaQVNjDJMGG9fSlKJrSykS0orQxCXrLgS8HcABAwbMoQYnC3gMbrw6YSISQdMHCxKOIMW/kFrDlwdha5UJaKRgiFyFmiyMMX8kOLNw9cVs6ReVAKJ2UBD4mLl4iCYuNSdEMULN1D8m5RKDx0tqd2I6ldwntZ48G9eob9HiS8MPkTDqbw855JBQKHvJW0kzsRjEMJRU2GAxV2oWYxnlJ0i3EWHheVVZlQMjOsCxumvl912UUq2ab97fiVQRsYodBeNaZtMG5S+iMCPzqMIvO1/REOd7RF1yqLFhZ/PN3HCEiVqFGps76vMYGweTjWlsM8mwobIJcQBN5Y4iwm6f+YuaEr9TagxDjQ0p36TYXJWh80rnf4iAtwM4fPjwHiINQhHBRxhSaP4/iHO73Wi6ECJoolpET4gM2piAFuIImdepQy9UJIL4EdtENW3u21wYfCN25uIRW3O2jnRtHWllsBbOQte0WNHiK4ss6X7S/qEmO3f0emn+iWGyGOy///669jGWSXcxDUU2FFRVDkwsHWC5P+nQjkkvcu211yocVSI/RIBiGk4QzhBOUV7daxV+2bmQ/qNmmNQy6cAYJvRR0B/RZBNqNDDiTOPs8h2JSdgtczObV2BnCHEAJRsTu7ZOOqFhJiAVHmrUapKiZq096KCDQodL50dGwNsBvPPOO3uggDGN2gZa9Gn37s8moNkuOFVYxKbw4HpSeI6jwe4rhpm7TtJO7MJdzVw8RCSc3TAk3KFWR8NGjLrHvPuCwwwn3bVrt2jxjd1pynVoVImp3yl1j6FyYFk8XWXwqhyYWDrAMk+pWaNrlyh6DIM0nugxDhWOVWwT6iMijdmNcRV+2blIFz2bKVMFKGTOOFA0pcXiKpTfuW0U2Wfu8puitg5JyRAHUBprYm4quCc4ChF4iKVdzb3CGEHWjTUpWXch4O0APvzwwz0QPJrGD5yPRYzO2O6CafbZCGix+Mxi844xW1+akTLciQwIhx/RQBvVlOx41NfIgiIfm5i8U7EpW+qilhGn35VSx8TPxFaIpWORrdZx3yKHRZSBurBYxntJ5IZ/qU2ldq3MijCUc4S3jE0Jm5NQo0sXhoRYGQPmI9GkmCl68z6lIQJyZKikTKvCzzzWVKsgOsumOYYJ9yOUNTRShRrNKThkNFbQoVuHgRsOG+sHDpxtxilvLqRViahDwYZEZSyTshxKXtjwh0ZCiaoSXY2tLxzrfuf2cbwdwK997Ws9vHhSM4dDgEQY4fO6fkDd8rAENPiNkMsKtTqiTKLrGENj17w/FjGif0QyiGiEWB1dofLBiVXIXRe5tBDDxtppS/deXsTG5xnJYhWzxkwUJqhV5FsR05BYe+2111SRfq3tteqQq6O+FacS842cZ+cvjRWxarWy4wsNUGgG4dFHH1UECmJ9K2WesTnwRAXDlkrI9n0yjzOVcAiSkGb3NbOeEAaAWGbS1YTSXlFCAFWaUN/QtJKsuxDwdgCHDh3aQ+0NEmoYLwu7XDp9SKH0ZxPQFl10UUX6KdSoj6FOJqS7NjsHmlsgYKVWKCY3o4iPU4MCv1OI1ZHGEtmhP/3pT4quu1AjxYQygmuqtuq6Qo5Lqg3ahVBjgSXCEottn+gXqgWxotzcXx2ayoJbLEnBmDrAMjdTCi1W0wLRKjZ3MAhAvh/bxMGkoSiE2F+i/Hwr+GbEMonYxZK6FKqeuhxq7pv3gIY3NgGh0WWolCihGTdunC7ViGms40St2aSuv/763kPjE/B9q7Ou0nty6USNgLcDOGvWrJ6bbrpJd85iyKOhHhBK5dEXnouARrqRqEOoxe6GZT7iCIX+iLP3BskynZYxNGKl4Dim9qSkrmLJY0mzBvUrRCxjWUwHi9QnHc8sMDYpUJt7kGgFx8aiv8Gh5L5j6D5n7yFW40bsxiSZZ+zItFCK1OEAMGfp2A4lkpdmIjahbEZjmUSoUXXCaQ+12J3KRfMh4k+U+oYbbtCk6L7GfdOtHCvTYc6DGkAc99CGsibqKn3xS+d9iIC3AzgHB8xchKiAFqsDi0Wb8Dj1Fiy2MZxoIR2NlRKUx4uKA7We1C36dHvTUSo1RXXwozEnon+UJ1AfE2rHHnus7m4nCkjEMpaZHIg8c9taGxM/mYspt0RqibRLqEGYLimqWDQTMaPH2fuDYoVmCIjUaY4oszwM5fg66nEZm25dSJVjReRlg8cmnI13bBNmAiJAbCJNK8MvOw/p/IaWSnhXY8w1ZjqV+Yj2daznU3SPQjEUws5gkoATgCAQEdPo0ke1JpQDVJpeYhO/x7zXuX0sbwdwzJgxhUTQ++67b7/GVUBbfPHFFR+iUDNrhGIt4DRoQGIcs/OO+6RpgegfiwAUIa5mdhCSXjrppJN0CotUVgzDuST6d/bZZ+tOu1CrQ6aPOfGcpYvapTg+rwOTFDI1gPPMM4/mRotlIjUWo96T6CSOKY4l8yU1FNNcaI/Kulhj6wDLPUpTFpsINhOhJr/vGKUYeXOBXgXnj9S6ZHnkOJcuYJE85HcOuXgs432iHhklptB0KnMSPIkA01BVl4lzxaaSDbCPCQVMrAxUdg7wNeKwh/JWxooi+2CUzrFDwNsBHDJkSK4DSPTKhozVbnrdeZSAFktyjCJZIS2GzJjIYqjFbNYw5yL0C7DZkx5yNXPxgBSWFFGsTj7mAsE3c+Pjg/JAqAkxakxCbebEAkaEjaJruuSklrZqvnmLrywINGQRWYxl8p4TuSJCEmK+Dq/tNeEYE8kxCvrLrMyBia2pLPMQ3VYiykjNhRjfC+qqYmq2Zucj3Ip5ncsuDqBsGOugAZF0amjnu8kfGuv7W/R8paQkRKFJKGDoIibDE9uIKqMIQslGCKWbfDt//OMfa+L7ZN2HgLcDmFLA03QHdKwFl+gI0ZsY0REWBuha6lggJMKG4wavm6uZiwedoKRqY5KEigJKyA7bvCeZYyyH0hybCDILDoLpWUqlIlzzFl9q6uABzIvWuD4f8/iYDTV1lDmYc5WuUCKBNO74OoCSsiSLQRoslsUc10x/ElGNoXiTvU+T8zOrNeziALKxoUYvdikK85W0v++3SO5ZaHqIyHPfMUpwit4b0VkO0WiXdz02BYzMefLkyVpVh4wCEVah/nL9LVD3iUxjLEUd1+un46sRSA5gNUZzHCGgxezaJepHrdVjjz2mG2pCjB8t6TsstlB8qNNmLh6kkOkaD/2Am1jJQksXI00moRY7pWzORwiHIUolUmJjeYvvNddco/V16fymKDyWCYkrVDjQgoQYkYRVV11V1yvFaJzKzuWCCy7QJPQ2zQZlDozQaxCxIHIRy6ThyVX5Je/6bBjoqoX6hjKPukz4ELOd5bYOINFtNra2/Iyu9xFLY7gs3e06p6rjhRYnpLmGEgI2OfAfkj2JbUSYcYbZXJDNwxn0MakXD2148bl2OscOgeQA2uE021ECGnqRdGLFMGHehx4EUfsQY1EQkuZYHZwyH0nbwj2FooOrmYsHxesUmFN3Bf9WDItNkBu7qcS8Ryk8Hz9+vNp0002tbj9v8SXlTeqbtM2ECROsxrE5yKWxomo80euNqYZhXpOaVOSr6Aam+7DMyhyY2DrAMg8piCdSi8MRYsIhudpqq+mO0roMhx3nL0upZOsAQnnD8yaSRAmAbaOT7f2IU83mhE2Kr8nvh+8R6c86TRo4oPGh1g4qMVeDrBrVLSTWQtREyq4rzz4kvc69vfHGGwqnl/GSdR8CyQH0eCYCGp2706ZN8xhhzlOI+lFsfdtttym6pkJMmgLYfcdWZaGujpStb4eYuXjUwQsnNTajRo1Sv/nNb0Jg1OfWMUeZFEX2OAMuH/K8xbcuqhqJ9sYo4K9D9cV8uC5p8DIHRmiEfJucil44iTKF1lUxfh0yfXnzls1Plrjb1gHkWwYhPZFuqK5im0S+2UhRp+pr0ulvUz7gew3zPDJH/PapW0UFydUIPFB6FCNYUHRtocWhc5uyGlczGxtjZ6Fc55KOL0bA2wHceuutC7uAY4nHd+uD8wWt7H6I+k2cOFG5RIOKxiONTHSgjnQbaQcif9T/kbp1NRZCFgWMOTLXmFyFF110kaLgPhZxcx1zFMx8UuAmfjLOT3/6U0VElhQo9TaxTFJspNWJrIYYTi5R3jxakZBx5VwiYTQF2KRF8zCUcXzS8jbzl99kDPL4mOnksrlLQxXPnndArAw/czwcx1133VUTshNFjG2SCg/9zolGdcxmtLJ7ZZPB5pwmCdfSClNaj+iaKMzExpaO7Z///OfKtxZWGtNsfo+x557Gs0fA15fp7LrrroUOIItwfzZf0MowEWZ3olZEr0JMVCYowKbDNKZJp2WMAuTY5Ljcp3TIrbvuujpNEmp1zFHmxOLIIonSApQ4vkZHId2rRGdpVollOJU4l9DpQKsTYpzPgkealmcU28wmE2rPfNONaNWyyMagFjHvkbpHFkOMrtMQGTC6iGkEQL2C6G9dJtfx5fCTjUlsDk25X7NRxYVKKYuXEB9TR0oNaN3GRogNkU9kXYjKY1GQFd0rfJo0qvhupEXrPHZdct3PZm4b39eX6aQu4GkqFgs9Lx01YBTLUtxLKiLEJB0WI92UnQcRJnbMpAj4kYcYO3e0lGM0vsg8qIGDYZ8CZCT2Qq2OOcqcYkXYhGIkG6kJvfeYSi1Sm1mXM2ASV/uS45p0ILyXyOvFMhohcPqoyXWh/cm7fl2NKtlrCR8ckWqfrI68lziC0CjVYdJJz2+d37yPxaKTsb02DAWknX2yKAQIaCQiiggfa10mJQsoP9El7WrwulImFKPpyfXa6Xh7BJIDaI9V75G+oJVdiqgfkRHfmgtz7DrrrZCeIvoXWjANRQ3F4SyIoaLj5r3zUaSjNkazQV1zlPmScoIMlsYaFltfI6rGAh2L/FrmISk8uB8pBg+x0NpRm2tL9A4OO/RMXc3ULoWSKTYdiHw3Qmu3YjbnlGFEhz7On28UR+TqfDlDbZ6faJ6H1GyKjnZTzQqiL+7TtCX1itTn8vusy6ht532FAoY6cngnXawJbWWX+aRj8xHw9WVSBHBa3AhgrHQgj5mOOLRrYwmlm6+OFF777kBxJIjQscCKZFnMaIvUBcVIkZgRoTrqbSSdTkqITmgbE/zMY+vShZVnHYNwFnk2VDBweImA1GEif0jHMc07RZaHIcdOmjRJE17HbO4y5yBd33CjkXb0NZ7HfffdpymU6Fquy6SUJJvpKMIvOw/RDb/jjjv0t6gOI8JEVIzfEqUQrmbW1DXVrADtE44cHdZw7rmYrBN1/nfOnHIAACAASURBVI6YT6jSiqTVbaQZXe4/HRsXgeQAeuDpC1rZpWIqTkjkBkeLtHJMo5ib7kDSJsjMuZp0EEKAjJOGUbMVi8xWqCdidEDXSafDfeMQ4RghEwZBrI3ldWD60MnYXIuFm9rUFVdcUdfEhVjMCHfRPKSRqsrBKupijV0+kJ2nlHlceOGFulHJ15D9o9O/ytH1HV/OM6NAbNiEENimCxguOX6DMVLeZfchUo2+dYqxGklcsObbR3MFOEILI5KQNmOIssrll1+u06t1mvD48W3iG+ViQiNTl1a1y1zSscUI+PoyKQIYOQIoKbIQiSB5zHUW3MPoT/SPaIuP5J8sHuKozT///JptPpbFdCy5P6IYseco9+oTqc1bfCXSAv8dPHixLGY0VShFYnI+Zu+TDQ9O3NixYzUvYpEVOTCo0pBaCy1vKLpuDDk4IjM4DESnQ0h6bd4RnDfqFqlfhO8U+hHMxgFE/YMmNDZ2zNVXTaJqntKsQMQJx9/VRJkjlErG9brSYe2qPSyaxTBG+FDIuMxTNm3U86HXbmvmO0r9IN+nZN2JQHIAPZ6LL2hllxJ6lRCJIBkfnj4cyhC2+aK5Ct2Gb4pVFo+YzoU515ipZaEyiKX5nMX0xhtvVNTXoerAtWwsb/EVFZnYNUwxa+JGjBihudqqonM2GBQdI92VVenAIgdGCtd32GEHRa1rbIshB2fyq7lGj3zuh/Qvzp9Zt2jjAJLmJO3ru1G0navo1hJx4v13NeHQrKs7vWg+IlkJlttvv73VtM3NLR3QovZkdbLHQdIF7soCYHbk4/y71g96TDWd4omAry+TIoCRI4BwLsG9FINeJZSrr+xdEp1IohAsQK4mi0fMZo3sHGguIa0c2m0pi5hvJ1wVNsi2UasG1YxtLVB28WW3zQeWlBspO+rXYplJsxG64NCUQTTARfbO9T5Iq9FExcJFjVWRFTkwkk6MJSOYvX4M/j4IlUnJL7TQQpqupm6TJguz3tDGAZRmMTg/b7nlltqmKTq+ROn5Hrk27giFEqTMbJybMnnXXBSVoLVCBcTlexFyP8Kp6hoRl297U/MMuce5/dzkAHq8Ab6glV0KUmW6QX0pF8yx6+y4DK2Lk8WjznqrWBEx6iep21pzzTUVqZrYhvILCjB0IdIIY2PZxdd00mJHhEznkpQe0SBfgwMPehYiyJBr12G2UfQiB0Y0VnEecSJjG3VbSHdRV4lKho/VvSnJzkkUIehS5/uE2TiATalrQP9DrSHvKpEnVDZcTMjYzzzzTM1T2ZShNQ01jgtNilBw+XLzud6bvGvIlFJzamuUeZB9iiF7aHvNdJwfAr6+TG8EkEgL0QvSZHWxkvvdWn1n+YJWNqOYeq4xG0qyc4YSQIqWfbrmZPG48sorNQs+Rc18aGKadINSr0jHpK8J51Yd3dTMyUyVUG9lE73ILr5mrRWLoc0YLngIzxop+6FDh7qc2ntsTEeybALCW1eVzityYLbYYgudoq6rczGGHJz8bmw0j70eVuYkofOAqBzCclsHULq+UQ0iylWniY46kSfqk11s2LBhmi80hgKTy3UlGuzCV7r//vurMWPGeMtwusyPY6dPn66WXHJJ/U2hTltYG6rGoUMZiitqXml4Sta9CPj6Mp2ZM2f28FEg5cLiBfM+Xj+7lP6e8/cFrew1iOkQxaSUyc6ZxZzC7mxhuO0rzoeWgm0K9SG8rqNTmZo6HBZq7Gg+8DU+XpDuEgVk3rGNj6rU8dg604KfzMVFAs1n/qQbSTuGUHnUGaU070kibFWRhyyGMoboPkNwTuQrtsWQg5MGrxiZApv7Q2GGNCm0UldccYU+pQg/czw47qjPq2rIsZlD1TE8b8jvaeKhhMbFmuYAlLmJNCJOFZF7G+UawRT2AKLVdRvfevDh2+QSuW+Kqqbu+58bxvf1ZTonn3xyD+z+FFwTZSFFxocC9m9SkP3ZfEErwwRuLUL7MdKNfKzpMKXAmR18bCPSy0cBxwDtVB8j5cLc6DQj0hbTkIGjIxZibaJBvsZum123S5rG5VoxiKYlTcNz4HnENqkBu/baaxURMh+TKCUbwzoIlmVO0hDgS1FUVze1zC+GHJzI8/moSPg8O+GChGKHRhBbk40DqW5S3nUaGtjIuJFSRXXE1ii7QOkHi10+UTUHgiZs/ojaw4gAtU+VybrjE+msGrvo70Kt5EK0TXQaiqIYsqa+807n2SHg68t0hg0b1sNHiB+fGIW/aFSyW+jP5gtaGSZS4EuxPEoGISYknKF8Y0VzoNGA9KUrhYE5Hu8JdVZEAWHGj2k40jjUFDGzG/U1qdMhCsgCU4eF1saRssQxc12gbe+FLmUiqXBLQpHiY6Gd47bXDCVy/sQnPqGIVvoqiVTNk6g5EZ+QBiW+uWRZXJoHquZV9ne4PklT4ijhwNoY90lTBs4N5UE0A9RpQqjuulETXd26uvyr7pmSCjqXUW7im1VmaB2LNGFM4vyqOdIRT8kEGuO2gR2pwQ6R56uaV/p7HAR8fZnOf/zHf/SwuzPrgtjJ8L99ukPj3E4zo/iCVja70MXLHFtSInWRhcruHqeVaJuPCcUAnZtE2mKaqAMwLuP7GiUOCLbDgQVFSB0WGnWKJc1XdG9QVJD6o2aJ7lgfkyhljM1N2fUpVCeSQhc49BMu9ZBmbWsdqi8y71A5OGlaiC37V4SrqZRhi4tZlwqusUjei+YoXH7U8/EdtTWiWmQIYijd2F7TPE4yNXxjYIAoM+FfhYsRWp6mTCLOtptgk6qm6ahqU5j0p+v4+jKdT33qUz04GLSli7FbxPl4/fXX+xNGc9yLL2hloKC0sPLKK+tGGj60ISacaz4M7jbXhYCU3TNdstTwuRi1ZLwzQtnx4x//WBFpi2l8rIh+Mi7j+xpdj3RnU9BMh2kdJljaRAG4vuAnc5HGBxpqSPvHNok4hRTzywLNe4mEWV3GggM9CobjIv89e70shvwdyiAiVXWnqUW1xfe3Kek1aoa//vWv1wXlbOMK+bBE/PPwM08gMAD9S90Ov1xTvp2kVHnuto6/8D66Rg5jgA6GbIz4PtnwTpKBINuG7CNqTE2ZdPTadq4LBQwk4PymknU3Ar6+TGfIkCE9RASokRIj4oJTSP6/P5svaGWYmLtmUkQhJjI88G/xIY5tOHBE/3xq7KQDk9QvBeKkguHEimnC7UXKgtSFr9HUxAcQfjB4wuowng8Lpi0hbLaDVeg2KAqnODy2CXlxCDeeKGzQkEM6uS6jppLUI3WGZanHvC5glBVIo2d1b2PPVcozfAv5JWJcJ59i9p5Fe1iczioaGHFWmqIrIdUMM4ErF6Z0OPP94TvUpIEhm33eBxsSa9mMNs1XKHrQtmlyX+7AJrFP1/oIAV9fJpcImjA10kGE4vuz+YJWholZkMwCRhrL14hksPuCaJgi/tgmNXY+HX6yeBCxYkGpg39L0hauDPZZnIQD7dxzz1UotNRhrtfILr6kjiARp/mKf2MbDjQLJPV/1AH6GEwBRHzNTlKfcWzOEeWKMqmsPAcmZhNW2TxD5eCIahLpDGnAssHRPAbuQjb2shGqcgCldAIHi0a0JkyIxqHaIQtlYyId6OuM21yj6BgwJKrG+0oHMLWnbF6KDHob1ldKPogYNmW8a9TG2vIsCsE1DivZiWTdjYCvL5OUQCIrgbCLxXnGSKEvuuii3m9OaGNB1YVFI9LHeZPFQz6+Ic0FRfOUonCkwYjg+RrpFqKodX50RRPUtsg6u/gK3xrcW4cffrjvrRaeJ1qrW265paIj1MeEF4wUFg0MdZoNBVCeA8N7SMNQ3VFKiaj6OEdmituWNigG1qQpYXyQRb3KASQ1DZVOaA2uy9wlssr7ZTYmlo2x7LLL6g7cEIojlzmax0rEH549yPVNqb3smEQ2F154Yc3FB5UQ5PFN2korraQbo9gk0RRWZm08+yax6G/X8nYAd9555x44l1gkbTiM+hNwvqBVYUD9EfQAaLByDV9jJ0kRvC29gOt1JH0LMSy7fReTxQMCaOpF6qhlkhRUiNPCPcWgQKnCxla+TMbJLr5SSE6UDX3R2EZdIdcIIcMmOkm9VWhK3ube1l9/fUUUCJ41Ild5lufAxIh02sxPqIV8oqHPPvusIgVMupOIkW2tm828yo4RPkzh7KxyAMUJt61rDZ0f59OoRaOSbSScLAs40rHsoyASOmfBULj9+GZRu5xnohjEfHH8P/axj4Ve3ul8l2YVKT/yqQ93mlQ6OAoCvr5MZ9ttt+2BEJQ6BopocQapoZkbzBe0KmyElJQfPLsuH2O3KF13MLmj5BDbpHbGlXeLeciHzyZS4ztvW0LgqvHZafMsXNJKVWNm/w6GNKug3kJEtcqyi68sID4kuFXX4u+h3HqMIWlPokhEwOo0iU6XOcR5Dow4EHU7qSFycNRW0wSC0g3OYFNGFJyNPt3/NFyUOYCkCmnGoPu3LjqdvPsWKU0okeCsrLLHH39c196R3oRipSlnWuYlGIpsZ1nKlGNJ+0JU3kZ9vdQZV2VUCDrw7HGqQ6Ujq55f+nscBHx9GZ0CpuOKRgBeUD4ShNRxBOma7M/mC1oVJjb1S1VjNKG6IHUePvQo8uGT9AsfND5sMY3IAykhOi7/+te/eg8tz5kxGKsOo26POj4aTpADrLLs4itRSt+u0qrrce9074IFkWkfk7RQE9QlNl3LeQ6M1LkRqeS9rstEDo4NHpsLF7v66qu1VnjTjoDZIU0amm9+UXR12rRp+l0hSkXKMqSW2QWbrJNada4QXNOFT71o0ybvoMhNllHYiASc7SYx9r0I1ygUbygsFZlQmcEZCR1M00517PueG8bz9WXmqAGkNoEdAlQwRKH6s/mCVoVJDNmtl19+uVcQnZ1YHT9CIUim/owaMRdj8aABJIbGbNF1Y5Fqi+IJUQ+eTR3mmq4W/GQuMd6Zsvt65plntNoLO3s2Fz4maVnbTmefa8g5ElEti6hkMeRc6cYuSx2HzEvOlXQeNV1EnlyM+jYc3K222krhDDZlfEeIlOHQMX+cAH7DeYYkG00YbPB4d5oyk0UBJ7XK8aShhegbPJe8l02bvIPiMFNGBf0XOGdNaL3qfjeLMGDjh94ymSW+AVKrnj1e6mirpBibxjpdrxgBX19GO4CEfAm382JSIEpBKztDEQ3vr8D7glaFhwiTh9RPmHVCdRFyi5A5z5pn72MoIlTRdfiMyzkPPfSQltQbPHiwru/xsVDNY9trSgTAlmcrO65wtLHxQgIttpnyZTQq+eh8h/BGut6P8CJC8Msia2uS7q+LOknmQQ0XGwusjKswb97InNHh3kQzTfb6wl9YpZMsTirNAqwJTRm/VxrncKptfgsiH1cnx6ftvUNeDol5nnY533DeF4IqHIMj1rSBLeoeMFUQ5Sti+ZBa3zrI/Zu+57nler6+TIcmEHah7ArYDRL9M0mh+zOAvqBVYRJDw5bdOfV1RNioAazDoE0g+ufbZAHPoezQcTBEjzPWXGM4wbakwqFznjBhgibT9tGA5sPMbjxEWqxq/jFqSutM92fnT1MR3yOajODKszWcByIwTXRZiuSca2RZuOB8am9tcSg6jtIeuuGr6jilqQkuTrrxmzQalXjmdP6zHpWZqCXVVTvrct+CbZ68n6S22yZW3nDDDdXNN9+syiix6KCHpLoNWh0XvNOxHyHg68t0Ro0a1cOPbNNNN/WKCvTlh+ALWtU9x6BGEckgdpV0AddhUpRMao+PgqvF5DzMu7YpR4Rz5CNF9dJLLylkl0ih4wTVkUpn7vK8fAr7TfmyOmlBQlPh4lxReI/aTZ129913a3lCumWffvppq0uRyRAOtlAKJpsLggHOn2u00ZUz0mYutsdI2UcVH6Q4CnXpkJfNlxo56kxhJijLQrFxInLOd6KMfsUWm9DjcKrgLM3rtBcKnpBsS+j8OF9KK4qeP5gSdGBDj9oPaetk3Y+Ary/TWwNI7cVSSy01V1HB+IJW9TqQtkKfMqRYHoeMj/Bqq62mHnnkkapLev1dpL1oQIBs2sVoKuDjC1k1UUDSwLGNMUkxY77C6RDtUl9HtAbnqi6TbkSioHw8qwz8pNue9Lb89qAPqstJDSEWp34MB9yWSLbq/qv+LjWLZVQpJoaMF6IhXDWfvL8Lv6Rr9ElqwSi7odu1SZPIKnPg+1TE+MCmic0TGxsURJo0caSqFEikTprfCzVtvCtNm/kOolrDBpDGGbI2ZkZEyoJoEKNRrC2jLIlgT5G8n3wvyUjwvayqwWzrPtJ1Z0fA15fpdQApZn7wwQd10e/cYr6gVeHD7opFIUR6jMWBInEf56xqfvJ36WS0kTDKjkn0cI011tAOKnUl7MLrMD5E1Kz51s1IRxsOFoXadRnC7nR/8/EnWlnlxJkdrK7Oo+89kJ6mrtKGCDZ7DSJqPGcsVOHGZv42ZMnZLmA2MXTWUl/F+1K3ye/clUdTWALq7EovundS4/xm2RBR55fXBWw+6zoj0kVzFB3aqo510pSkK5vSKs6bb/YdpH6XDbuZvpYGEb4JOK11UHrZvutm1gbiasQGTBO5RxRLeA7J+gYCvr5MrwPIB4HFITmA4Q+cNAC72KOOOkoXe/uYpGfpaiTFVIeJPiSRIXavLsb8eFdYcOtMU0uXMR9VFi5Xk25GH7oOl2uZDgvRCLpty8xcOJrihZN6KTjs4Px0MdKwLLRImNH00ISxKeVaRTx02cVXKEGIWBG5qtuERslFDYQyBKIqbREXm3q7Reld6b5vypHOPiezwaYslX/qqacqahShJyKy2YZl30FJ9bJ5P/zwq9UPf6jU6qv/Wp1++s6a+5HShrZNGqX4vVD/bZqk39uo/Wwbl758/eQAejw9X9CqLoXQN4XT8MKddNJJVYfn/l0aNDbffHNFqrYOk2iATwSPDx/OGTvwKl6pkLlL4wG7UXalribcV6S6cHjrMlKjdNbaCtmbC4fwHZZxiMWYN9xzNHxBtgsNiYtRD4Rj1aRTUEWNk118JXXYFL2KaCO7dCqbkWIiqU2rQfDM+b0++uijCgcKbrqskRrGEahKwbq8P67HkkplU3rbbbdprd08E2LyvKYL1+v5Hp99B+WbCh3Mzju/ocaO/YRadNGL1YwZu2iqLZru2jb00JlL3sZFiP1hNYCMPVnfQMDXl+mNAB5//PG6gBUVi7nFfEGrwocPElQPIULaIjVFpIaITR0mxLCkWSmgdzE+fBTc41TUmS6QtCVdtqhluFoTkVSZk4t2s7lw0JVJByE1nyh21GUhSh6kjXEIfLqcfe8HNgKiUUWLUXbxJeJ+9NFHKxY4nMG6jTpfnD8XQmch5CYNTN11G4ZWMlxvRY6TvCdoUqP/3IbJZgWCdWhJ8kxqKaEJ4jm0Ydl3kMqDbbbZS02ceL+ab77b1LvvLqyUelktuOAoNX789WrIkIXUMsu0MdOPrilE5PCCUvMnJpsTUtXUMGbTw+3OOl29DAFfX2Y2ImiiF9CPkBKk46+/my9oVbgQ9aODbZdddlFjx46tOjz379A0kE7gY0yqpg4za31cu2z58NGwQB0UjhkOWh0mlBBo2RaR1pZdl50uDoEv1Y3LPZEiJVWK00IHa5mZC4dEkthx4+zUZaR1iPr4yKTBEwlbgG/HuM89iXYpmyFoSbKWXXxFPaSpiJDUHLpQe0htL84LUdU2TN63/fbbT+vuZk3q2PJShE3NVzSd+c3z288aqWxKBIii4sTgzLRh2Xew0zFnMUspNUApJf9++LeenjZm+tE1Kasg68M33yyvYK1CH77Nd7NdZPru1X19mc4vfvGLnt13312nrgi1k2qjm4rUGTVD/dl8QavCREhsiz5eVefzd3bfaDe61BfZjGsew0dU2ODhThNiW5tx+PBxDlHOOmtwkIIjRfrLX/5Sf5xcjVQ8Kfkq/UvXcfOOJ0XKom7T3WkuHEStiF7VHbkimgNhro/yC/rGvIsh77QrxsJFh+4wG6IqB1DoVXxS3K5z43hTtQJHhLRflTWdps6bj9ScEgm86KKLZjuEWlYcK2oUaV6geaoNk9rdokip1C/jyNDMUNV0Vdc9ZB3AceOU2nVXpWbOnPOKAwcqRTyggtqwrqnONq7Q/PBNGDnycF2r+MEHB6i77jpNU8WQwUrWdxDw9WU6999/fw/1UYSFWcypuaATiMaDbihYrfMR+IJWNSfZSYXU0IioPYXmpOfrMgrS2Qm6in7z4UNaKDTSWXVfSDxdccUVOlJBxMLVJC1IdAjHoE4T/keeP9HfMjMXDtEILXJ0Ys05xIlrQ71CouA4/mwAqhxAUrFE5UjNkkKs24iA8/txocaxkbire95IwdH0R3kJTAU4WWIQMBN1r7trvuoeTeUMvjN8q02TdznkG1s1B5u/5+lRT5qkVJ7kOFLFw4fbjFr/MdDR8I2i1nKzzZ5RZ57ZUZ3O6aqnZz/VBM9n/Xc4d13B15fpTJ06tYeTkdQh8sdCC/EwFB918qZ1w+PxBa1q7qQsSF9Rw8RO1sdE4oiFl0WjLhNyX7RB6ZS1NZxG5gax7Pe+9z1FWqkOExzYqRIVdTWRNQppyLG9JpQa1GsWFdeb44CfyLEJnQilA8yzLoOaAg4yn1pDcVLr3pCY9050ihKIokXexJDz5PfcJIGt8OXZUrqQbcGZ5XdDiUdbRsMRjSBs9s2OcDabhx12mHagcaTbNJEezKsB5T3mfQ5hWohxb9l3kDHFASQgPGuWUvJvNzmATzzxjhoxYqR6661/qk984m71z3/Or2sVV1/9EHXRRWMV7DBt1yrGeD5zyxi+vkxnwoQJPRCashMgQkLKjQ8DNUxwBvVn8wWtChPp6kR3k4XBx0hZUndFCpParbqM+iWif7YLmDmPJqKUoR3VTTnS4CIUCq66pHR6jx8/vnbpJa7BtXzey6acVPP9EtJam+5oonGUM5C6pJgdx6wJI3syceJEq7Q/88GZpaHGt6Qh1j3J72qPPfZQF1xwQe+wkhpkQ8fGrk2TEoBsaQQRV+rUiQz6NofVeV/09iCgsfTSSu2+u1KUcE+dqhQkBJlAZp3TKB27L9QqtgZOH7ywry/T+eQnP9nDx5K0AAWhfET5OPFRoFakP5svaFWYSP0KUlGE032sKbkoSKCZI6TQrjWfLB40qFCrSNSgDpP6ON8UrktULnT+UrfpGhGFH4zfWt2pyxB5waacVPMZPPDAA4ooEN8nnLoyM+vx6Ghvil4FyhlqPm3rDoVmw4eMO/T9zHOucaTI+FBDB25kBPi3CS3lqvuRDQvUQ1DCSJ0f8nt8W0m/E6RoQwGkau4II80zj1I4WjR9vP++UvPOW3VWc3//sFaxR82cOVvXip5AN9UqNodI376Sry/T+e1vf9vDTooORKmzgCIAOhg+bv3ZfEGrwkSoHly6A7NjiiC3q8xU1dyyf3dpXDDPJUpMCpj0zOmnn64bBOowIXvdYYcdtIi9qzXpuPzv//6vpqywaTgBPyG2FmJWHyfcBQ+RefIhc27KSTXvx5TIo8kiqwVtYijObZM8hcwVZ5+mL9v6TeTBcFr+9re/Kbpt2zJq7KBvgvXh8sv/rs47b3m12Wa3q4MOWk+vA1BEtdVYIZgQlAAvnr1JBC9dzGSuUANp08x3sM15+Fy7L9Qq+tzX3HiOry8zGw3M3AacL2hVOMWQ9mpqwRVH05Quqro//k7xM+eEdOjaXCeUEJvO9jvuuEM3klCXWadV1ayZ1zaLx5dccknNu4USDxGiusyUgSLKIx3gNtcj4kLkpYyY12Ycl2NgJkALmvRuXiOAiSFccGxim1ZbgKeOuk0izZRslBn0G3TYYm+++Wbvf3fBJOaxQgs0fPhdatKkddQKK1yv/v73zXTJCaUn3WCSMqfWb7PNjtTdqjNm7KkefPAXqowjsKm55zWBNHXt0Ov0hVrF0HucW8739WU6b731Vg8pS3Z80IKYlse91Z8A9QWtCoMQgmUZmyYcogR117hA4fL73//eOoUl8+PDR9oLzjtfjr4qHPk7EUaK1HHkcD5cTQrJcVRZTOo0IVi1IQaWhYN6JlJZRU5OzPlSH8e1bNVKzGsvscQSmm6j6ciVKELASIBzZ5q5+NK8Rk0qTj7OflMmjqcNGTpRLKJ+ZFfarq+GsPjXvz5DHXHERarTmaB6ehbXTQBKbaIuueRSte66K3dFE4CQpBPZ3XLL59SZZ0K1M0Z1OgfoNSvbHdzUcze/g3l6yk3Pw+d6faFW0ee+5sZzfH2ZzuDBg3sItZMSINz+6quv6poKPvjPPvtsv8bSF7QqUF577bVeFnUWdp96JIhNn3nmGQUtwzrrrFN1Se+/iyoAxKsQBNsaiy9dqw8++KAuat94441tT3U6zqURIG9gF3Jmp4nlHEykEUfVRndYnBd0g6HkwPgN1l3P5OPImTJ3rnRBoZiKGkiefrHpAEpTQ9PRKyn3sKFNkeYwNnf8bto0atNGj75MXXbZaIOouLsIi8HnySffVSNGbKL++c83Z+tW/eIXf6bOOOPM1rtV+3IEEHy7vVaxzd9IX7q2ry/T2XPPPXsgJ4UEmBQU1BTIUsG5RnSoP5svaFWYkF5DJg3zTfUIvQSF8Mhv1WXU7sGp5Sr7xIePbleUL+p0Uon80JGelS2yxWPw4MHq5Zdf1gsuC2+dRj0VKVw0kknplpksHBItJjLHe1N33ZU0/cDz+dWvftUKDuighCSczaK821YnBx4k3fDw1eHkmWYuvsIXSR0mkcCmjA0zzxurSqsTMYdrtQlVmqr7p5z2+usvU5deigM4u3VTE0C3d6v2dQew6j1Jf+8bCPj6Mp0nnniih4gFaQk6ESlIh0wVkki44fqz+YJWhQkREwrWQygpqBWiZsiU6qm6rs/f4SKDcJd0P5JbtsaHj4UW56rO2jVSjjhuRK64lqstuOCCusOdaOqyyy7rerrT8SgnfXaQ7gAAIABJREFU8E7x7CmnKHPmZOHAMYXmBEeVpoe6rUpfN+/6dGCSiqUe75133ql7irONT3PFCSeckKuIYy6+bBLYLDQtYs9vnQgu0duq3yocikTa61T3cXk45557mdpnnzkdwG7iq+v2btXkALq8cenYuhDw9WU6Tz31VA9pshVXXFGT+ZLKw/GDK4yPWn82X9BsMBEHzken0nQg65ZjYnFlkc2ThSq7Tz580MDU7VyJ80HUiWu5GLVu0jlKRE4iNS5juBzL/HA4MZx3um2LTBYOInF0MxKZo6OwboPgl1pFW9oS5jNp0iT9PbBJc8ae/9lnn635FaFFolbVNHPxHTJkiJoyZYqWsqQer0kbOnSofnY33nijoqmqyISSqBuaF5ijOIDdTFj84fvXvcoayQFs8peWrlWEgK8v0xk3blwPFBvogxJtIRIE9QhFykQC+7P5gmaDiaRwfVKP0B4QbcFcNXpt5mYeIwvsNttsoyhotzU6HknPYaTB0OSsw15//fXesWHdz1KBlF2T9DuRbYzIlWBaxzwZE8edaxD9wxmhcL3IZOG48sortb4udZ6k0us2fud0Vrsoq0C1gWODo0Oau0n7wx/+oFOmNPNAuGyaYEidLRsE/iWlDv1SkyZUQ+eff77+jhaZdPbX2TTlct8XXXSZOuyw0V1NWMz9dHO3anIAXd64dGxdCPj6Mp1bbrmlh1ogIiSw/bODJiIIGXTdNVN1gWE7ri9oNuNLE0de92LV+abTgzMhkmFV5/n8XeTBWOCJYNia1K5xfJ1zxOmjPg4DF4hqbQ3qEJwwzsepbsJsHX+cU+rqIFxHrWSLLbbQhMJ1m6QhkXaDY9HGpBM7RNrQ5jp5x1BeQA1sXl2lYChRYp4zUVifpivf+XGecAFChg4pepGhuQuhdZNSdWX3BX7zzffJriYsZv7d3K0q72DI+5POTQiEIuDryyQewGnTtBg63Y0xTWhcqtJCedcUxwXHL0vNE3OOjHXNNdfo9JoNdYl5bSJcpN18UrOu98A1KLBnoUe5wNaEdsOmKcN2zKrjXJssqAnDKaPmduzYsVXDB/9deOto9CLSb2M0ie2zzz65aVib80OOMTdDRQ0oEGivv/76uowFrsKmTTAtIytnA8J7TJSYWlZqWpPZI5C6Ve2xSkfOfQgkB9DjmfuCZnMpSfdQt4SD5WLUYNKM0wRfmCyerjVo0pwBifFLL73kcnvOxwp1CelH0pC2Jh3Eyy23nO5WbsKkGYHUrk0XvU9ELuQ+cDJ32203NXLkSAXFjo0R1aJL/Fvf+paW/mvSzCYLnDucvKwxJ+pRXe4p5j1IGh9VHRRJ8gxpNZRfaBghalR3t3fM+0tjJQQSAt2NgK8v0xk2bFhP0a1R/N2fzRc0G0x8FTYYm1onRObriExm5+4rWye1WZQL0P1Yp/mm04VDMK9+rK75ksq97rrrdJ3d7ijBFxjRTCKopH9JAyOrd8QRR9Q1rd5x5bmNGDFCpyJtjHQxHeLwRBKxbNogTyaay/PEyRMTDKWTnSglNa1Nm9D/sGEjYpnn3Emkvcl3sQoHwa/quPT3YgQShunt6AYEfH2ZzlFHHVXoAB555JHdcG+1zcEXNJsJEfXjo3/eeefpRd7FhFC4iZQWzhs0QNSj0XBiazgEOAZ0h+JE1mnQpNBMk3UAqq4JeTCdl9S40m3bhFFHS2oVkmwkwopMisdpACGCBBcj3a51G1RPRKehdbEleiddjCJDHhdf3fNlfOlczmpOC4bSXdvW/ChPgMCbaCXRcKLiWZM0Mao2vJfdYKmBIfwpJAzDMUwjhCPg68ukGsCaagCFwNaHmDZU/cLldYJ7DnqPAQMG6C5K29SULGjUXt18880ul3Q+VvR8XTnecL733ntvtdVWW2nqkyZMomVQ68CvWOUA4pwicUdXdROSUtASsbGApohUpI1BDUUtK+ljahWbNiKPOHdZ/jxZfEm9Es20TbvXMX84Jp977rlCrWSJ9LoSrtcxVxkzOS/h6CYMwzFMI4Qj4O0Avvrqqz1ZCg8iQaQqbCME4dNvZwRf0GxmKx98F7oNGVf0RaknQ2u3ToPrUfjqkCUTHruqawp/YB4/W9W5rn+3Tatmx8VpwHkgKverX/3K9bJexx999NEK4XocT7j2qhxASW/edNNNasMNN/S6pstJZlMFjQnSYV02hugpjx8/Xm266aYul4tyrHRKo+WMnFrWgaHJByqiulVzym4GXNi4FUX8xdG/+OKL1U477RQFl9BBkvMSiqBSCcNwDNMI4Qj4+jKdl19+uSfbkUaXGlxadXeght922Ai+oNlcFZUMBOop8j/++ONtTuk9BmcFYmYiL+js1mm+qiXHHHOMrllrwrmiu5IPrWs0lWgLDQzQdEBy3oRxHbg0R40apVUpqhxAkaprynlBnYbucheVGr4FdMm3RV9ChBQHKisHyDux0UYb9epuI1knuspNPGvzGvJ751/e06zJt4YUPB333WDJeQl/CgnDcAzTCOEI+PoynYsvvrhHdD6ZBuoJpPSISLRBqRAOhf0IvqDZXEGcDx/ZJyFnpouUtFbdRvE66cCiLsu861MfSuNCE84Vxf1QkRBZc6lLFZ1jmgRwWJswqTtcb731FB3WZQ4g9WBE4PjN4WDR9NOEScTMpquaDQL0JUQLSXHSuNK0gQ1OKPx+EHoLLyaLL///l770Jc33CDVRWyblBtkoJfMxCclduSzrvJ/kvISjmzAMxzCNEI6Ary/T6XQ6szWB8HHlI3/KKacoGO77s/mCZoMJUT+IYaHcgFTbxSR1SaqIlFHdJhGe+++/X3cf25h0XlaR39qMVXWM6MG6kBczJvVq4FfVkFF1fZe/s3kilQvlB52rZQ4gHa2LLbaYPoRGgnnnndflUt7HQjEE1RAOKo5qmSFpR70g5lIi4D25nBOJVlKmgPNnblJYfJnfXnvt1RoFjEz39ttv11jCU0lnqGmUcUCize8MAvVuseS8hD+JhGE4hmmEcAR8fZnOK6+80jNo0KDwGUQeQbQ9zWFxqkipisFFR+ckjgtRDSI+1HzZmi9oNuPTsbjffvup7bbbTl1xxRU2p/QeI3VkLGxEvuo2nBV4ynBeaOqwMSnMhxbEBXObsbPHCFmyq16xdGKDIVg2YaJcQVkFpRRFxsJBBzUd2KQtSV82ZUTMkJ2zkSQj6keDAxJ3EDHbNgnFvhc2JtAjUR+LbCEGhshV0pH+gx/8QNGY1JZRNy0qNVlpxLPOOktHyjfbbDNNEdQtlpyX8CeRMAzHMI0QjoCvL9O1XcA4gPComdqaLJTSpMCCSTcj0RYiRKSzIKql7s6WdsUXNJvHJeS0Ph99ca4OPPBAHYmt26hJYiGlU5aOWRuTLmcaHWh4qNNEiQI6kKuuusr6UjizRLn4SG+//fbW54UciNQXqVzSldTQ0l2dZ3Rf41yhAYyD9cwzz4Rc1ulcoVXBMfnOd75Tei51f3TZth29guiZ35TZRQuG1KCiVczf+P23aXBiQjg+YcIEXZsoxuYDneAmouUu9w9+SBcm80cgYeiPXTozHgK+vkznrbfe6iF9QWoi2/RBMXtbhgNIyo//5BmOB2lIeLekk5HoIE4M6S0b8wXNZmyifjgdVbVgeWMR1aQOkCYL6uzqNhYraj5dOhRxvIkYwg9Hk0ad5svnR4QNMnM6R6nNasL4DUkq97XXXutN8eZdW8iBP//5z2sHvCmTmsqf/OQnimhzmdH5SylI2wTGeVE06hOJ/INzWw0qJnbCRwj9D5tSMaGp4T2m7jNZQiAhkBCIiYCvL9MZPHhwD6kd6ECoRyJ9AakpKaw2aWBwAKmL+uCDD3SBN04GHXYDBw7UuLHzJwpo8ruJrFlRoTWF7PxHjFooidjE1gIm1QN9iYvigsyr6do1UmpE1mwiQjJHnBZS7yhL1F0rSic0DhyE0C7qNKIgQrqTSFtTJk01bERI8RZZSJQ45F5opsHxsykxEOm4JjrSy+5JZP1MdRyipjxjNoB8C5qqoSyap3Bjms1bfFt5H/iOtdVEE/KupHMTAgmB7kfA2wHcc889e0ix0QlM/RJNIDD/U79mo2VaFzRQKRB1wCm955579I6ahgqhWCBqhZoB3XdiorfJvzh3WZOFL/v/1yG5Js4o82A+LgbuaAgTBSRaU7eBKwt9tsay7LriAKJaQk1ZneajXsF8fDWEQ+9FHE+K/+FyzDPqAy+66CL9XuPwg39TJil1G4JsaUjim4DCSVtGAwrNKET92LSRuhTntEyDt8n5ioIP7x2pQdL/0hzCN2bq1Kmt1VAWvYN5qiVNYtbXr8XvOGHY159i35+/twP4xBNP9BClYJfKQovDQjqKRck2lWoLnwjflx3/+OOPq5VXXnmOQ+ikJWLBQsBO38cBbDIC6Kuxy437pGRtn0HecTj7NK241CiJ04hE2xprrBFy+cpzeSdWXXVVvRkg3WdrvCekZClvoIatKfviF7+o7r33Xh1Vpd4uz6hLpKmBGs+DDjpIK100ZWwu2GRQ+8lvvsykHrWI366pOXMdSelfcsklihpU3lc2LT5US3XMm+8LpPpkU4TXkRIOqIu6SQJO7j01MIS/BQnDcAzTCOEIeDuATz31VA/FyzRUQGJLqgfHj48tH7KY9sorr1Qu4BTE56kTPProo2ro0KF6bjisPing7L34gmaDCXQVOLI41jNmzLA5pfcYtFpZmFmo6WSt23wIk6GoYSGmTIBIbJ3mI1dH+QD8dRgdmibXZZ1zZewtt9xSp8Yp/DebmMzrsnCQ2qbusolOavPaElGlzIK0ZJnRWEGkMlvXVjeGeeOLM7rFFkert946Qg0ZcqC66KLT1LXXXqvLLbrBKIegbvK7371IPfbYrurFF3dSTzxxiULNhEaWbrLkvIQ/jYRhOIZphHAEfH2Zzrhx43qor2OhglaFxg9SPTgtTRamV0FAswFOHzWK0C1IEwgheCGGJSJA1MU2cukLWtVc+bvZDUr9jwt9xuc+9znd1dyUPBg8eYcccoi1qgeawTwLPn5ZygsbbFyPoY7K7P62UXuYPn26Ts2AO/Mt6sZ1nYvN8XSvE7FGhYR3Ms/Ajt8Z8mFNd7DitC+33HLaQWaTV/ZuigxfmTNrg0mMY+j2/drXvqbmm+889e6731ajRx+rrrzyp3pTKXKGMa4TMoYQQi+6KN/QbyqlxqgBAw7UKeGs4lLIdWKcm5yXcBQThuEYphHCEfD1ZTq33HJLDzJLLJgs6tTbERFkAas7tVd020QocD6ZF4s9/5sUFI0AoukKuz6RQNKlOC+Q7hKtOPXUU7uCBsYk0MWBkWiUzaMmogaZbFOyUTjT0IHY0qzQZAOvGR8/UqzigNvcm88x1H2RzsWRpo6Kl73K/v73v+uoNnVjvCtNmpQ6lBFXgx3vKo00TUewTP1nsBGi5zyMhH+v6Tlm54LIx0svzVRbbLG5euUVdJ2XVKNHj1WvvPK4OuGEExVUpsss0+RTnvNazHHy5LfUyJEbq3ffha5oSaXUy2qddY5VY8ac3hVzNGednJfw9yVhGI5hGiEcAW8HsIfVtcuMTk8cEiJ51NXgEJFyhBfP7PQziaAhs6YWCGfQ1nxBsxkf9QK44DCca+gqbE2kunBqIWmu24iuUuS/wQYbaE61KsM5JbJFBzbObRPm2tAhNZg8Y5zGJk26QalTI02eZywcYAiWbLqoG2zS2FhRT/vUU0/pDV+R0bxANNtFJaaO++h0zFFnKaUGqNGjL1WXXfYRBVHbX7K8OSr14VzF2p5jcgDjvp3JAYyLZxrNDwFfX6aXCPqEE07QhL7UrM0t5guaLT6kpYi2QFdBbaOtES2khg3nAGmpuo3oDh2htnx0ON68L7fccovmYWzChGS3rLPWnAdzw6GtkmSrY+5EqVEtIToNKXCRA0jEmufcRB1ldg7SqVzWxY1GMRuuprWK8/AaN06pXXdVaubMj/46evRl6rLLRiuYoWii3nHHOp6m/Zh5c5Szu2WOyQG0f542RyYH0AaldEzdCPj6Mr0OIGkgOjpdHJW6b6ru8X1Bs50XVBU4SC6dstSrSUq1ifo67uW2227T6XZS6jb1k/DqQVFDlI0IUhMGnyLXg18RdZUqk05XGmrgkGvSIJ5mjmW8hdT/UXKBuZYIxLgX6GnApUwOjvrawYMH6xpBUv3CwRnj+j5jTJpEJ/CcDuDEiUoNH+4zYvxzsnOUK3TTHGVOyXkJf/4Jw3AM0wjhCPj6Mr0OICkheACTAxj+MGQEatCoRbONWnGeqSlKdKgJclscVJwVFnuK1auMLkeoY2jGITXYhFH8T3paKECqrikccSNHjtSNFk2apJ/L+CXF6aY7mWfetAn5N53/1HPmmbwXVbrGTc1dnCvU9WbNUmr55Z9RTz+9nOom5yo7R5lrN81RnheZCZqBkvkjkDD0xy6dGQ+B5AB6YOkLmu2lfKTIUCSBs44oYFaaz/a6rseRaqbOcr755lPvvPNO5enseukcR2sXObgmbNttt1VXXnmlOvPMMxVSeVUGryFOahv8a9OmTdONKmV6wEIUDlUQPIdNm8gNmtq62TmIAgvNYDiDbdvzzys1YoRSUDruvrtSF16oFOWd7EEs+oIamX5fmGMjQKSLJAQSAo0h4OvL9EYAKZRfaqmlehsXGpt5ixfyBc12yl/5ylcUNVboAm+33XZWp5GChYyb6Brdtk2YGXXEAcQRLDOhuoCjkFRrEwaHGnQpxxxzjNaArrKf/exnCq1b6I2gMGnSSOPDZUl/FSUAeUoB4kT7aEXHuBchKAZXOOryDP4/6hTbiKIW3SNKjvPMoxQNFzRUvP++UvPOGwOReGP0hTnGu9s0UkIgIdA2Ar6+TGfKlCk9IltE+hcm+7nFfEGzxUdIYV143kip0oxBFBAFiyaMjmXqu3BYeBdIBZcZDSAQA5NGxElowlDLQDXj4IMPVvAWVhkd49CsQB4M0XLTBobU0IkiRPb60ik8evRodemllzY9Pe30ffvb31abbrqpJi7OM54xzjaqL9BCdZtBtWTDCdlt8+6W+ST8wp9EwjAcwzRCOAK+vkxnwIABs9HAQEcxZswYrQTS380XNFtcWNwvv/xyddppp+l0pI2FaAjbjF90DBFHIoFFUnzmeVDtEDHGyRFt5pBr25xL5O+II46wjuj56BvbzMP2GHSscf5wrnCyssa9cE84qji2TZukd1dffXVNAJ9n0CqRcneRCGzyPlIBfhjaCb8w/Dg7YRiOYRohHAFfX6ZzwQUX9LCI46zQaUk0glorRMwhge3P5guaLSZEWIi0kI6k1srGkBBDSsyWksVmTJtjXMin0WRm50v9GmnWJoxmBVRqRo0apX7zm99UXpL09DXXXKPOPfdcrSHdtEn0t0gCTGTNiGYS1WzaRFqxTKpQ6i6pp8QZ7DZLi2/YE0n4heGXHMBw/NIIcRDw9WV0DSBUHtBlUK9EKpBoFZGgG2+8Mc7sunQUX9Bsb+cHP/iBjpC5pCHbaLDgfugCptCfjllqvsqMekbeE6LFTTkGQptSxq1nztmn/tL2udocR+3hL37xC3X00UfnOsk4szi13Bck3E3b//3f//XqI/Pf81KpokldRhXT9LzN6yUHJgz9hF8YfskBDMcvjRAHAV9fRjuA1H5RtE7NGdx10MHAE0aUpz+bL2i2mBx55JGKYvt99tlH8+bZGA0LRKyIAhLBasrgAYSahEVh++23L70sThjKK6Q2m3JeXCOjoqfMJgYKmaZNnj3k6kjtZU2iw1DbQFjdhhH9QwqOaOCqq646xxTk94EsIxHpbrPkwIQ9kYRfGH7JAQzHL40QBwFfX0Y7gKgmIPqONBSkr08++aROBxMZ6M/mC5otJlLoj4zdxRdfbHUaEUMih2UyYlYDOR6EDjDSbjgrOC1lxruBMgdUMKQ6mzC6qYnqwa3I+1llNNFAqdOWhJl0Shc58pBAE/0rcr6q7i/G36n/Q26QesCNN954tiGhIKIbvKyTOcYcQsZIDkwIeql+LQy9D89O72AMFNMYoQj4+jKdnXfeueeqq67SZLDHH3+8ngeLF3JWaJT2Z/MFzRYTH7oUoecgCkj9WlMG3QcdvbwDhx56aOllkREjIgSX3DrrrNPIFGlUgI8OShUb+TmR4Xv66adbIbuViCV1tFmybKJuRIVZPIiyM9c2jAguKf+8OsXnnntOk8JDRA41EBvDbrO0+IY9kYRfGH7JAQzHL40QBwFfX6azzTbb9LD7p2ZJ7LXXXtP/tb9TwviCZvvIaKghkkeKj1SfjdEQQOSQKCD/NmUutCmkf0kDQxGC1m4TRnkCusiUKqCQUuaQEL0SBRXe5cUWW6yJKc52DVEDoaTihRdemO1vDz/8sHa00QmW31rjE1RKlxpQckAjD7WKpolSCZHepuT+XDFIDowrYrMfn/ALwy85gOH4pRHiIODry/QSQceZRt8axRc027t0rVtjXCJDRP6oITvqqKNsLxV8nEQeqU0jcllkpARRKYGsGgcG8vAmjPIEaVSoipqJhi3zgpQZRY6mzdTRJYJmSvqhZ/yjH/1I4zgJ7bCW7Nhjj9Xd6Xk8f2QAdt11V7Xhhhuqm266qaUZll8WR5o0djI/BBJ+friZZyUMwzFMI4Qj4OvLdMaMGaO7gLGVVlpJff3rX1domM4N5guaLTYSRcFZeuyxx6xOo14QvVuJAlqdFOEgkU6jwxflkiIzu0fffvttNf/880e4evUQOJ7UpBHdQ7qOaGCRiZpKWzq7zIv5ktoFI35fRNLEaAgifb7VVlvpusu2TDqraQCiDtg0UVLZfffddTdzsoRAQiAhkBDoTgR8fZlOp9PpWXjhhfVdsbiTYqMR4Tvf+U533mnEWfmCZjsFSQNyHYiTbUyaMZrmr6NJZZdddtGpXSJ7ReaSirW5X5djiDaiVELUDNqaIvvzn/+saY2GDBmiqGVry4YOHaqbPMATXMUg0ob/DyoYSNfbMsEpT3VGpPeIDENanSwhkBBICCQEuhMBX1+m88ILL/RQp4SxuJ588smanwwKkjwFg+68fb9Z+YJmezW6VSFLLiPbzY5Fyu3mm2/WUUDqB5sy23Q1FEFrrrmmpgvK1rbVPVfpWiUlCU5Fdv3116vNNttMO4ltpljprCfdm+2shnQdMmucQGo927JXX31VLb744vry//rXv9QCCyzQOxU0iiGDb4un0AaTf//7362k923m1heOSfiFP6WEYTiGaYRwBHx9mdwaQOqC7rrrLs0L15/NFzRbTHCQSKdTg/bBBx9YdVKuvfbaCt41UoOkCJuyO++8U335y1+upFnBKcA5IEJE92iTJk4J8nrf+MY3Ci89btw4zU/o0nxTx30I2XOWCPwLX/iC7kxGS5n/tGWkqWn0mjFjhpaDM+vpcPDptr7vvvs0JVQ3WmpiCHsqCb8w/Dg7YRiOYRohHAFfXybXAUw8gOEPhBFoVpD0um29nKQNiQKuv/76cSZiMQrFzJAnExGaPn164Rk4pqSpKRE466yzLEaOdwjOEpRFXLesRAH9WhRKkDJDxaItQwP6gAMOmE2+DqcL3WWi62js8rzbNJxRnLzf/e53vc6oWecJZY28w23OM+/aafENeyIJvzD8kgMYjl8aIQ4CUR3AZ599VkcDSAv1Z/MFzRaTWbNm9aao6ApdYoklKk+luYE6u6bVF6hR/OxnP6s7U997773CaCVcgXAGIheIg9OkibxaVV2aNDBwPDQnbRllFGgSr7XWWop6UEy6g0kD//KXv9SNLW2aNB2Z/I/wFsLzOHjwYF0W0q2WHJiwJ5PwC8MvOYDh+KUR4iDg68vkRgBpAiHNRmSgP5svaC6YuBISk5J7/fXXG1eIMKOV2Xow835PPfVUBWfgQQcdpOtFmzQIqk888US1//77K+ZRZC6chnXOX2pAqa0jqkYpgCiadEt3rTjLKJNA/YJJdzDKK91cBpIcmLC3N+EXhl9yAMPxSyPEQcDXl+l88MEHPQMHDtSzgDMNDjjIiKGqgAesP5svaC6YSC3VAw88oJsnqgy+OKhOpkyZoiNyTZnw+1HUjIRaERUQpME4DfDYHXfccU1NT18Hh5N6uippPXjtxo4da6VqUucNgCUbAIirhQqGukm4FtvuAJb7vvbaa3WtKaloygAwMAZrFw3rOnEsGjs5MGGoJ/zC8EsOYDh+aYQ4CPj6Mp2FF164h4J0HABSvxDusjiVRVjiTLn9UXxBc5k52rV///vfFU0W6667bumpOArCq/fGG28oeOyaNFLUr7zyyhwNAeYcqK2jxi5PPaLuuZIyJXJG/dz48eMLL4dDg2PTNJVO3oSQgps4caK68sorNccmkovUMNJohSPdtk2bNk3xOxgwYICuWSVaSe3prbfeqi688EKd7u9WSw5M2JNJ+IXhlxzAcPzSCHEQ8PVlOvvuu28PDgqGs7L99tsrOlHnBvMFzQUb6r+gIoGaZJNNNik9leYLtG6xNhQsVl11VfX4449rUmDIgfNshx120J1vxxxzjJaCa9Kkpo7GhXvvvbfw0nAAwnEnTleTc8xeS6KRouwiXd5E2Eijt21s/IhSU5t49913698+TSqkrKH8oTGoWy05MGFPJuEXhl9yAMPxSyPEQcDXl8mtASQSQPdif1cA8AXN5ZEJdQnqGqhslNnTTz+tFSNIG/IMmjZoYIhUwlE3atSo3MtDaAwPH1yRRLOaNKiJvvSlL6nll19eR1WLTKKu1NtxfJsmCitrr/09Ne+8Y9Q996yrPvjgz5ofEK7CbrDNN99cR1T33fdide+9W6v77ltPzT//Y9oJlPKQbphndg40SrEZSOaHQMLPDzfzrIRhOIZphHAEfH2ZORxAVAvoniQKQASgP5svaC6YCBkwzjTpyzIjVUjKkPo76vCaNlKUv//973X9J/VfeTZ8+HBFPaNNRDP2/JEb1+5FAAAgAElEQVTTW2211dRiiy2mXnvttcLheXdJoXM8MnxtmtDrDBx4lpo5E3WdMWrxxY/VHHukXbvBUCOhseYzn7lSPf/81/UcN9lkgn7GyRICCYGEQEKguxHw9WU6l156aQ+UFEScWASQBKMJ5Oijj9aUIP3ZfEFzwURSptRUgm+ZUXdF/ZWLdrDLXKqOpTmBJgVq06hRyzNkw3BOoQrBWW3ShEKl0+loYm26arPG/4+cIUY946BBg5qc4mzXmjJFqenTZ6mNNvqaeuONS5VSpPdfVptscob62c+OUUytRNK4kXkzxwcemKq23hrS8T8qpaAqelkdfPCt6hvf2L4r5tgIEOkiCYGEQEKgjyLg68t0FlxwwR7SlEQqSD3SPdmtzP+xn40vaC7zIJJGM8JRRx2lqAMrM6lxow6LGramjc7eE044oZDjj3oxmgRoVkFjF63dJs107pAxgzIna0TWqGkrcxKbmnOnY15pllKKiJ/8++Hfenqamk3+dfrCHNtFKF09IZAQSAh0NwK+vkxn66237kHdYcEFF1T33HPPbHJQ3X3L4bPzBc3lysJdR00l/IplRvR1l112UdTZkYpv2k455RTdmIAGMVrEWYMfkE0CZlPTWMf86YymNg2OPWr9siYpVyJ/RADbtHHjlIJJaebMOWexzTZXqa23/rpqUO45F4qyOcIONXasan2ORc8QVRjKFpL5IZDw88PNPCthGI5hGiEcAV9fprPKKqv0oOhAjRo1P8cee6yOAM0N5guaCzYoLCD5RTcoNCZl1raEGUTAcD9uvPHG6o9/JB04u8FNSNQPrkIUQSgdaNqgLIKuiIaQddZZZ47Lt51Gz05o0iSl1lprTpTOOecytffezeOX97yK5jhxolLDhzf9hO2vl7pY7bHKOzLhF4YfZycMwzFMI4Qj4OvLdN55550ekaMiqkNnJ4X2LPD/+Z//GT6zLh7BFzSXWzrnnHO0bi2RCmhJygxiZahV2lKJoBOUjlBTusycr9mkAo1JGw4gTh+R6iKKFzqYv/GNb+juX7qA2zZxruj3mDVLKfm3Gx3A7ByTA9j221Pv9ZPzEo5vwjAcwzRCOAK+vswcXcAU2tMMABdcG1Qk4VDYj+ALmv0VlLr00kt1SpXmjptvvrn01EMOOUSddNJJmoKnKl3sMgfbY6E0oP4QPeLJkyfPcRpp6ZEjR6o11lhDMdc2HEDpVIZMGcc6a/z/bGJsHG5bXEKOo5l7xAilll5aKZrAL7xQqalTlTruuMvUbrt1RwSwaI7336/UZz4Tcvf1npsW3zB8E35h+HF2wjAcwzRCOAK+vkwuDyDTQQ8Uya3+bL6guWBSFVUzx3JpGHGZg+2xzzzzjObYox4URZisjRs3Tn3zm99UG2ywgY5StuEA4vQRVT3iiCPUT3/60znmSPc6DTd77bWXbr7pBnvvPaVoTKbhgqaP999X6qqrLmsFvyI88uY477zdgF7xHNLiG/Z8En5h+CUHMBy/NEIcBHx9mc51113X8/nPf14tvvjicWbSh0bxBc3lFlFXQAKuiryYMYUyhugfUcCm7c0331SLLLKIvuzbb7/dK0sn8xC+OFKsyK214QCKg0eUGt3qrInUGql01Eq61dLiG/5kEoZhGCb8wvBLDmA4fmmEOAj4+jKdTqfT84lPfEKrP1D8PzeZL2guGD3yyCO6s9qmK1UUGWxIo13mYHssNC9w6CFDN3XqVK0RaxpRN5yq7373u7oBow0HEKdv7733VltuuaWCNidrSBlSy2rDu2iLSx3HpcU3HNWEYRiGCb8w/JIDGI5fGiEOAr6+TGfSpEk9EP9Cn1EmrxVnmt01ii9oLneBI/XZz35Wk2q/9957mp+uyESK7be//a3adtttXS4T7Vg49ODSQ+1jzTXXnG1c0qrnn3++TrEy1yK94GiTyRkIyqKtt95aS4Dl6QGL9B6LG85gtxrdym3g1614+MwrYeiD2kfnJPzC8OPshGE4hmmEcAR8fRldA4hsFvJa/LvwwguHz6aPjOALmsvt0UgjmOalVc2xaK7429/+pjkA4QJswz73uc/pzQA0MNmIMFG3P/zhD7q2DmewDYMg+7//+78LG1VEB/j222/XTmqyhEBCICGQEEgI9GcEfH2Z3iYQ0sA4H/2d+sV8CXxBc3mRSKsOHDhQzZo1S73wwgtapaLIwJ7uWyJbbYnc0+WLAwoNEJyApqEQ89e//lWnXnEG2zAUSJZddlkFdREOdTaiClE1hNVPPfWUWmGFFdqYYrpmQiAhkBBICCQEGkPA15fpPPTQQ1qMiqgKdYBm3RfRoP5svqC5YkJ0dcaMGerxxx9XK6+8cuHpSJu9/vrr6rHHHtN6wG3Yt771Le38QQgOgXWew3zfffe1JheI00eXMkbEGmUQMTPayn8X1ZI2cEzXTAgkBBICCYGEQBMI+PoyugnEnCARFaJW/Pvvf/+7ibm3dg1f0FwnbBPZA3PqBMH8+eefV5/+9KddLxPl+MMPP1w7fzR6oEwiRgQTBRBpEKG5hWhhG0ZKHQcvKwfH/8bBJpqNXFw3Gyn2tvDrZlxc5pYwdEFrzmMTfmH4cXbCMBzDNEI4Ar6+TGfy5MmFcvQQAvdn8wXNFROaKR566KHcujoZy4xstRm9Ovvss7XzR6MFOpdi06dPV0suuaTeGNDM8rvf/a6VLmDmI3V+t912m/rKV77SO0f+N40VK620knriiSdcH1Ojx6cOzHC4E4ZhGCb8wvDj7IRhOIZphHAEfH2ZQiLo8Cl1/wi+oLnemXSmQk+y3Xbb5Z5O5y31gQMGDNBRtrJuYdfruxz/+9//XqtoZLtscWBxZOGLxBls88OHqgrdd5CVQ0wtJqor4M3fu9naxK+bcXGZW8LQBa05j034heGXHMBw/NIIcRDw9WWSAzhtmk63knatyyBNvvbaazVxMQTGeSbpS2raqG1ry0QObumll1b/+Mc/eqdBqmOTTTZR1IXiDLa5eOy2225q7NixmpMQwmexU045RR100EGaUBvVkm62NvHrZlxc5pYwdEErOYBhaOWfnd7BOlBNY7oikBxAV8QUOqefUdMacAB33nlnHa1C5/fggw/OnanQm1Av+Oyzz3rcTZxThLeQzmVSvUQkMRpDaBCBGgZnsM0P35FHHqll4LJqIKinnHbaadoJPPnkk+MAUtMobeJX0y01PmzCMAzyhF8YfpydMAzHMI0QjoCvL5MigA04gPvuu68644wzdLSqSJ7s+uuvV5tttpkaPny4mjhxYvgb4TnCBx98oNVAMFK9IhEoEmxoAKNU0uaH75e//KXWIhZnVG71f/7nfzRFzVlnnaXQDO5maxO/bsbFZW4JQxe0UgQwDK0UAawDvzRmHAS8HcBFF120sAkESpL+bL6guWJiSqiZnbXmOJdcconaaaed1IYbbqhuuukm10tEPZ5mD5y/SZMmqWHDhumxs2nXNhffm2++WeNExy/UOmLSbDN+/Hi16aabRsUk9mBt4hf7XtoaL2EYhnzCLww/zk4YhmOYRghHwNeX6YwdO7bQAdxll13CZ9bFI/iC5npLP//5z3Xql4YFUsF5RoSQSOGoUaM0H2ObtvbaaytqAen03WabbfRUpJGF2jpq7HCyiFi2YUgW0gm8wAILqLfeeks3zECjs8gii2j6lzZ5FG3xaBM/2zl2+3EJw7AnlPALw4+zE4bhGKYRwhHw9WVSCriBFDAp0z333FNtvvnmWkotz6hpo7YtW9cW/mq4j7DjjjsqOmpPPPFE9cMf/lAPMGTIEDVlyhR1zz33qC9+8Yvug0Y8491331Xzzz+/HvGVV15RgwYN0gTaEGljKIHgHCZLCCQEEgIJgYRAf0cgOYAeT9gXNNdLXXnllWrbbbdV66yzjrrrrrtyT99///3VmDFj1KGHHqqOP/5410tEPf4nP/mJ+tnPfqad1vPPP19RF4j0mo2cXdSJlAwmz47mGSKWpKvXWmstzVUIpU6yhEBCICGQEEgIzA0I+PoyKQLYQARQCIqzNWvmi0m6/eKLL54t6tbWi8s8mA98e9Tb0ZW83HLLFervtjHPjTbaSNdKEl2lIUQ4AMuc7Dbmma6ZEEgIJAQSAgmBOhFIDqAHur6guV7q4Ycf1vx5QqKcd/4WW2yhrrvuOnXBBReoPfbYw/USUY+/++671brrrqtQgpk8ebKeF/MTDkAudscdd6gvf/nLUa/rMphETA888EAF/x8d1scdd5zaa6+91LnnnusyVCvHto1fKzcd+aIJwzBAE35h+HXDdzD8DtII/QEBX18mRQAbiAC+8MILmmwaTj3SqcKtZ754OFw4XmbjRVsvJnV1SyyxhG6uePPNN7Um8GGHHTYbwXLb3W+kpnH20NO94YYblJBtn3766er73/9+W9BZX7dt/Kwn2sUHJgzDHk7CLww/zk4YhmOYRghHIDmAHhj6guZ6KQiVqaHDaFZYdNFF5xhitdVW092rpFxJvbZtKIGgjkKUgIgaKVYibD/60Y/01Nr+8EmUcvDgwQoHe9lll9XRym7Br+r5tY1f1fz6wt8ThmFPKeEXhl83fAfD7yCN0B8Q8PVlUgSwgQggL9hCCy2ku1OhMFl++eXneOfQAaZ54YEHHtCau22bkCofcMA4de65/6neeef76rrrju6lfml78XjnnXcUsnlEVC+44AG1556vq07nUPXGG39SCy+8cNvwVV6/bfwqJ9gHDkgYhj2khF8YfskBDMcvjRAHgeQAeuDoC5rHpXQ9Hdq69957r/rCF74w2xBw2EFrQqSQKBbHtm0olkBg/alP/Ua9+OIopdTpasaMnTXXXrd8+Gj4gJZm6aWvUlOnbq0GDbpUvfLKDm1DZ3X9tPhawVR6UMIwDMOEXxh+3fIdDL+LNEJfR8DXl0kRwIYigEi8Ed3LU6l4++231YILLqjfQWru2o5gTZmi1O23P6p22WUnpdQNSqkl1cCBr6u//GUx1dOj1KBBSt1zz2Vq9OjRrf1umONxx52vzj+fho8P57jAAm+pO+9cqHeOXeBHF+KTFt/wVydhGIZhwi8Mv+QAhuOXRoiDQHIAPXD0Bc3jUkpoS6BYQfLNtGnTpinm8rGPfUynNGm+aNNmv/wspdQApRSCMR/N69JL23UAbeaIs9qtlhbf8CeTMAzDMOEXhl9yAMPxSyPEQcDXl0kRwIYigETLLr/8cnXqqacqKExM+9vf/qbWWGONUpqYOK+J3Sjjxim1665KzZw55/EDByo1dqxS8877O01u3ZbZzHHHHduaXfV16fZuE7/qGXb/EQnDsGeU8AvDj7MThuEYphHCEUgOoAeGvqB5XEp973vfU2eddZY6/PDDtcqGaXSubrjhhopO4EceecRn+OjnTJqk1FprzTnsxIlKDR8e/XJeA/aFOXrdWDopIZAQSAgkBBIClgj4+jIpAthQBBCdX/R+99lnH3X22WfP9lhJxeywww5qvfXWU7feeqvlI6/3MHGuBgxQatYspeTfbnQAu3mO9T6lNHpCICGQEEgIzO0IJAfQ4w3wBc3jUgqC4v32209tt9126oorrphtCDSASQvn/c3nWjHOef55pUaMUGrppZXafXelLrxQqalTlbr/fqU+85kYVwgfoy/MMfwu0wgJgYRAQiAhkBAoRsDXl0kRwIYigOPGjVPf/OY31QYbbKD+9Kc/zfYkSQsfe+yxOk18xhlndM17/t57Ss0zj1I0XNBQ8f771P59OL2//vWv6r/+679an2vZHFufXMkEugW/bsaoam4JwyqEyv+e8AvDr5u+g+F3kkboywgkB9Dj6fmC5nEpdeONN6qNN95Yrb766oqmD9O+/e1vaw3go48+Wv3kJz/xGb7xc1IHYRjkCb8w/Dg7YRiGYcIvDL/0Dobjl0aIg4CvL5MigA1FAKXTd9CgQQqtXdNEdeOcc85Re++9d5w3ouZR0uIRBnDCLwy/tPgm/MIRCB8h/Y7DMUwjhCOQHEAPDH1B87iUdvqWWGIJfer777+vPv7xj/cOI4oWUApss802PsM3fk768IVBnvALwy85gAm/cATCR0i/43AM0wjhCPj6MikC2FAEcNasWWreeedVM2fOVFOnTtXEz2IrrLCCevrpp9Udd9yhvvSlL4W/DQ2MkD58YSAn/MLwSw5gwi8cgfAR0u84HMM0QjgCyQH0wNAXNI9L6VPkevfdd58aQYvt/zf0dZGAe+KJJ9RKK63kO3yj56UPXxjcCb8w/JIDmPALRyB8hPQ7DscwjRCOgK8v00oEkI5XNHEffPBBNc8886g33nhjDgT+8Y9/aM48ePEWWmghtcsuu6jjjz9eDUSK4v/bbbfdpg488ED16KOPqqWXXlqTLO+KhIWl+YJmOfwch+H00Xl37bXXqi222EL//Z133lELLLCA/u+vv/66WnTRRX2Hb/S89OELgzvhF4ZfcgATfuEIhI+QfsfhGKYRwhHw9WVacQAhRSbq9fzzz6sLL7xwDgfw3//+t1pzzTXV4MGD1cknn6xefPFFtfPOO6s999xTHXfccRqt5557Tg0dOlQ3Teyxxx4KNQ249HAs6ba1MV/QbMbOO2bLLbdUf/jDH9R5552n6PzFSP2SAl5wwQXVP//5z9Z1gG3vLX34bJHKPy7hF4ZfcgATfuEIhI+QfsfhGKYRwhHw9WVacQDldseOHaudtmwE8IYbblCbb765euGFF9SSSy6pDz/33HPVIYccopspiBry33H2TOm07bffXo/1xz/+0QpRX9CsBs85aK+99lLnn3++OuqooxROMEYU86tf/apaccUV1ZNPPuk7dOPnffDBB7M1sjQ+gT5+wYRf+ANMGIZhmPALw4+zE4bhGKYRwhHw9WW60gGEC480KSliMSJ+yy67rJo0aZIaNmyY+vKXv6yGDx+uTjvttN5jLrroIu1QUk+XZ++9957iP2KrrLKKdjI//elP62hk3SZycDiCOLTYJZdconbaaSe1/vrr6yhmsoRAQiAhkBBICCQEEgK2CPQrB5D06JQpU9SECRN67//tt9/WadLrr79ebbLJJjpitttuu6kf/ehHvcfwt80220xx7Pzzzz8HdkTeIFvOWlMOIKlfUtZEN0kFYyeccIK+B1Lcv/rVr2yfdzouIZAQSAgkBBICCYGEQG+DqasvEy0CeOihh6oTTzyx9FE8/vjjauWVV+49pigFXJcD2HYEUNRAVltttd7UNfJvZ511ljrssMO0HFxfMRpvuI9kfggk/PxwM89KGIZhmPALw4+zE4bhGKYRwhFoPQJIbd5rr71WeiekcKnfEytyAOtKAWcn5wua7+OShg+ik//61790w4eogOAEfuc73/EduvHzUvFzGOQJvzD8ODthGIZhwi8Mv/QOhuOXRoiDgK8vEy0C6HMbVU0gdP+KegbNEwcffLCaPn26JlSmCYSU78MPP9x76R122EFTqXRrEwgKIDh/kEJzb3Q5ow1MI4uktn1wbOOctHiEoZ7wC8MvLb4Jv3AEwkdIv+NwDNMI4Qj0KQcQjj8cNRo9oHm58847NQLLL7+85vwTGpilllpKnXTSSeqll17SjRLQvWRpYL773e+qb33rW+qWW25R++67b1fTwHCPQ4YM0fWNd999t1p77bV1XeO7776r6WCWW2658DehoRHShy8M6IRfGH7JAUz4hSMQPkL6HYdjmEYIR6BPOYCQNec1PED6vN5662k0cJIggoYmBScJImgaJrJE0AcccIB67LHHdBHkEUcc0dVE0NwX3b7c569//Wv1la98RX32s5/V9wQhtHlv4a9EvSOkD18Yvgm/MPySA5jwC0cgfIT0Ow7HMI0QjkCfcgDDbzfOCL6ghVydBpcLLrhAd/5uuOGGaoMNNuhzHIBp8Q15Az48Ny0cCcNwBMJGSO9gGH7pdxyOXxohDgK+vkyrNYBxbt1/FF/Q/K+o1DnnnKObPUaOHKk22mgjLWW31VZbqauvvjpk2MbPTYtHGOQJvzD80uKb8AtHIHyE9DsOxzCNEI6Ary+THMBp0xojguYx/+Uvf9G1f4sssqGaZ57T1PTpu6hjjtla/fjHPw5/CxocIX34wsBO+IXhlxzAhF84AuEjpN9xOIZphHAEkgPogaEvaB6X6j2FWr+FF15YzZx5ilJqX6XUGDVhwio6GtiXDLWVT37yk31pyl0114Rf+ONIGIZhmPALw4+zE4bhGKYRwhHw9WVSBLDBCOCUKUq9+qpS3//+99Sf/3yEUgqd4+nq7rsXVvPOO58aNEipZZYJfxnSCAmBhEBCICGQEEgIzB0IJAfQ4zn7guZxKX1Kp2OeOUspNUAp1cNfev/Qw/9MlhBICCQEEgIJgYRAQsACAV9fJkUAG4wAjhun1K67KjVz5pxPdOBApcaOVWrHHS2edhccMnnyZM1pmMwPgYSfH27mWQnDMAwTfmH4cXbCMBzDNEI4AskB9MDQFzSPS/WeMmmSUmutNecIEycqNXx4yMjNnpuKn8PwTviF4cfZCcMwDBN+YfildzAcvzRCHAR8fZkUAWwwAsijFgdwwAClZs1SSv5NDmCcH0JfGSUtvuFPKmEYhmHCLwy/5ACG45dGiINAcgA9cPQFzeNSvac8/7xSI0YotfTSSu2++/9r70zArZreP740T4goVyqkiBSNVAoVTaKRojIXUcaQTI9kSslQSomSSpSpkjxoMhYlkSjRQBkrFU3+z2f9/vs4Hfveu+9e997O2ef7Pk+PcvZee63PWnut737fNRgzZowxa9YY88knxhxxhEvK+XuvBg833uLnxk+Dr/i5E3BPQe+xO0Ol4E4grJaRBzCfPYBU9d9/G1OkyP8WhbDoY8cOY4oWdW8E+ZmCOj432uLnxk8CUPzcCbinoPfYnaFScCcgARiCYVhoIR4VuVvU8blVqfi58ZMAFD93Au4p6D12Z6gU3AmE1TLyAO4DD6B7de/7FNTxudWB+LnxkwAUP3cC7inoPXZnqBTcCUgAhmAYFlqIR0XuFnV8blUqfm78JADFz52Aewp6j90ZKgV3AmG1jDyA8gCGan0//vijycjICHWvbjJG/NxbgRi6MRQ/N37cLYbuDJWCOwEJwBAMw0IL8SjdIgIiIAIiIAIiIAK5TiCslpEHUB7AXG+MSlAEREAEREAERCB/CEgAhuAcFlqIR0Xulg0bNphy5cpFrlz5VSDxcycthm4Mxc+NH3eLoTtDpeBOIKyWkQdQHsBQrU+Tn0Nhi90kfm78uFsM3RiKnxs/tUF3fkohdwhIAIbgGBZaiEdF7hYNHm5VKn5u/DT4ip87AfcU9B67M1QK7gTCahl5AOUBDNX61PGFwiYPoBu2ve5WG3SDKX5u/PQR4s5PKeQOAQnAEBzDQgvxqMjdosHDrUrFz42fBl/xcyfgnoLeY3eGSsGdQFgtIw+gPIChWp86vlDY5AF0wyYPoPjlIgH3pNQPujNUCu4EJABDMAwLLcSjIneLOj63KhU/N37yAIqfOwH3FPQeuzNUCu4EwmoZeQDlAQzV+tTxhcImD6AbNnkAxS8XCbgnpX7QnaFScCcgARiCYVhoIR4VuVtWrlxpKleuHLly5VeBxM+dtBi6MRQ/N37cLYbuDJWCO4GwWkYeQHkA3VufUhABERABERABEdgnBCQAQ2APCy3Eo3SLCIiACIiACIiACOQ6gbBaRh5AeQBDNcYtW7aY/fffP9S9uskY8XNvBWLoxlD83Phxtxi6M1QK7gQkAEMwDAstxKMid4smP7tVqfi58eNuMXRjKH5u/NQG3fkphdwhEFbLyAMoD2CoFqjBIxS22E3i58ZPg6/4uRNwT0HvsTtDpeBOQAIwBMOw0EI8KnK3qONzq1Lxc+MnASh+7gTcU9B77M5QKbgTCKtl5AGUBzBU61PHFwqbPIBu2Pa6W23QDab4ufHTR4g7P6WQOwQkAENwDAstxKMid4sGD7cqFT83fhp8xc+dgHsKeo/dGSoFdwJhtYw8gPIAhmp96vhCYZMH0A2bPIDil4sE3JNSP+jOUCm4E5AADMGwSJEiZufOnaZAgQImIyMjRArpe8v27dtN8eLF0xeAY8nFzxGgMUYM3RiKnxs/7hZDd4ZKwZ3Ajz/+aPbs2WMKFy5sduzYETjBtPYAFixY0EKTiYAIiIAIiIAIiEAqE8CZtXv37sBFSGsBWLJkSfPXX38ZhGDZsmUDQ0vGC//55x+zfv16c/jhh5v99tsvGbOYb3kSi39Ri4VY+L14ahdqF2oXWQ9JqfSObNy40Qq/YsWKma1btwYea9NaAAamlAIXbt682Rx44IFm06ZN5oADDkiBHOddFsXiX7ZiIRZ+b5rahdqF2kXWY1A6vCMSgHmnQ/I15XRorEGBioUGNw1uGtzUXwQloP4iXfsLCcCcvyNJeYdEjzqxdO3Egr6Qekf0jugd0YeB+ot/CUgABm0NSX7d33//be6//35z2223maJFiyZ5bvM2e2LxL1+xEAu/t03tQu1C7SLrcSgd3hEJwLzVIkpdBERABERABERABJKOgARg0lWJMiQCIiACIiACIiACeUtAAjBv+Sp1ERABERABERABEUg6AhKASVclypAIiIAIiIAIiIAI5C0BCcC85avURUAEREAEREAERCDpCEgAJl2VBM/QAw88YFf99u3b1zz66KP2Rk42ufHGG82kSZMMq5jOPvtsM3z4cFOuXLngCafIlevWrTO33HKLmTlzptm2bZs55phjzNixY02dOnVsCdjJ/a677jJPP/20+eOPP0zDhg3NiBEjTJUqVVKkhMGyyQ7wd999t3n++efNTz/9ZE+Dufjii82AAQNip8JEmcXcuXPNww8/bBYtWmQ4E3PatGnmvPPOi8ELUvbffvvNXHvtteb111+3Z4N36NDBDBs2zJQqVSpYJSTJVVmx4Nxz2sSMGTPMqlWr7MbxzZo1M/QjtBnP0oFFYnX16tXLjNqaUQEAABQzSURBVBw50gwdOtRcd911acniq6++sv3pnDlzzK5du8zxxx9vXn75ZVOxYsVIjS3Z9Rd//vmnufXWW80rr7xifv31V3PUUUeZPn36GNqIZ1EZZyUAk6Tjzmk2PvnkE9O5c2d76scZZ5wRE4BXXXWVmT59unn22WdtB3/NNdfYAW3BggU5fURSX//777+bk08+2ZadMh966KHmm2++MZUrV7Z/sAcffNBujfPcc8/Zl/iOO+4wS5cuNV9++aU9MicqNmjQIDNkyBBbzhNOOMEsXLjQXHLJJea+++6zHVfUWfABQPuuXbu2ad++/X8EYJB20LJlSyseEQEIJfjVrVvXvPDCCynVTLJiwSlBHTt2NFdccYWpWbOm4R3i45EPCNqMZ+nAIr5S+WC45557zM8//2xuvvnmvQRgurBYuXKlqVevnrnssstMly5d7LiybNkyc8opp8SOSY3K2JJdf3HllVead955x4wePdoceeSR5q233jJXX321mTp1qmnbtq1tOlFhIQGYUt37/zLLF0qtWrWsZ2/gwIHmpJNOsgKQDh4hxKBFR48tX77cVKtWzXzwwQf2ZY6K8YXGoD9v3jzfIuH1wauBN/Smm26y18AHTyji+IILLogKCtOmTRtbrjFjxsTKhAerePHi1iuYTiw4BzveAxik7Hg+8HbwUeV5j998803TqlUrs3bt2r28Y6nUaBJZ+OWdMjPwf//999bTk24siCLUr1/fzJo1y7Ru3dqKP88DmE4s6A8LFy5sxo8f79vEozq2+L0j1atXN+eff751GHjGxyUfA4y3UWIhAZhKPfr/57VHjx7m4IMPtuGK008/PSYA+Wpp2rSp/bIvXbp0rGSVKlWyndr111+fgqX1zzIDNuFtBmhCFuXLl7dfaXg3MEJceAI/++wzy8ezJk2a2H8T3ouK4QEcNWqU/VKtWrWqWbJkiTnrrLOsV/DCCy9MKxaJHXqQdvDMM8/YDwXeG88IgeElnjJlimnXrl1KNpUgAvDtt9+2bYUpEnh90onFnj17bAj83HPPtZ5QvD3xAjBdWMCBaFG/fv3M/PnzbZ9JxITpRd5UiqiOLX7vCB5AGBACxonw3nvvWc8fkbXGjRtb72BUxlkJwBTr2pnbR2iPL3cGqHgBiOeP0BVz/+KNL3xCpYTComJeCPeGG24wnTp1sjzoxJ966imDQH7//fftnL/169ebjIyMWLEJm/PST548OSooDB14//79zUMPPWQKFixoQ3q0ETpwLJ1YJHboQcqOgCZ8/vXXX+/VJsqWLWtDg4R7UtGyE4DMY+IdOe6448yECRNsEdOJBdND3n33Xev9g1WiAEwXFswbpo8sUaKE9XAxVuABp0+BDx/NUR1b/N4Rxk9E4Lhx40yhQoXsFCrmkXfv3t2+I1FiIQGYQj37mjVrbIhq9uzZpkaNGjbn6SoAixQpYlkwwHvGfDeEIOHuIAN/ClV9llnlo4C5SyyEYA7g4sWLrScDD2C6iWEJwH+bSlYCkHmOTBPAg46HA+9fOglAFgwR8v30009jIf50FYB8JBNBYe5f/JxXvF4lS5Y0EydOjJToie9M/d6RwYMHW8HHf4mesWiEj2mmluAxlgCMysiZYuXAJU04Ci+PZ3h7aMR8pfAlSwNNhxAwL2bz5s3tRF3PWOHLFyzzeoKE/lKs+jPNboUKFeyqtd69e8eugQPz/5gDmk4sFALOXgAi/vCE0y4IZ5UpUyZ2U7qEPZkzTfSAfjO+L+XfvE+rV69Om3D4jh07rNBjxwRWiXvGimBCwsy1jlLYMysBuH37dhsOR+zxgeDZ5Zdfbj+W8IxGiYU8gCmkArZs2WIna8cbIV9COLysdFwsAuGLja97jLAWv0dtEUjXrl0NHtH4RSDMcfzoo4+s98+b/M8CEOZ3YZs3b7Yr2qK2CIQBHMEXH6okvMWWOCtWrEgrFpktAsmqHXiT/VkJy2RvjPmULVq0iNwiEE/8sWKe8B79RbylCwu292DVd7wxp7hbt252Gs2xxx4bWxCTDu2iQYMGds50/CIQnA0sJMPj5S18iNrYkthfMEYgANkqiUUfnvXs2dN89913tl+IEgsJwBQSgH5ZjQ8B8zsigMaLyCGsw95mWHyoNMWLbLNPqJdOizlaeDM+/vhjuwCExRAsfMCY88geZ/HbwHz++eeR2waGPf+YzM8WJoSAmcDMHJZLL700Nu8zyixYFf/tt9/aOmdrIELfzGNioRQrW4OUnc5+w4YNdg6ptw0MUwxSbRuYrFgwz4vdAQh7vvHGG3vtDQorplVg6cDC29suvi9MDAGnEws8Xqx8ffLJJ2NzAJlGwvSARo0aWUxRGVuy6y8YU3/55RfzxBNP2BAwiwwpO/2K95EdFRYSgCmuhhIFoLdBJV9q8RtBH3bYYSle0v9mn0GMuRl4M1i1RkjHWwXM1d4GwIhCVjnSkbF1Ditlo2R4htmygE5848aNdk4T83nuvPPO2KAeZRYMUgi+RGP+Ix9CQcrO5sfsmRm/EfRjjz2WchtBZ8WCzcJ5T/wMbyB9CZYOLGgXieYnANOJBeF/IgeEOvGA8nHNCmnPojK2ZNdfsCiGcQVvH/WPCOSDmggTHkMsKiwkAKOkBFQWERABERABERABEQhAQAIwACRdIgIiIAIiIAIiIAJRIiABGKXaVFlEQAREQAREQAREIAABCcAAkHSJCIiACIiACIiACESJgARglGpTZREBERABERABERCBAAQkAANA0iUiIAIiIAIiIAIiECUCEoBRqk2VRQREQAREQAREQAQCEJAADABJl4iACIiACIiACIhAlAhIAEapNlWWSBLgpA82suYs6Pw2nskxahyDxKkynKEqE4HcIsCGzBy9hvXt2zdl2lf8ZsJslrwv3s3cqgOlk74EJADTt+5V8iQg4O0sn1lWOKCdHeg5zaJ06dL5nuNy5crZAbpPnz5m//33t3/2pU2dOtWMGDHCLF682J50w9F3nHDBOa7xxpFWDz/8sGFX/5o1a5rHH3/c1KtXz17C7v5wZaf/H374wZ6He95555l7773XngOKcVYsRwpydCB/5wxpBvpBgwbZIxazsilTptiTWVavXm2qVKlij6Jr1apV7BYEPccTxhv556D5zGzJkiX2WMP58+fbY6o4taJXr15WNHkWlE38MxBgHPnFB0aieeekwppTIbIy2ueOHTusgJswYYI9nadEiRL2RInLL7/cXHTRRaZw4cL/SYLnUwbOLC9ZsmSsfSWecOTdmFV+87NdUlbaEXmnHUoA5id9PSu3CEgA5hZJpSMCIQggUDybPHmyPb6NwdCzUqVK7bPjyDgzE8H3zjvv+B61Rh53795tj0cqUKBAiNLn/BbECkfdcfQbgnjs2LFm8ODB5qOPPrLnAGNw7N69uz3Xt379+laUIMrgipD74osvrABEiB1//PHm+++/t2KqRo0a5qWXXrJp/P7772bSpEmmbt26ViBy1nDv3r1NrVq1sjwfmDO3GzdubI/UatOmjb0WAcj5u9WrV7dp81zOHSbvnhUtWtQcdNBBmQLhmC5EYPv27U2FChXs2d4cT/XQQw/ZI+ywIGwSHxBEADZr1szQFjyDCc+OP3aRs4QRseQRId2wYUMrlD/88ENbP+T/pJNO8hWAfgJ0XwpAxCztulChQtk20H3pnc82c7pABLIhIAGoJiICSUIgs8E4cZBhcDzxxBNNwYIFrSepSJEiZuDAgaZr165WDCBi8Nzh9WrZsmWsdAifm2++2cybN896W8466ywzdOhQc8ghh/yHgN95mZwXi1eLAXvcuHHm1ltvNStWrLDiCM8Z3hDO0sUj0qRJE8NZunjAMK9szz//vLnxxhvNmjVrrFeMdBBnCLJNmzaZbt262TxRtqCGF5CD7BHPGKIPkcJh7tiePXusaCKETZ79jDzgpdq6dWumAz/lwatI3jMz8kEanFPt2SmnnGLFD4IUyy3RgCD96quvrEDPzBLZhBGAeEfjze/MXIQo56cuXLgwJsS9e3bu3Gm9g7S5oM/PiQDEI4zIpF4463jAgAG2HWG0V/7fZ599FhOgeDsR2975x15bnzFjhr136dKl1jvMNbR1ysRHDm155MiRpk6dOrFi5FZdBm3ruk4EcpOABGBu0lRaIuBAICcCEI9Sv379rPDB40UYFEHXrl07w+CJiHrxxRdtiJNQHINe1apVbTgO79j27dvNLbfcYnbt2uUrIBiwGTwJ4b388sumQYMGBi8PHi28PwgsxFCZMmWsuOrSpYsN+zFA4vkh7ZUrV5ovv/zShv4oG/eRNzxiW7Zssd6s2rVrW08eAnDVqlWmQ4cOVhRSriCGuEOQwALxS74pLyI4Xrj06NHDMnj11Vd9kx09erQVMD///LPv7+vXr7cC+4gjjjCI2MysYsWK5oYbbrDCwTPKRogQ75gnAPk3wh2RceaZZ1oBD8ucGIKVQ+k9r2XivYls/NIO4gEMIgAJsx922GFm1qxZOSlC7MMgMQQdVABOmzbNthW8vHgqEd60hdmzZ1svcU4EIB5ghOTRRx9t6wVPLl7l22+/3X6QEArnHaKsnkkA5qi6dXGSEZAATLIKUXbSl0BOBCAhKjx5GH/HA4egQjxhhJYzMjLMBx98YPBAITC4Pn6AXrt2rRVvhEYZ2BIt0VPC796kfQZDbyBE+HH/ggULrFDEmDdH2ngoO3XqFLsPb2HlypXtNYRdx48fb8OhhLqxFi1aWEHnecuyaw14npgbt3z5chveRaiVL1/ehkhPPfXU2O2Igjlz5thQcaIxpw4hiqC677779voZYYtoRDCfc845VlQXK1Ys02wh6igz93k2fPhwO4eOcmKElhGpeKYQyf3797flp66Cej4pH17W6dOnW+HvZ4ls/K7JLQFIeQgJDxs2LLsq2+v3zJ6PAKSM8Iw3Pljg7wlGQs14OUeNGhW7rHPnztYLC5ucCEBEOfM8PeNDBi86Hw+ZmQRgjqpbFycZAQnAJKsQZSd9CeREADLosdDBs0qVKlkPGCFejHlMzMtDvLRt29aKMP6eOKAyUBL6ig8Ve2lmJgB79uxpPU/eApbXXnvNeu74f/ECBu8JHklCs5SNkCXP8wzPGN6rZcuWxf4fgy3eQRY0ZGd4IxEdlAvvD5ZTAbh582bTvHlz692kHIkLFRDScCDUjYcQ0YWgw7PK/EHPEHH8CSIAE8uF5xNR/Pbbb5umTZvauvDEPfUaz4d7CeXj3SLkTsjSz/zY+F2XWwKwePHi1sObmwIQgYz3Ld5oFyzE8QQg9Ya3O16kkQf+wDUnApAPIj4ePMOrzgcBdU774h3yPl68ayQAs3tL9XsyE5AATObaUd7SikBOBCBzyuK3ZPGbl+Wt4iSEh6jAS0P4NdHwFPrNz8pMACZO2g8qABPvY4DF64I3MacDKl60Sy+91M4fbN26dez+nISAEZosXIALocOsPHs8gBW4p512mhWZLAxBXHiGEOFPkBCwX6MmPby0iOt169ZZjyOGIEUEekZIHfFHKD/RW+ldkxkbv+ciqAihMm8zfiGPV/d+C4D82tq+CgFnJwAR6vBjyoS3SIgwP97ixDmALPxJXGmP8MeTOHPmTOtBhi0fNTltr2nVkamwKUNAAjBlqkoZjTqBvBSAeFKYy4f3KMjqRlgHFYBZhYAJSXfs2NF3rldYAThx4kQr/hiM40N2XvtgEQhbvhC+w5gLhzDDQ+otAsHzh/hj9S0eUERgdjZ37lzrDWJPRESQnyGmtm3bZhfDeEZYnPllmYW18TyRP8Qw3trMDE8g8wXxdhHe9bPs2CTeQ5qsTl60aJFd4ewZwg9vZKJXjN/9BCAfFnhA83sRSGYhYOoAUY+Qpm4Rcd5WPMwPJGweRADG8yKsjwebDx4JwOzeFv2eCgQkAFOhlpTHtCCQlwIQrxVeQwQM8+HwnDAfDxHFAgi/uWdBBSCVg5fRWwTC1jEILdKPXwSSGx5AQpsIIEJ8zHn0jBCkt4cfi2K4hgUpCEE8pczdY54gq6MRfwgARAKLCOK9n3jiYIEoZM4ei12Yn4dQIrwONzyBmZk3N495iXgm4UvI0tsGhu1UmA9IyJxFE8wBpD7wRrL6FEHqZwh3xB+ilcU3npFX8owFYeOXNmlS1kceecQugGBOKHVFeyH/ieYnAPEgEkonn2wD06hRI7uFEIIQcThmzJg82QYG0cycP9oDYVqENzwJpzOPEGMuKJ5U2sPGjRvt7x9//HGWAhDhSH3z8UIoGiFMm6Le4r3oCgGnRdcc2UJKAEa2alWwVCOQlwIQFgg0Vufi+WDAJjTGooshQ4bE5vPFM8uJACR8xpw0vCOEYVlBiQcucRuY+NWeYTyADOqE4hKNwRl+nrEFjLcRNEKGLVzwDGJ+W9x493nePRjhNUXAwooFLQhOhG12G3ITlmZunrcRNN46z/uEsEAssy0JLNjTEDGKaEKcZmaw8tuMmTr0QtFB2SQ+g3wwHxMvGR8KrHQmzMlm1t7inPh7/AQgv8OJ+XgIUW8j6GrVqtl5mmyq7ed5zmoRSOI0B57hd31W28BwD1vlXHbZZXaqAavaqY/sPIC0YdoUC5sQx2yVRP3TpuKnCkgAplovq/zGE5AAVHsQAREQARHYJwSS5WSPsIWXAAxLTvclAwEJwGSoBeVBBERABNKQgLetEGF4Von7LVJKRiys0mZhFV5PQv06Ci4Za0l5yo6ABGB2hPS7CIiACIhAnhBg7qO3PyKhdb9TafLkwY6JEspntTZGmJz5nDIRSDUCEoCpVmPKrwiIgAiIgAiIgAg4EpAAdASo20VABERABERABEQg1QhIAKZajSm/IiACIiACIiACIuBIQALQEaBuFwEREAEREAEREIFUIyABmGo1pvyKgAiIgAiIgAiIgCOB/wNAF3oppFxLxAAAAABJRU5ErkJggg==",
       "_figure_label": "Figure 1",
       "_image_mode": "diff",
       "_model_module_version": "^0.11",
       "_size": [
        640,
        480
       ],
       "_view_module_version": "^0.11",
       "layout": "IPY_MODEL_574e18fe21154547b5c34e362583cf2a",
       "toolbar": "IPY_MODEL_36e6b3cd95fa40608f50f121e214d0a3",
       "toolbar_position": "left"
      }
     },
     "4b8be49f03f045e8ac268008b1c67cbd": {
      "model_module": "@jupyter-widgets/controls",
      "model_module_version": "2.0.0",
      "model_name": "DropdownModel",
      "state": {
       "_options_labels": [
        "AODTM-5",
        "AOTIM-5",
        "AOTIM-5-2018",
        "Arc2kmTM",
        "CATS0201",
        "CATS2008",
        "CATS2022",
        "EOT20",
        "FES2014",
        "GOT4.10",
        "GOT4.7",
        "GOT4.8",
        "Gr1km-v2",
        "Gr1kmTM",
        "HAMTIDE11",
        "TPXO7.2",
        "TPXO8-atlas",
        "TPXO9-atlas",
        "TPXO9-atlas-v2",
        "TPXO9-atlas-v3",
        "TPXO9-atlas-v4",
        "TPXO9-atlas-v5",
        "TPXO9.1"
       ],
       "description": "Model:",
       "index": 21,
       "layout": "IPY_MODEL_f3721c1ebabd45208ef760dd5e2e0702",
       "style": "IPY_MODEL_3d18113647064d6a80446185b4fc276b"
      }
     },
     "4e5d1e58a7514c369d434a04f20c4825": {
      "model_module": "@jupyter-widgets/controls",
      "model_module_version": "2.0.0",
      "model_name": "DescriptionStyleModel",
      "state": {
       "description_width": ""
      }
     },
     "54645a8558ea44969d3dd2b97efbbc1e": {
      "model_module": "jupyter-leaflet",
      "model_module_version": "^0.17",
      "model_name": "LeafletWidgetControlModel",
      "state": {
       "_model_module": "jupyter-leaflet",
       "_model_module_version": "^0.17",
       "_view_count": null,
       "_view_module": "jupyter-leaflet",
       "_view_module_version": "^0.17",
       "options": [
        "position",
        "transparent_bg"
       ],
       "position": "bottomleft",
       "widget": "IPY_MODEL_c77a695b1d344546a87bb26477713e54"
      }
     },
     "54e797dc03fc416fbb571ccc7e2eb425": {
      "model_module": "@jupyter-widgets/controls",
      "model_module_version": "2.0.0",
      "model_name": "VBoxModel",
      "state": {
       "children": [
        "IPY_MODEL_41548b94887e478ba9ac9c2101fc2e3e",
        "IPY_MODEL_6c792b05677b4836bbba4d3bd8f4793e",
        "IPY_MODEL_3270d6f2dce343f0b09dc6b3b8af1140",
        "IPY_MODEL_e3b9300fc9bf4ce7b4b6e5f99caa4843"
       ],
       "layout": "IPY_MODEL_1b2da72d84f7432d874d27505810bb70"
      }
     },
     "574e18fe21154547b5c34e362583cf2a": {
      "model_module": "@jupyter-widgets/base",
      "model_module_version": "2.0.0",
      "model_name": "LayoutModel",
      "state": {}
     },
     "5d598edbb7eb410c950c626835475a00": {
      "model_module": "@jupyter-widgets/base",
      "model_module_version": "2.0.0",
      "model_name": "LayoutModel",
      "state": {}
     },
     "65be3065376748d9b57d17264d761b1c": {
      "model_module": "jupyter-leaflet",
      "model_module_version": "^0.17",
      "model_name": "LeafletTileLayerModel",
      "state": {
       "_model_module_version": "^0.17",
       "_view_module_version": "^0.17",
       "attribution": "Tiles &copy; Esri &mdash; Esri, DeLorme, NAVTEQ, TomTom, Intermap, iPC, USGS, FAO, NPS, NRCAN, GeoBase, Kadaster NL, Ordnance Survey, Esri Japan, METI, Esri China (Hong Kong), and the GIS User Community",
       "base": true,
       "min_zoom": 1,
       "name": "Esri.WorldTopoMap",
       "options": [
        "attribution",
        "bounds",
        "detect_retina",
        "max_native_zoom",
        "max_zoom",
        "min_native_zoom",
        "min_zoom",
        "no_wrap",
        "tile_size",
        "tms",
        "zoom_offset"
       ],
       "url": "https://server.arcgisonline.com/ArcGIS/rest/services/World_Topo_Map/MapServer/tile/{z}/{y}/{x}"
      }
     },
     "661aa3f826364479957a0734254b082b": {
      "model_module": "jupyter-leaflet",
      "model_module_version": "^0.17",
      "model_name": "LeafletMapStyleModel",
      "state": {
       "_model_module_version": "^0.17"
      }
     },
     "68f4353e7b11468fbae66a1833b84d8d": {
      "model_module": "@jupyter-widgets/base",
      "model_module_version": "2.0.0",
      "model_name": "LayoutModel",
      "state": {}
     },
     "69b6c8a2a0dc447d8e05a3ab8ad8ccd9": {
      "model_module": "@jupyter-widgets/base",
      "model_module_version": "2.0.0",
      "model_name": "LayoutModel",
      "state": {}
     },
     "6c792b05677b4836bbba4d3bd8f4793e": {
      "model_module": "@jupyter-widgets/controls",
      "model_module_version": "2.0.0",
      "model_name": "DropdownModel",
      "state": {
       "_options_labels": [
        "OTIS",
        "netcdf"
       ],
       "description": "ATLAS:",
       "index": 1,
       "layout": "IPY_MODEL_06e1f407e3e84607808239fb4a440db5",
       "style": "IPY_MODEL_ac90ed91649b43c7bcfe6c900795ad55"
      }
     },
     "6fe9abcd1fd24f03b0a41762f5a3c319": {
      "model_module": "@jupyter-widgets/controls",
      "model_module_version": "2.0.0",
      "model_name": "IntSliderModel",
      "state": {
       "behavior": "drag-tap",
       "description": "Zoom level:",
       "layout": "IPY_MODEL_cf9caaee2f154606a0f22aa9ec2e5d1d",
       "max": 15,
       "style": "IPY_MODEL_1869757dafcb4e3c85309bc928c2b131",
       "value": 12
      }
     },
     "70d37819e9e44ec98336544908bdf1ad": {
      "model_module": "@jupyter-widgets/controls",
      "model_module_version": "2.0.0",
      "model_name": "TextModel",
      "state": {
       "description": "Directory:",
       "layout": "IPY_MODEL_69b6c8a2a0dc447d8e05a3ab8ad8ccd9",
       "style": "IPY_MODEL_832d26fdf1004af48472deeabeee9caf",
       "value": "C:/Users/drewv/Documents/Python/code"
      }
     },
     "75bad7105c4d4ee780d5071c84046569": {
      "model_module": "@jupyter-widgets/base",
      "model_module_version": "2.0.0",
      "model_name": "LayoutModel",
      "state": {}
     },
     "7930c6b0668a42f68f34a7bb853458e2": {
      "model_module": "@jupyter-widgets/base",
      "model_module_version": "2.0.0",
      "model_name": "LayoutModel",
      "state": {}
     },
     "832d26fdf1004af48472deeabeee9caf": {
      "model_module": "@jupyter-widgets/controls",
      "model_module_version": "2.0.0",
      "model_name": "TextStyleModel",
      "state": {
       "description_width": "",
       "font_size": null,
       "text_color": null
      }
     },
     "894ba7406367419ca78e1456cc051f25": {
      "model_module": "@jupyter-widgets/controls",
      "model_module_version": "2.0.0",
      "model_name": "TextStyleModel",
      "state": {
       "description_width": "",
       "font_size": null,
       "text_color": null
      }
     },
     "8c783efd0fee419f830c98ef76a6147e": {
      "model_module": "@jupyter-widgets/controls",
      "model_module_version": "2.0.0",
      "model_name": "CheckboxModel",
      "state": {
       "description": "Compressed?",
       "disabled": false,
       "layout": "IPY_MODEL_35c5827993b64bdeab9eed65006b8c4c",
       "style": "IPY_MODEL_9f553c87ba764c8f80b506e9a576309a",
       "value": false
      }
     },
     "8f1d2d5cb13148419688f8dd686fe359": {
      "model_module": "@jupyter-widgets/base",
      "model_module_version": "2.0.0",
      "model_name": "LayoutModel",
      "state": {}
     },
     "911356781f6f423b8958b4f1dfdb94c2": {
      "model_module": "jupyter-leaflet",
      "model_module_version": "^0.17",
      "model_name": "LeafletMarkerModel",
      "state": {
       "_model_module_version": "^0.17",
       "_view_module_version": "^0.17",
       "location": [
        -22.551857,
        43.27194
       ],
       "options": [
        "alt",
        "draggable",
        "keyboard",
        "rise_offset",
        "rise_on_hover",
        "rotation_angle",
        "rotation_origin",
        "title",
        "z_index_offset"
       ]
      }
     },
     "9382bc02e9d747239e520b4719940e5a": {
      "model_module": "@jupyter-widgets/controls",
      "model_module_version": "2.0.0",
      "model_name": "TextStyleModel",
      "state": {
       "description_width": "",
       "font_size": null,
       "text_color": null
      }
     },
     "9bd303d3fbcc44dd9bade8f0d5a3d50f": {
      "model_module": "@jupyter-widgets/base",
      "model_module_version": "2.0.0",
      "model_name": "LayoutModel",
      "state": {}
     },
     "9f553c87ba764c8f80b506e9a576309a": {
      "model_module": "@jupyter-widgets/controls",
      "model_module_version": "2.0.0",
      "model_name": "CheckboxStyleModel",
      "state": {
       "description_width": ""
      }
     },
     "a32aadece14445e7a8db15b8082e7b49": {
      "model_module": "jupyter-leaflet",
      "model_module_version": "^0.17",
      "model_name": "LeafletMapStyleModel",
      "state": {
       "_model_module_version": "^0.17"
      }
     },
     "ac90ed91649b43c7bcfe6c900795ad55": {
      "model_module": "@jupyter-widgets/controls",
      "model_module_version": "2.0.0",
      "model_name": "DescriptionStyleModel",
      "state": {
       "description_width": ""
      }
     },
     "b175e874e2ed4d95af5d883335fe9f0a": {
      "model_module": "@jupyter-widgets/base",
      "model_module_version": "2.0.0",
      "model_name": "LayoutModel",
      "state": {}
     },
     "b1bf70f0d8654312aa01cb11a6d7365a": {
      "model_module": "jupyter-leaflet",
      "model_module_version": "^0.17",
      "model_name": "LeafletLayersControlModel",
      "state": {
       "_model_module_version": "^0.17",
       "_view_module_version": "^0.17",
       "options": [
        "position"
       ]
      }
     },
     "bc36a2ceedda4db5973601e9f1fd486b": {
      "model_module": "@jupyter-widgets/controls",
      "model_module_version": "2.0.0",
      "model_name": "TextModel",
      "state": {
       "description": "Lat/Lon:",
       "layout": "IPY_MODEL_1e66ad36c50c4245a35f9e3d5fc06e71",
       "style": "IPY_MODEL_894ba7406367419ca78e1456cc051f25",
       "value": "-22.55185700,43.27194000"
      }
     },
     "c25c30e0502a45cd938227e5eb60f9c8": {
      "model_module": "@jupyter-widgets/controls",
      "model_module_version": "2.0.0",
      "model_name": "LinkModel",
      "state": {
       "source": [
        "IPY_MODEL_6fe9abcd1fd24f03b0a41762f5a3c319",
        "value"
       ],
       "target": [
        "IPY_MODEL_cffba3c5b4d4490fabfcd2ef3b3c6f22",
        "zoom"
       ]
      }
     },
     "c303124220b346ac9158960b1da681f9": {
      "model_module": "@jupyter-widgets/controls",
      "model_module_version": "2.0.0",
      "model_name": "DescriptionStyleModel",
      "state": {
       "description_width": ""
      }
     },
     "c77a695b1d344546a87bb26477713e54": {
      "model_module": "@jupyter-widgets/controls",
      "model_module_version": "2.0.0",
      "model_name": "LabelModel",
      "state": {
       "layout": "IPY_MODEL_8f1d2d5cb13148419688f8dd686fe359",
       "style": "IPY_MODEL_dc87957ef58c4080a7f98032d18e10bc",
       "value": "Latitude: -22.6044°,\n                Longitude:  43.3696°"
      }
     },
     "c7c6833dddba4cd99e7316e3819f47bf": {
      "model_module": "@jupyter-widgets/controls",
      "model_module_version": "2.0.0",
      "model_name": "DatePickerModel",
      "state": {
       "description": "Date:",
       "disabled": false,
       "layout": "IPY_MODEL_7930c6b0668a42f68f34a7bb853458e2",
       "max": null,
       "min": null,
       "step": 1,
       "style": "IPY_MODEL_c303124220b346ac9158960b1da681f9",
       "value": {
        "date": 22,
        "month": 4,
        "year": 2023
       }
      }
     },
     "cf9caaee2f154606a0f22aa9ec2e5d1d": {
      "model_module": "@jupyter-widgets/base",
      "model_module_version": "2.0.0",
      "model_name": "LayoutModel",
      "state": {}
     },
     "cffba3c5b4d4490fabfcd2ef3b3c6f22": {
      "model_module": "jupyter-leaflet",
      "model_module_version": "^0.17",
      "model_name": "LeafletMapModel",
      "state": {
       "_model_module_version": "^0.17",
       "_view_module_version": "^0.17",
       "bottom": 591940,
       "center": [
        -22.551857,
        43.27194
       ],
       "controls": [
        "IPY_MODEL_ea6e8376e3bf4105a05d6958caa37423",
        "IPY_MODEL_32c1cfa60d7c4b89a37c9305b1585057",
        "IPY_MODEL_d7f12d91cab0412b84a5c43b9589e449",
        "IPY_MODEL_b1bf70f0d8654312aa01cb11a6d7365a",
        "IPY_MODEL_3f7ce86e84da4516ac52d45e2c36f979",
        "IPY_MODEL_54645a8558ea44969d3dd2b97efbbc1e",
        "IPY_MODEL_2a53270acb1647c79b18b833831f0990"
       ],
       "default_style": "IPY_MODEL_661aa3f826364479957a0734254b082b",
       "dragging_style": "IPY_MODEL_1dcd5d03eb874b14bc295c34b4e0768e",
       "east": 43.440284729003906,
       "fullscreen": false,
       "interpolation": "bilinear",
       "layers": [
        "IPY_MODEL_65be3065376748d9b57d17264d761b1c",
        "IPY_MODEL_911356781f6f423b8958b4f1dfdb94c2"
       ],
       "layout": "IPY_MODEL_b175e874e2ed4d95af5d883335fe9f0a",
       "left": 649837,
       "max_zoom": 15,
       "modisdate": "2023-05-21",
       "north": -22.488450688325408,
       "options": [
        "bounce_at_zoom_limits",
        "box_zoom",
        "center",
        "close_popup_on_click",
        "double_click_zoom",
        "dragging",
        "fullscreen",
        "inertia",
        "inertia_deceleration",
        "inertia_max_speed",
        "interpolation",
        "keyboard",
        "keyboard_pan_offset",
        "keyboard_zoom_offset",
        "max_zoom",
        "min_zoom",
        "prefer_canvas",
        "scroll_wheel_zoom",
        "tap",
        "tap_tolerance",
        "touch_zoom",
        "world_copy_jump",
        "zoom",
        "zoom_animation_threshold",
        "zoom_delta",
        "zoom_snap"
       ],
       "prefer_canvas": false,
       "right": 650817,
       "south": -22.61527857573351,
       "style": "IPY_MODEL_a32aadece14445e7a8db15b8082e7b49",
       "top": 591540,
       "west": 43.10382843017579,
       "window_url": "http://localhost:8888/notebooks/Documents/Python/code/TMD.ipynb",
       "world_copy_jump": true
      }
     },
     "d6156e57c4fe430aadb7ba1b91b9a242": {
      "model_module": "@jupyter-widgets/base",
      "model_module_version": "2.0.0",
      "model_name": "LayoutModel",
      "state": {}
     },
     "d7f12d91cab0412b84a5c43b9589e449": {
      "model_module": "jupyter-leaflet",
      "model_module_version": "^0.17",
      "model_name": "LeafletAttributionControlModel",
      "state": {
       "_model_module_version": "^0.17",
       "_view_module_version": "^0.17",
       "options": [
        "position",
        "prefix"
       ],
       "position": "bottomright",
       "prefix": "ipyleaflet"
      }
     },
     "d9b46e944a0a4e47bf9019e5ef11bb24": {
      "model_module": "@jupyter-widgets/controls",
      "model_module_version": "2.0.0",
      "model_name": "DescriptionStyleModel",
      "state": {
       "description_width": ""
      }
     },
     "da0eb23afde8425cb9bb93b0cde59bec": {
      "model_module": "@jupyter-widgets/controls",
      "model_module_version": "2.0.0",
      "model_name": "TextModel",
      "state": {
       "description": "Directory:",
       "layout": "IPY_MODEL_9bd303d3fbcc44dd9bade8f0d5a3d50f",
       "style": "IPY_MODEL_1b44294d70974416a916e5da21c3dcf8",
       "value": "C:/Users/drewv/Documents/Python/code"
      }
     },
     "da6a1d103cac4a06ae166e3c49dd895b": {
      "model_module": "@jupyter-widgets/controls",
      "model_module_version": "2.0.0",
      "model_name": "VBoxModel",
      "state": {
       "children": [
        "IPY_MODEL_2e296ff920b64bc8b4e770e6193e5588",
        "IPY_MODEL_33ea2c95732649e4adae60fa02f829e6",
        "IPY_MODEL_8c783efd0fee419f830c98ef76a6147e",
        "IPY_MODEL_0db7ad5426fc477c8be40d788c44267e"
       ],
       "layout": "IPY_MODEL_d6156e57c4fe430aadb7ba1b91b9a242"
      }
     },
     "dc87957ef58c4080a7f98032d18e10bc": {
      "model_module": "@jupyter-widgets/controls",
      "model_module_version": "2.0.0",
      "model_name": "LabelStyleModel",
      "state": {
       "description_width": "",
       "font_family": null,
       "font_size": null,
       "font_style": null,
       "font_variant": null,
       "font_weight": null,
       "text_color": null,
       "text_decoration": null
      }
     },
     "dfc469b7e01440e088a0f09bbd36dbc5": {
      "model_module": "@jupyter-widgets/base",
      "model_module_version": "2.0.0",
      "model_name": "LayoutModel",
      "state": {}
     },
     "e141fc859baf419c99e0feabeb5eadc9": {
      "model_module": "@jupyter-widgets/base",
      "model_module_version": "2.0.0",
      "model_name": "LayoutModel",
      "state": {
       "display": "inline-flex"
      }
     },
     "e3b9300fc9bf4ce7b4b6e5f99caa4843": {
      "model_module": "@jupyter-widgets/controls",
      "model_module_version": "2.0.0",
      "model_name": "DatePickerModel",
      "state": {
       "description": "Date:",
       "disabled": false,
       "layout": "IPY_MODEL_ec1fb4f1c20144e8acd2e08441c1c7f6",
       "max": null,
       "min": null,
       "step": 1,
       "style": "IPY_MODEL_14159f1fedda4a7d9ed335d2473070a1",
       "value": {
        "date": 22,
        "month": 4,
        "year": 2023
       }
      }
     },
     "e4a93d4fe6c846f28a6758c2fa56e315": {
      "model_module": "@jupyter-widgets/base",
      "model_module_version": "2.0.0",
      "model_name": "LayoutModel",
      "state": {
       "display": "inline-flex"
      }
     },
     "e9e2278805e549068becb8888d02afac": {
      "model_module": "@jupyter-widgets/controls",
      "model_module_version": "2.0.0",
      "model_name": "DescriptionStyleModel",
      "state": {
       "description_width": ""
      }
     },
     "ea6e8376e3bf4105a05d6958caa37423": {
      "model_module": "jupyter-leaflet",
      "model_module_version": "^0.17",
      "model_name": "LeafletAttributionControlModel",
      "state": {
       "_model_module_version": "^0.17",
       "_view_module_version": "^0.17",
       "options": [
        "position",
        "prefix"
       ],
       "position": "bottomright",
       "prefix": "ipyleaflet"
      }
     },
     "ec1fb4f1c20144e8acd2e08441c1c7f6": {
      "model_module": "@jupyter-widgets/base",
      "model_module_version": "2.0.0",
      "model_name": "LayoutModel",
      "state": {}
     },
     "ee69c6680c8a4165989bd7977bb4eeba": {
      "model_module": "@jupyter-widgets/base",
      "model_module_version": "2.0.0",
      "model_name": "LayoutModel",
      "state": {}
     },
     "f37180c1ecfa40ad88c4b6c1cb7d8170": {
      "model_module": "@jupyter-widgets/base",
      "model_module_version": "2.0.0",
      "model_name": "LayoutModel",
      "state": {}
     },
     "f3721c1ebabd45208ef760dd5e2e0702": {
      "model_module": "@jupyter-widgets/base",
      "model_module_version": "2.0.0",
      "model_name": "LayoutModel",
      "state": {}
     }
    },
    "version_major": 2,
    "version_minor": 0
   }
  }
 },
 "nbformat": 4,
 "nbformat_minor": 5
}
